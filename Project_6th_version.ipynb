{
 "cells": [
  {
   "cell_type": "markdown",
   "metadata": {},
   "source": [
    "<img style=\"width:100%\" src=\"https://lh3.googleusercontent.com/1KtDnHo8vrJjso7gzfYRqOUOEh2Th5rFsXSQv-XfDc3G4EiFIx-E9IbEahvYAodH9xRVFtdEcOs-KxkPRhuWgniCxqKWTnAFOi6-RJAZ7uyELjwgunLma6RTzlwwC1PS5aoMWPSzvBt_S1DCPEwbKchV7XwIa9A91XS1xkBbcB0RgfFGp20GGxAcR7LcJk56FuaJcSzY_SxPjyqzx_InhrAN3Z1CdKM6A5EkVdnBfqD7ygObifR_zHZVFWUX76dY9uIjL65GvhcPvI-FZBrdbdKbLDvDMERjv6-H_tBTH0ekRW9WhZo3V-bl66cvcyGhkEkE8JKZ6danXsErSiIayrZ7WeJ-GZhjCQgb9IHPc4WLWMJut9UnZI7aoLpgsogN_DSf5yT7TnSN1s_taXbGs2mlNWZ6Rh5RFxWeku1sX9daEAvGWKMBtYp_RXJ75HHnvN-LTv34yJrjsHJsjm9LB4vwfNu0-GVf4ax8xEL5Jei6yOfUfr_xNfsGejJtLpacNWa82A5z4j5pdK0O5FSmgqHhxoAqW-x-LExGf3NYfgCLQ4AND331i7ZGx1cv1RCzioN6pQ6cq3G0wqjaSZ3CjaGFWaQxixE2Jg6jzUMAIL4cHQShMfl37EDC=w1898-h410-no\" />"
   ]
  },
  {
   "cell_type": "markdown",
   "metadata": {},
   "source": [
    "### Category:\n",
    "\n",
    "- <a href=\"#Description\">Description</a>\n",
    "- <a href='#Sample'>Sample Data</a>\n",
    "- <a href='#Data'>Data Preprocessing</a>\n",
    "  - Data Reduction\n",
    "  - Check Missing Values\n",
    "- <a href='#Feature Engineering'>Feature Engineering</a>\n",
    " - Add Features\n",
    " - Scale Numeric Features\n",
    "- <a href='#Encoding'>Dealing with Data Types</a>\n",
    " - Bucket low frequency categories\n",
    " - Encoding 'company', 'category', and 'brand'\n",
    "- <a href='#Exploratory Data Analysis'>Exploratory Data Analysis</a>\n",
    " - Outlier Detection\n",
    " - Corrletation Heatmap\n",
    " - Univariate Plots\n",
    "- <a href='#Implementing Algorithms'>Model Execution Strategy</a>\n",
    " - Single Model\n",
    " - Ensemble Model\n",
    " - Stacking"
   ]
  },
  {
   "cell_type": "markdown",
   "metadata": {},
   "source": [
    "### Description <a name='Description' />\n",
    "The competition is to predict repeat buyers (those who redeem a coupon and purchase that product afterwards). For this we have the labelled data (did become repeat buyer, did not become repeat buyer) for about 160,000 shoppers (the trainHistory set).\n",
    "\n",
    "Our task is to predict the labels for about 150,000 other shoppers (the testHisotory set). For this we can use a file called transactions.csv. It’s a huge file (unzipped about 22GB) containing nearly 350 million rows. The total amount spend in the transaction data is nearing 1.5 billion."
   ]
  },
  {
   "cell_type": "markdown",
   "metadata": {},
   "source": [
    "### Sample Data <a name='Sample' />\n",
    "We use a sample dataset with only a few shoppers to explore the transaction data."
   ]
  },
  {
   "cell_type": "code",
   "execution_count": 37,
   "metadata": {
    "collapsed": false
   },
   "outputs": [],
   "source": [
    "import numpy as np \n",
    "import pandas as pd\n",
    "from datetime import datetime"
   ]
  },
  {
   "cell_type": "code",
   "execution_count": 2,
   "metadata": {
    "collapsed": true
   },
   "outputs": [],
   "source": [
    "sample = pd.read_csv('sample.csv')"
   ]
  },
  {
   "cell_type": "code",
   "execution_count": 3,
   "metadata": {
    "collapsed": false
   },
   "outputs": [
    {
     "data": {
      "text/plain": [
       "array([205])"
      ]
     },
     "execution_count": 3,
     "metadata": {},
     "output_type": "execute_result"
    }
   ],
   "source": [
    "sample.chain.unique()"
   ]
  },
  {
   "cell_type": "code",
   "execution_count": 4,
   "metadata": {
    "collapsed": false
   },
   "outputs": [
    {
     "data": {
      "text/html": [
       "<div>\n",
       "<style>\n",
       "    .dataframe thead tr:only-child th {\n",
       "        text-align: right;\n",
       "    }\n",
       "\n",
       "    .dataframe thead th {\n",
       "        text-align: left;\n",
       "    }\n",
       "\n",
       "    .dataframe tbody tr th {\n",
       "        vertical-align: top;\n",
       "    }\n",
       "</style>\n",
       "<table border=\"1\" class=\"dataframe\">\n",
       "  <thead>\n",
       "    <tr style=\"text-align: right;\">\n",
       "      <th></th>\n",
       "      <th>id</th>\n",
       "      <th>chain</th>\n",
       "      <th>dept</th>\n",
       "      <th>category</th>\n",
       "      <th>company</th>\n",
       "      <th>brand</th>\n",
       "      <th>date</th>\n",
       "      <th>productsize</th>\n",
       "      <th>productmeasure</th>\n",
       "      <th>purchasequantity</th>\n",
       "      <th>purchaseamount</th>\n",
       "    </tr>\n",
       "  </thead>\n",
       "  <tbody>\n",
       "    <tr>\n",
       "      <th>0</th>\n",
       "      <td>86246</td>\n",
       "      <td>205</td>\n",
       "      <td>7</td>\n",
       "      <td>707</td>\n",
       "      <td>1078778070</td>\n",
       "      <td>12564</td>\n",
       "      <td>2012-03-02</td>\n",
       "      <td>12.0</td>\n",
       "      <td>OZ</td>\n",
       "      <td>1</td>\n",
       "      <td>7.59</td>\n",
       "    </tr>\n",
       "    <tr>\n",
       "      <th>1</th>\n",
       "      <td>86246</td>\n",
       "      <td>205</td>\n",
       "      <td>63</td>\n",
       "      <td>6319</td>\n",
       "      <td>107654575</td>\n",
       "      <td>17876</td>\n",
       "      <td>2012-03-02</td>\n",
       "      <td>64.0</td>\n",
       "      <td>OZ</td>\n",
       "      <td>1</td>\n",
       "      <td>1.59</td>\n",
       "    </tr>\n",
       "    <tr>\n",
       "      <th>2</th>\n",
       "      <td>86246</td>\n",
       "      <td>205</td>\n",
       "      <td>97</td>\n",
       "      <td>9753</td>\n",
       "      <td>1022027929</td>\n",
       "      <td>0</td>\n",
       "      <td>2012-03-02</td>\n",
       "      <td>1.0</td>\n",
       "      <td>CT</td>\n",
       "      <td>1</td>\n",
       "      <td>5.99</td>\n",
       "    </tr>\n",
       "    <tr>\n",
       "      <th>3</th>\n",
       "      <td>86246</td>\n",
       "      <td>205</td>\n",
       "      <td>25</td>\n",
       "      <td>2509</td>\n",
       "      <td>107996777</td>\n",
       "      <td>31373</td>\n",
       "      <td>2012-03-02</td>\n",
       "      <td>16.0</td>\n",
       "      <td>OZ</td>\n",
       "      <td>1</td>\n",
       "      <td>1.99</td>\n",
       "    </tr>\n",
       "    <tr>\n",
       "      <th>4</th>\n",
       "      <td>86246</td>\n",
       "      <td>205</td>\n",
       "      <td>55</td>\n",
       "      <td>5555</td>\n",
       "      <td>107684070</td>\n",
       "      <td>32094</td>\n",
       "      <td>2012-03-02</td>\n",
       "      <td>16.0</td>\n",
       "      <td>OZ</td>\n",
       "      <td>2</td>\n",
       "      <td>10.38</td>\n",
       "    </tr>\n",
       "  </tbody>\n",
       "</table>\n",
       "</div>"
      ],
      "text/plain": [
       "      id  chain  dept  category     company  brand        date  productsize  \\\n",
       "0  86246    205     7       707  1078778070  12564  2012-03-02         12.0   \n",
       "1  86246    205    63      6319   107654575  17876  2012-03-02         64.0   \n",
       "2  86246    205    97      9753  1022027929      0  2012-03-02          1.0   \n",
       "3  86246    205    25      2509   107996777  31373  2012-03-02         16.0   \n",
       "4  86246    205    55      5555   107684070  32094  2012-03-02         16.0   \n",
       "\n",
       "  productmeasure  purchasequantity  purchaseamount  \n",
       "0             OZ                 1            7.59  \n",
       "1             OZ                 1            1.59  \n",
       "2             CT                 1            5.99  \n",
       "3             OZ                 1            1.99  \n",
       "4             OZ                 2           10.38  "
      ]
     },
     "execution_count": 4,
     "metadata": {},
     "output_type": "execute_result"
    }
   ],
   "source": [
    "sample.head()"
   ]
  },
  {
   "cell_type": "markdown",
   "metadata": {},
   "source": [
    "### Data Preprocessing <a name='Data' />\n",
    "\n",
    "#### 1. Data Reduction\n",
    " - Chosing transactions from  **chain=2,4,6,8,10,12,14**. Output into a new file \"reduced2.csv\"\n",
    " - Keeping data only from 1 year from \"reduced2.csv\". Output into a new file \"data_s.csv\"\n",
    " - Using only customers in trainHistory which have at least one transaction in the reduced transaction dataset\n",
    " - Inner join train_reduced & \"offers.csv\" on offer. Output into a new file \"combine.csv\"  \n",
    "\n",
    "#### 2. Check Missing Values\n",
    " - combine.csv\n",
    " - data_s.csv"
   ]
  },
  {
   "cell_type": "code",
   "execution_count": 5,
   "metadata": {
    "collapsed": false
   },
   "outputs": [],
   "source": [
    "loc_transactions = \"transactions.csv\"\n",
    "loc_reduced = \"reduced2.csv\"  #Output file \n",
    "def reduce_data(loc_transactions, loc_reduced):\n",
    "    with open(loc_reduced, \"wb\") as outfile:\n",
    "        for e, line in enumerate( open(loc_transactions) ):\n",
    "            if line.split(\",\")[1] in ['2','4','6','8','10','12','14']:  # If you want larger data, use ['2,'4','8'] instead of ['4'].\n",
    "                outfile.write( line )\n",
    "\n",
    "reduce_data(loc_transactions, loc_reduced)\n",
    "#reduced2.csv contains transactions from chain_id = 2,4,6,8 \n",
    "#redcued2.csv is your new transactions data. Use customers in this transaction data to build a model."
   ]
  },
  {
   "cell_type": "code",
   "execution_count": 6,
   "metadata": {
    "collapsed": false,
    "scrolled": true
   },
   "outputs": [],
   "source": [
    "import pandas as pd\n",
    "data=pd.read_csv(\"reduced2.csv\",header=None,names=[\"id\",\"chain\",\"dept\",'category','company','brand','date','productsize','productmeasure','productquantity','productamount'])"
   ]
  },
  {
   "cell_type": "code",
   "execution_count": 7,
   "metadata": {
    "collapsed": false
   },
   "outputs": [
    {
     "name": "stdout",
     "output_type": "stream",
     "text": [
      "[ 4 14  2 12  8 10  6]\n"
     ]
    }
   ],
   "source": [
    "print data.chain.unique()"
   ]
  },
  {
   "cell_type": "code",
   "execution_count": 376,
   "metadata": {
    "collapsed": true
   },
   "outputs": [],
   "source": [
    "##########################################"
   ]
  },
  {
   "cell_type": "code",
   "execution_count": 8,
   "metadata": {
    "collapsed": false
   },
   "outputs": [],
   "source": [
    "#Keeping data only from 1 year from \"reduced2.csv\"\n",
    "drops=[]\n",
    "for i in range(len(data.id)):\n",
    "    dates=data.date[i].strip().split('-')\n",
    "    if (dates[0]=='2012' and int(dates[1])>=5) or (dates[0]=='2013' and int(dates[1])<5):\n",
    "        a=1\n",
    "    else:\n",
    "        drops.append(data.index[i])\n",
    "        \n",
    "data_s=data.drop(drops)\n",
    "data_s.reset_index(inplace=True,drop=True)"
   ]
  },
  {
   "cell_type": "code",
   "execution_count": 9,
   "metadata": {
    "collapsed": true
   },
   "outputs": [],
   "source": [
    "data_s.to_csv('data_s.csv',index=False)"
   ]
  },
  {
   "cell_type": "code",
   "execution_count": 10,
   "metadata": {
    "collapsed": false
   },
   "outputs": [
    {
     "data": {
      "text/html": [
       "<div>\n",
       "<style>\n",
       "    .dataframe thead tr:only-child th {\n",
       "        text-align: right;\n",
       "    }\n",
       "\n",
       "    .dataframe thead th {\n",
       "        text-align: left;\n",
       "    }\n",
       "\n",
       "    .dataframe tbody tr th {\n",
       "        vertical-align: top;\n",
       "    }\n",
       "</style>\n",
       "<table border=\"1\" class=\"dataframe\">\n",
       "  <thead>\n",
       "    <tr style=\"text-align: right;\">\n",
       "      <th></th>\n",
       "      <th>id</th>\n",
       "      <th>chain</th>\n",
       "      <th>dept</th>\n",
       "      <th>category</th>\n",
       "      <th>company</th>\n",
       "      <th>brand</th>\n",
       "      <th>date</th>\n",
       "      <th>productsize</th>\n",
       "      <th>productmeasure</th>\n",
       "      <th>productquantity</th>\n",
       "      <th>productamount</th>\n",
       "    </tr>\n",
       "  </thead>\n",
       "  <tbody>\n",
       "    <tr>\n",
       "      <th>0</th>\n",
       "      <td>12524696</td>\n",
       "      <td>4</td>\n",
       "      <td>58</td>\n",
       "      <td>5825</td>\n",
       "      <td>102113020</td>\n",
       "      <td>15704</td>\n",
       "      <td>2012-05-03</td>\n",
       "      <td>14.00</td>\n",
       "      <td>OZ</td>\n",
       "      <td>2</td>\n",
       "      <td>5.70</td>\n",
       "    </tr>\n",
       "    <tr>\n",
       "      <th>1</th>\n",
       "      <td>12524696</td>\n",
       "      <td>4</td>\n",
       "      <td>9</td>\n",
       "      <td>907</td>\n",
       "      <td>102113020</td>\n",
       "      <td>15704</td>\n",
       "      <td>2012-05-03</td>\n",
       "      <td>16.00</td>\n",
       "      <td>OZ</td>\n",
       "      <td>1</td>\n",
       "      <td>1.69</td>\n",
       "    </tr>\n",
       "    <tr>\n",
       "      <th>2</th>\n",
       "      <td>12524696</td>\n",
       "      <td>4</td>\n",
       "      <td>4</td>\n",
       "      <td>419</td>\n",
       "      <td>1074759979</td>\n",
       "      <td>7168</td>\n",
       "      <td>2012-05-03</td>\n",
       "      <td>3.17</td>\n",
       "      <td>OZ</td>\n",
       "      <td>1</td>\n",
       "      <td>1.70</td>\n",
       "    </tr>\n",
       "    <tr>\n",
       "      <th>3</th>\n",
       "      <td>12524696</td>\n",
       "      <td>4</td>\n",
       "      <td>55</td>\n",
       "      <td>5567</td>\n",
       "      <td>107064070</td>\n",
       "      <td>19704</td>\n",
       "      <td>2012-05-07</td>\n",
       "      <td>21.00</td>\n",
       "      <td>OZ</td>\n",
       "      <td>2</td>\n",
       "      <td>7.00</td>\n",
       "    </tr>\n",
       "    <tr>\n",
       "      <th>4</th>\n",
       "      <td>12524696</td>\n",
       "      <td>4</td>\n",
       "      <td>55</td>\n",
       "      <td>5567</td>\n",
       "      <td>107064070</td>\n",
       "      <td>19704</td>\n",
       "      <td>2012-05-07</td>\n",
       "      <td>24.00</td>\n",
       "      <td>OZ</td>\n",
       "      <td>1</td>\n",
       "      <td>3.50</td>\n",
       "    </tr>\n",
       "  </tbody>\n",
       "</table>\n",
       "</div>"
      ],
      "text/plain": [
       "         id  chain  dept  category     company  brand        date  \\\n",
       "0  12524696      4    58      5825   102113020  15704  2012-05-03   \n",
       "1  12524696      4     9       907   102113020  15704  2012-05-03   \n",
       "2  12524696      4     4       419  1074759979   7168  2012-05-03   \n",
       "3  12524696      4    55      5567   107064070  19704  2012-05-07   \n",
       "4  12524696      4    55      5567   107064070  19704  2012-05-07   \n",
       "\n",
       "   productsize productmeasure  productquantity  productamount  \n",
       "0        14.00             OZ                2           5.70  \n",
       "1        16.00             OZ                1           1.69  \n",
       "2         3.17             OZ                1           1.70  \n",
       "3        21.00             OZ                2           7.00  \n",
       "4        24.00             OZ                1           3.50  "
      ]
     },
     "execution_count": 10,
     "metadata": {},
     "output_type": "execute_result"
    }
   ],
   "source": [
    "data_s.head()"
   ]
  },
  {
   "cell_type": "code",
   "execution_count": 11,
   "metadata": {
    "collapsed": false
   },
   "outputs": [
    {
     "data": {
      "text/plain": [
       "(18717530, 11)"
      ]
     },
     "execution_count": 11,
     "metadata": {},
     "output_type": "execute_result"
    }
   ],
   "source": [
    "data_s.shape"
   ]
  },
  {
   "cell_type": "code",
   "execution_count": 378,
   "metadata": {
    "collapsed": true
   },
   "outputs": [],
   "source": [
    "##########################################"
   ]
  },
  {
   "cell_type": "code",
   "execution_count": 2,
   "metadata": {
    "collapsed": true
   },
   "outputs": [],
   "source": [
    "#Use only customers which have at least one transaction in the reduced transaction dataset\n",
    "train = pd.read_csv('trainHistory.csv')\n",
    "test = pd.read_csv('testHistory.csv')\n",
    "offer = pd.read_csv('offers.csv')\n",
    "data_s = pd.read_csv('data_s.csv')"
   ]
  },
  {
   "cell_type": "code",
   "execution_count": 13,
   "metadata": {
    "collapsed": false
   },
   "outputs": [
    {
     "data": {
      "text/plain": [
       "(9126861, 17)"
      ]
     },
     "execution_count": 13,
     "metadata": {},
     "output_type": "execute_result"
    }
   ],
   "source": [
    "cust_s_train = pd.merge(data_s,train,on=['id'])\n",
    "cust_s_train.shape"
   ]
  },
  {
   "cell_type": "code",
   "execution_count": 14,
   "metadata": {
    "collapsed": false
   },
   "outputs": [
    {
     "data": {
      "text/plain": [
       "9760"
      ]
     },
     "execution_count": 14,
     "metadata": {},
     "output_type": "execute_result"
    }
   ],
   "source": [
    "unique = cust_s_train.id.unique()\n",
    "len(unique)"
   ]
  },
  {
   "cell_type": "code",
   "execution_count": 15,
   "metadata": {
    "collapsed": false
   },
   "outputs": [
    {
     "data": {
      "text/plain": [
       "(9760, 7)"
      ]
     },
     "execution_count": 15,
     "metadata": {},
     "output_type": "execute_result"
    }
   ],
   "source": [
    "train_reduced = train[train['id'].isin(unique)]\n",
    "train_reduced.shape"
   ]
  },
  {
   "cell_type": "code",
   "execution_count": 10,
   "metadata": {
    "collapsed": true
   },
   "outputs": [],
   "source": [
    "##########################################"
   ]
  },
  {
   "cell_type": "code",
   "execution_count": 16,
   "metadata": {
    "collapsed": false
   },
   "outputs": [
    {
     "data": {
      "text/html": [
       "<div>\n",
       "<style>\n",
       "    .dataframe thead tr:only-child th {\n",
       "        text-align: right;\n",
       "    }\n",
       "\n",
       "    .dataframe thead th {\n",
       "        text-align: left;\n",
       "    }\n",
       "\n",
       "    .dataframe tbody tr th {\n",
       "        vertical-align: top;\n",
       "    }\n",
       "</style>\n",
       "<table border=\"1\" class=\"dataframe\">\n",
       "  <thead>\n",
       "    <tr style=\"text-align: right;\">\n",
       "      <th></th>\n",
       "      <th>id</th>\n",
       "      <th>chain</th>\n",
       "      <th>offer</th>\n",
       "      <th>market</th>\n",
       "      <th>repeattrips</th>\n",
       "      <th>repeater</th>\n",
       "      <th>offerdate</th>\n",
       "      <th>category</th>\n",
       "      <th>quantity</th>\n",
       "      <th>company</th>\n",
       "      <th>offervalue</th>\n",
       "      <th>brand</th>\n",
       "    </tr>\n",
       "  </thead>\n",
       "  <tbody>\n",
       "    <tr>\n",
       "      <th>0</th>\n",
       "      <td>13179265</td>\n",
       "      <td>14</td>\n",
       "      <td>1197502</td>\n",
       "      <td>8</td>\n",
       "      <td>0</td>\n",
       "      <td>f</td>\n",
       "      <td>2013-03-29</td>\n",
       "      <td>3203</td>\n",
       "      <td>1</td>\n",
       "      <td>106414464</td>\n",
       "      <td>0.75</td>\n",
       "      <td>13474</td>\n",
       "    </tr>\n",
       "    <tr>\n",
       "      <th>1</th>\n",
       "      <td>13873775</td>\n",
       "      <td>4</td>\n",
       "      <td>1197502</td>\n",
       "      <td>1</td>\n",
       "      <td>0</td>\n",
       "      <td>f</td>\n",
       "      <td>2013-03-26</td>\n",
       "      <td>3203</td>\n",
       "      <td>1</td>\n",
       "      <td>106414464</td>\n",
       "      <td>0.75</td>\n",
       "      <td>13474</td>\n",
       "    </tr>\n",
       "    <tr>\n",
       "      <th>2</th>\n",
       "      <td>13974451</td>\n",
       "      <td>4</td>\n",
       "      <td>1197502</td>\n",
       "      <td>1</td>\n",
       "      <td>0</td>\n",
       "      <td>f</td>\n",
       "      <td>2013-03-26</td>\n",
       "      <td>3203</td>\n",
       "      <td>1</td>\n",
       "      <td>106414464</td>\n",
       "      <td>0.75</td>\n",
       "      <td>13474</td>\n",
       "    </tr>\n",
       "    <tr>\n",
       "      <th>3</th>\n",
       "      <td>14381137</td>\n",
       "      <td>4</td>\n",
       "      <td>1197502</td>\n",
       "      <td>1</td>\n",
       "      <td>0</td>\n",
       "      <td>f</td>\n",
       "      <td>2013-04-04</td>\n",
       "      <td>3203</td>\n",
       "      <td>1</td>\n",
       "      <td>106414464</td>\n",
       "      <td>0.75</td>\n",
       "      <td>13474</td>\n",
       "    </tr>\n",
       "    <tr>\n",
       "      <th>4</th>\n",
       "      <td>15941277</td>\n",
       "      <td>14</td>\n",
       "      <td>1197502</td>\n",
       "      <td>8</td>\n",
       "      <td>1</td>\n",
       "      <td>t</td>\n",
       "      <td>2013-03-26</td>\n",
       "      <td>3203</td>\n",
       "      <td>1</td>\n",
       "      <td>106414464</td>\n",
       "      <td>0.75</td>\n",
       "      <td>13474</td>\n",
       "    </tr>\n",
       "  </tbody>\n",
       "</table>\n",
       "</div>"
      ],
      "text/plain": [
       "         id  chain    offer  market  repeattrips repeater   offerdate  \\\n",
       "0  13179265     14  1197502       8            0        f  2013-03-29   \n",
       "1  13873775      4  1197502       1            0        f  2013-03-26   \n",
       "2  13974451      4  1197502       1            0        f  2013-03-26   \n",
       "3  14381137      4  1197502       1            0        f  2013-04-04   \n",
       "4  15941277     14  1197502       8            1        t  2013-03-26   \n",
       "\n",
       "   category  quantity    company  offervalue  brand  \n",
       "0      3203         1  106414464        0.75  13474  \n",
       "1      3203         1  106414464        0.75  13474  \n",
       "2      3203         1  106414464        0.75  13474  \n",
       "3      3203         1  106414464        0.75  13474  \n",
       "4      3203         1  106414464        0.75  13474  "
      ]
     },
     "execution_count": 16,
     "metadata": {},
     "output_type": "execute_result"
    }
   ],
   "source": [
    "#Combine train_reduced & \"offers.csv\" on offer\n",
    "combine = pd.merge(train_reduced,offer,on=['offer'])\n",
    "combine.head()"
   ]
  },
  {
   "cell_type": "code",
   "execution_count": null,
   "metadata": {
    "collapsed": true
   },
   "outputs": [],
   "source": [
    "##########################################"
   ]
  },
  {
   "cell_type": "code",
   "execution_count": 27,
   "metadata": {
    "collapsed": false
   },
   "outputs": [
    {
     "data": {
      "text/plain": [
       "id             0\n",
       "chain          0\n",
       "offer          0\n",
       "market         0\n",
       "repeattrips    0\n",
       "repeater       0\n",
       "offerdate      0\n",
       "category       0\n",
       "quantity       0\n",
       "company        0\n",
       "offervalue     0\n",
       "brand          0\n",
       "dtype: int64"
      ]
     },
     "execution_count": 27,
     "metadata": {},
     "output_type": "execute_result"
    }
   ],
   "source": [
    "# Check missing values\n",
    "combine.isnull().sum()"
   ]
  },
  {
   "cell_type": "code",
   "execution_count": 28,
   "metadata": {
    "collapsed": false
   },
   "outputs": [
    {
     "data": {
      "text/plain": [
       "id                      0\n",
       "chain                   0\n",
       "dept                    0\n",
       "category                0\n",
       "company                 0\n",
       "brand                   0\n",
       "date                    0\n",
       "productsize             0\n",
       "productmeasure     675692\n",
       "productquantity         0\n",
       "productamount           0\n",
       "dtype: int64"
      ]
     },
     "execution_count": 28,
     "metadata": {},
     "output_type": "execute_result"
    }
   ],
   "source": [
    "data_s.isnull().sum()"
   ]
  },
  {
   "cell_type": "code",
   "execution_count": 17,
   "metadata": {
    "collapsed": true
   },
   "outputs": [],
   "source": [
    "# Export combined dataset\n",
    "combine.to_csv('combine.csv',index=False)"
   ]
  },
  {
   "cell_type": "markdown",
   "metadata": {},
   "source": [
    "### Feature Engineering <a name=\"Feature Engineering\" />\n",
    "\n",
    "**A large part of this competition is feature engineering: Creating good indicative features from the purchase history.**\n",
    "\n",
    "We will generate the following features:\n",
    "\n",
    "**total_spend**: the total amount spend by the shopper in the reduced dataset  \n",
    "**total_quant**: the total quantity (number of units) spend by the shopper in the reduced dataset  \n",
    "**total_trips**: number of unique dates the customer visited the chain  \n",
    "**ave_spend**: average amount spend per trip  \n",
    "**ave_quant**: average quantity spend per trip  \n",
    "\n",
    "**unique_company_bought**: total number of unique companies from bought products  \n",
    "**unique_category_bought**: total number of unique categories from bought products  \n",
    "**unique_brand_bought**: total number of unique brands from bought products  \n",
    "\n",
    "**ave_unique_company_bought**: average number of unique companies from bought products per trip   \n",
    "**ave_unique_category_bought**: average number of unique categories from bought products per trip   \n",
    "**ave_unique_brand_bought**: average number of unique brands from bought products per trip   \n",
    "\n",
    "**days_last_offer**: number of days between last trip and offerdate\n",
    "\n",
    "**has_bought_company**: the number of times a shopper has bought from the company on offer    \n",
    "**has_bought_company_a**: the total amount the shopper has bought from the company on offer  \n",
    "**has_bought_company_q**: the quantity of items bought from the company on offer   \n",
    "**has_bought_company_30**: the number of times a shopper has bought from the company on offer in the 30 days before the date the coupon was offered  \n",
    "**has_bought_company_60**: the number of times a shopper has bought from the company on offer in the 60 days before the date the coupon was offered  \n",
    "......   \n",
    "**has_bought_company_180**: 180 days before  \n",
    "\n",
    "\n",
    "These same features for:\n",
    "\n",
    "**has_bought_category**: the number of times a shopper has bought from the category on offer      \n",
    "**has_bought_brand**: the number of times a shopper has bought from the brand on offer    \n",
    "\n",
    "And:\n",
    "\n",
    "**never_bought_company**: a negative feature for when the shopper has never bought from the company on offer before   \n",
    "**never_bought_category**: a negative feature for when the shopper has never bought from the category on offer before  \n",
    "**never_bought_brand**: a negative feature for when the shopper has never bought from the brand on offer before  \n",
    "**has_bought_company_brand_category**: if this feature is present the shopper has bought from the company, brand, and category on offer      \n",
    "**has_bought_brand_category**: if this feature is present the shopper has bought from the brand and category on offer      \n",
    "**has_bought_brand_company**: if this feature is present the shopper has bought from the brand and company on offer  \n"
   ]
  },
  {
   "cell_type": "code",
   "execution_count": 18,
   "metadata": {
    "collapsed": true
   },
   "outputs": [],
   "source": [
    "combine = pd.read_csv('combine.csv')"
   ]
  },
  {
   "cell_type": "code",
   "execution_count": 19,
   "metadata": {
    "collapsed": false
   },
   "outputs": [
    {
     "data": {
      "text/html": [
       "<div>\n",
       "<style>\n",
       "    .dataframe thead tr:only-child th {\n",
       "        text-align: right;\n",
       "    }\n",
       "\n",
       "    .dataframe thead th {\n",
       "        text-align: left;\n",
       "    }\n",
       "\n",
       "    .dataframe tbody tr th {\n",
       "        vertical-align: top;\n",
       "    }\n",
       "</style>\n",
       "<table border=\"1\" class=\"dataframe\">\n",
       "  <thead>\n",
       "    <tr style=\"text-align: right;\">\n",
       "      <th></th>\n",
       "      <th>id</th>\n",
       "      <th>chain</th>\n",
       "      <th>offer</th>\n",
       "      <th>market</th>\n",
       "      <th>repeattrips</th>\n",
       "      <th>repeater</th>\n",
       "      <th>offerdate</th>\n",
       "      <th>category</th>\n",
       "      <th>quantity</th>\n",
       "      <th>company</th>\n",
       "      <th>offervalue</th>\n",
       "      <th>brand</th>\n",
       "    </tr>\n",
       "  </thead>\n",
       "  <tbody>\n",
       "    <tr>\n",
       "      <th>0</th>\n",
       "      <td>13179265</td>\n",
       "      <td>14</td>\n",
       "      <td>1197502</td>\n",
       "      <td>8</td>\n",
       "      <td>0</td>\n",
       "      <td>f</td>\n",
       "      <td>2013-03-29</td>\n",
       "      <td>3203</td>\n",
       "      <td>1</td>\n",
       "      <td>106414464</td>\n",
       "      <td>0.75</td>\n",
       "      <td>13474</td>\n",
       "    </tr>\n",
       "    <tr>\n",
       "      <th>1</th>\n",
       "      <td>13873775</td>\n",
       "      <td>4</td>\n",
       "      <td>1197502</td>\n",
       "      <td>1</td>\n",
       "      <td>0</td>\n",
       "      <td>f</td>\n",
       "      <td>2013-03-26</td>\n",
       "      <td>3203</td>\n",
       "      <td>1</td>\n",
       "      <td>106414464</td>\n",
       "      <td>0.75</td>\n",
       "      <td>13474</td>\n",
       "    </tr>\n",
       "    <tr>\n",
       "      <th>2</th>\n",
       "      <td>13974451</td>\n",
       "      <td>4</td>\n",
       "      <td>1197502</td>\n",
       "      <td>1</td>\n",
       "      <td>0</td>\n",
       "      <td>f</td>\n",
       "      <td>2013-03-26</td>\n",
       "      <td>3203</td>\n",
       "      <td>1</td>\n",
       "      <td>106414464</td>\n",
       "      <td>0.75</td>\n",
       "      <td>13474</td>\n",
       "    </tr>\n",
       "    <tr>\n",
       "      <th>3</th>\n",
       "      <td>14381137</td>\n",
       "      <td>4</td>\n",
       "      <td>1197502</td>\n",
       "      <td>1</td>\n",
       "      <td>0</td>\n",
       "      <td>f</td>\n",
       "      <td>2013-04-04</td>\n",
       "      <td>3203</td>\n",
       "      <td>1</td>\n",
       "      <td>106414464</td>\n",
       "      <td>0.75</td>\n",
       "      <td>13474</td>\n",
       "    </tr>\n",
       "    <tr>\n",
       "      <th>4</th>\n",
       "      <td>15941277</td>\n",
       "      <td>14</td>\n",
       "      <td>1197502</td>\n",
       "      <td>8</td>\n",
       "      <td>1</td>\n",
       "      <td>t</td>\n",
       "      <td>2013-03-26</td>\n",
       "      <td>3203</td>\n",
       "      <td>1</td>\n",
       "      <td>106414464</td>\n",
       "      <td>0.75</td>\n",
       "      <td>13474</td>\n",
       "    </tr>\n",
       "  </tbody>\n",
       "</table>\n",
       "</div>"
      ],
      "text/plain": [
       "         id  chain    offer  market  repeattrips repeater   offerdate  \\\n",
       "0  13179265     14  1197502       8            0        f  2013-03-29   \n",
       "1  13873775      4  1197502       1            0        f  2013-03-26   \n",
       "2  13974451      4  1197502       1            0        f  2013-03-26   \n",
       "3  14381137      4  1197502       1            0        f  2013-04-04   \n",
       "4  15941277     14  1197502       8            1        t  2013-03-26   \n",
       "\n",
       "   category  quantity    company  offervalue  brand  \n",
       "0      3203         1  106414464        0.75  13474  \n",
       "1      3203         1  106414464        0.75  13474  \n",
       "2      3203         1  106414464        0.75  13474  \n",
       "3      3203         1  106414464        0.75  13474  \n",
       "4      3203         1  106414464        0.75  13474  "
      ]
     },
     "execution_count": 19,
     "metadata": {},
     "output_type": "execute_result"
    }
   ],
   "source": [
    "combine.head()"
   ]
  },
  {
   "cell_type": "code",
   "execution_count": 20,
   "metadata": {
    "collapsed": true
   },
   "outputs": [],
   "source": [
    "#Feature Extraction\n",
    "def diff_days(s1,s2):\n",
    "    date_format = \"%Y-%m-%d\"\n",
    "    a = datetime.strptime(s1, date_format)\n",
    "    b = datetime.strptime(s2, date_format)\n",
    "    delta = b - a\n",
    "    return delta.days\n",
    "\n",
    "\n",
    "def extract_features(cust_id):\n",
    "    df = combine.loc[combine.id == cust_id,:]\n",
    "    df = df.reset_index(drop=True)\n",
    "    \n",
    "    offer_category = df.category.values[0]\n",
    "    offer_company = df.company.values[0]\n",
    "    offer_brand = df.brand.values[0]\n",
    "    \n",
    "    data_id = data_s.loc[data_s.id == cust_id,:]\n",
    "    data_id = data_id.reset_index(drop=True)\n",
    "    \n",
    "    \n",
    "    #generate features from transaction record\n",
    "    df['total_spend'] = data_id.productamount.sum()\n",
    "    df['total_quant'] = data_id.productquantity.sum()\n",
    "    df['total_trips'] = len(data_id.date.unique())\n",
    "    \n",
    "    df['ave_spend'] = df['total_spend'] / df['total_trips']\n",
    "    df['ave_quant'] = df['total_quant'] / df['total_trips']\n",
    "    \n",
    "    df['unique_company_bought'] = len(data_id.company.unique())\n",
    "    df['unique_category_bought'] = len(data_id.category.unique())\n",
    "    df['unique_brand_bought'] = len(data_id.brand.unique())\n",
    "    \n",
    "    df['unique_company_bought'] = len(data_id.company.unique())\n",
    "    df['unique_category_bought'] = len(data_id.category.unique())\n",
    "    df['unique_brand_bought'] = len(data_id.brand.unique())\n",
    "    \n",
    "    df['ave_unique_company_bought'] = len(data_id.company.unique()) / df['total_trips']\n",
    "    df['ave_unique_category_bought'] = len(data_id.category.unique()) / df['total_trips']\n",
    "    df['ave_unique_brand_bought'] = len(data_id.brand.unique()) / df['total_trips']\n",
    "    \n",
    "    df['days_last_offer'] = diff_days(max(data_id.date),df.loc[0].offerdate)\n",
    "    \n",
    "    df['has_bought_company'] = 0\n",
    "    df['has_bought_company_q'] = 0\n",
    "    df['has_bought_company_a'] = 0\n",
    "    df['has_bought_company_30'] = 0\n",
    "    df['has_bought_company_q_30'] = 0\n",
    "    df['has_bought_company_a_30'] = 0\n",
    "    df['has_bought_company_60'] = 0\n",
    "    df['has_bought_company_q_60'] = 0\n",
    "    df['has_bought_company_a_60'] = 0\n",
    "    df['has_bought_company_90'] = 0\n",
    "    df['has_bought_company_q_90'] = 0\n",
    "    df['has_bought_company_a_90'] = 0\n",
    "    df['has_bought_company_180'] = 0\n",
    "    df['has_bought_company_q_180'] = 0\n",
    "    df['has_bought_company_a_180'] = 0\n",
    "    \n",
    "    df['has_bought_category'] = 0\n",
    "    df['has_bought_category_q'] = 0\n",
    "    df['has_bought_category_a'] = 0\n",
    "    df['has_bought_category_30'] = 0\n",
    "    df['has_bought_category_q_30'] = 0\n",
    "    df['has_bought_category_a_30'] = 0\n",
    "    df['has_bought_category_60'] = 0\n",
    "    df['has_bought_category_q_60'] = 0\n",
    "    df['has_bought_category_a_60'] = 0\n",
    "    df['has_bought_category_90'] = 0\n",
    "    df['has_bought_category_q_90'] = 0\n",
    "    df['has_bought_category_a_90'] = 0\n",
    "    df['has_bought_category_180'] = 0\n",
    "    df['has_bought_category_q_180'] = 0\n",
    "    df['has_bought_category_a_180'] = 0\n",
    "    \n",
    "    df['has_bought_brand'] = 0\n",
    "    df['has_bought_brand_q'] = 0\n",
    "    df['has_bought_brand_a'] = 0\n",
    "    df['has_bought_brand_30'] = 0\n",
    "    df['has_bought_brand_q_30'] = 0\n",
    "    df['has_bought_brand_a_30'] = 0\n",
    "    df['has_bought_brand_60'] = 0\n",
    "    df['has_bought_brand_q_60'] = 0\n",
    "    df['has_bought_brand_a_60'] = 0\n",
    "    df['has_bought_brand_90'] = 0\n",
    "    df['has_bought_brand_q_90'] = 0\n",
    "    df['has_bought_brand_a_90'] = 0\n",
    "    df['has_bought_brand_180'] = 0\n",
    "    df['has_bought_brand_q_180'] = 0\n",
    "    df['has_bought_brand_a_180'] = 0\n",
    "    \n",
    "    for i in range(len(data_id)):\n",
    "        if data_id.loc[i].company == offer_company:\n",
    "            df['has_bought_company'] += 1.0\n",
    "            df['has_bought_company_q'] += float( data_id.loc[i].productquantity )\n",
    "            df['has_bought_company_a'] += float( data_id.loc[i].productamount )\n",
    "\n",
    "            date_diff_days = diff_days(data_id.loc[i].date,df.loc[0].offerdate)\n",
    "            if date_diff_days < 30:\n",
    "                df['has_bought_company_30'] += 1.0\n",
    "                df['has_bought_company_q_30'] += float( data_id.loc[i].productquantity )\n",
    "                df['has_bought_company_a_30'] += float( data_id.loc[i].productamount )\n",
    "                        \n",
    "            if date_diff_days < 60:\n",
    "                df['has_bought_company_60'] += 1.0\n",
    "                df['has_bought_company_q_60'] += float( data_id.loc[i].productquantity )\n",
    "                df['has_bought_company_a_60'] += float( data_id.loc[i].productamount )\n",
    "                        \n",
    "            if date_diff_days < 90:\n",
    "                df['has_bought_company_90'] += 1.0\n",
    "                df['has_bought_company_q_90'] += float( data_id.loc[i].productquantity )\n",
    "                df['has_bought_company_a_90'] += float( data_id.loc[i].productamount )\n",
    "                        \n",
    "            if date_diff_days < 180:\n",
    "                df['has_bought_company_180'] += 1.0\n",
    "                df['has_bought_company_q_180'] += float( data_id.loc[i].productquantity )\n",
    "                df['has_bought_company_a_180'] += float( data_id.loc[i].productamount )\n",
    "\n",
    "                    \n",
    "        if data_id.loc[i].category == offer_category:\n",
    "            df['has_bought_category'] += 1.0\n",
    "            df['has_bought_category_q'] += float( data_id.loc[i].productquantity )\n",
    "            df['has_bought_category_a'] += float( data_id.loc[i].productamount )\n",
    "\n",
    "            date_diff_days = diff_days(data_id.loc[i].date,df.loc[0].offerdate)\n",
    "            if date_diff_days < 30:\n",
    "                df['has_bought_category_30'] += 1.0\n",
    "                df['has_bought_category_q_30'] += float( data_id.loc[i].productquantity )\n",
    "                df['has_bought_category_a_30'] += float( data_id.loc[i].productamount )\n",
    "                        \n",
    "            if date_diff_days < 60:\n",
    "                df['has_bought_category_60'] += 1.0\n",
    "                df['has_bought_category_q_60'] += float( data_id.loc[i].productquantity )\n",
    "                df['has_bought_category_a_60'] += float( data_id.loc[i].productamount )\n",
    "                        \n",
    "            if date_diff_days < 90:\n",
    "                df['has_bought_category_90'] += 1.0\n",
    "                df['has_bought_category_q_90'] += float( data_id.loc[i].productquantity )\n",
    "                df['has_bought_category_a_90'] += float( data_id.loc[i].productamount )\n",
    "                        \n",
    "            if date_diff_days < 180:\n",
    "                df['has_bought_category_180'] += 1.0\n",
    "                df['has_bought_category_q_180'] += float( data_id.loc[i].productquantity )\n",
    "                df['has_bought_category_a_180'] += float( data_id.loc[i].productamount )\n",
    "                   \n",
    "        if data_id.loc[i].brand == offer_brand:\n",
    "            df['has_bought_brand'] += 1.0\n",
    "            df['has_bought_brand_q'] += float( data_id.loc[i].productquantity )\n",
    "            df['has_bought_brand_a'] += float( data_id.loc[i].productamount )\n",
    "\n",
    "            date_diff_days = diff_days(data_id.loc[i].date,df.loc[0].offerdate)\n",
    "            if date_diff_days < 30:\n",
    "                df['has_bought_brand_30'] += 1.0\n",
    "                df['has_bought_brand_q_30'] += float( data_id.loc[i].productquantity )\n",
    "                df['has_bought_brand_a_30'] += float( data_id.loc[i].productamount )\n",
    "                        \n",
    "            if date_diff_days < 60:\n",
    "                df['has_bought_brand_60'] += 1.0\n",
    "                df['has_bought_brand_q_60'] += float( data_id.loc[i].productquantity )\n",
    "                df['has_bought_brand_a_60'] += float( data_id.loc[i].productamount )\n",
    "                        \n",
    "            if date_diff_days < 90:\n",
    "                df['has_bought_brand_90'] += 1.0\n",
    "                df['has_bought_brand_q_90'] += float( data_id.loc[i].productquantity )\n",
    "                df['has_bought_brand_a_90'] += float( data_id.loc[i].productamount )\n",
    "                        \n",
    "            if date_diff_days < 180:\n",
    "                df['has_bought_brand_180'] += 1.0\n",
    "                df['has_bought_brand_q_180'] += float( data_id.loc[i].productquantity )\n",
    "                df['has_bought_brand_a_180'] += float( data_id.loc[i].productamount )\n",
    "                \n",
    "                #last_id = row[0]\n",
    "                #if e % 100000 == 0:\n",
    "                    #print e\n",
    "    \n",
    "    return df"
   ]
  },
  {
   "cell_type": "code",
   "execution_count": 21,
   "metadata": {
    "collapsed": false
   },
   "outputs": [
    {
     "name": "stdout",
     "output_type": "stream",
     "text": [
      "0 0:00:01.795131\n",
      "500 0:04:48.440171\n",
      "1000 0:10:01.223409\n",
      "1500 0:14:25.857671\n",
      "2000 0:18:55.465588\n",
      "2500 0:24:12.437132\n",
      "3000 0:28:50.219933\n",
      "3500 0:32:50.507945\n",
      "4000 0:37:26.177291\n",
      "4500 0:42:16.929774\n",
      "5000 0:49:17.613395\n",
      "5500 0:56:24.612478\n",
      "6000 1:02:23.478249\n",
      "6500 1:09:21.003141\n",
      "7000 1:15:16.077736\n",
      "7500 1:21:24.889852\n",
      "8000 1:28:54.554222\n",
      "8500 1:40:47.535078\n",
      "9000 1:55:40.412564\n",
      "9500 2:01:11.953671\n"
     ]
    }
   ],
   "source": [
    "#Take 2 hours to run this code\n",
    "#Create X_features\n",
    "X_features = pd.DataFrame()\n",
    "start_time = datetime.now()\n",
    "for e,cust_id in enumerate(combine.id.values):\n",
    "    X_features = pd.concat([X_features,extract_features(cust_id)])\n",
    "    if e%500 == 0:\n",
    "        print e,datetime.now()-start_time"
   ]
  },
  {
   "cell_type": "code",
   "execution_count": 22,
   "metadata": {
    "collapsed": true
   },
   "outputs": [],
   "source": [
    "X_features['never_bought_company'] = 0\n",
    "X_features['never_bought_category'] = 0\n",
    "X_features['never_bought_brand'] = 0\n",
    "X_features['has_bought_brand_company_category'] = 0\n",
    "X_features['has_bought_brand_category'] = 0\n",
    "X_features['has_bought_brand_company'] = 0\n",
    "\n",
    "X_features = X_features.reset_index(drop=True)"
   ]
  },
  {
   "cell_type": "code",
   "execution_count": 23,
   "metadata": {
    "collapsed": true
   },
   "outputs": [],
   "source": [
    "for i in range(len(X_features)):\n",
    "    #generate negative features\n",
    "    if X_features.loc[i].has_bought_company == 0:\n",
    "        X_features.set_value(i,'never_bought_company',1)\n",
    "\n",
    "    if X_features.loc[i].has_bought_category == 0:\n",
    "        X_features.set_value(i,'never_bought_category',1)\n",
    "        \n",
    "    if X_features.loc[i].has_bought_brand == 0:\n",
    "        X_features.set_value(i,'never_bought_brand',1)\n",
    "\n",
    "    if X_features.loc[i].has_bought_company != 0 and X_features.loc[i].has_bought_category != 0 and X_features.loc[i].has_bought_brand != 0:\n",
    "        X_features.set_value(i,'has_bought_brand_company_category',1) \n",
    "\n",
    "    if X_features.loc[i].has_bought_category != 0 and X_features.loc[i].has_bought_brand != 0:\n",
    "        X_features.set_value(i,'has_bought_brand_category',1)\n",
    "\n",
    "    if X_features.loc[i].has_bought_company != 0 and X_features.loc[i].has_bought_brand != 0:\n",
    "         X_features.set_value(i,'has_bought_brand_company',1)\n"
   ]
  },
  {
   "cell_type": "code",
   "execution_count": 24,
   "metadata": {
    "collapsed": false
   },
   "outputs": [
    {
     "data": {
      "text/plain": [
       "(9760, 75)"
      ]
     },
     "execution_count": 24,
     "metadata": {},
     "output_type": "execute_result"
    }
   ],
   "source": [
    "X_features.shape"
   ]
  },
  {
   "cell_type": "code",
   "execution_count": 25,
   "metadata": {
    "collapsed": false
   },
   "outputs": [
    {
     "data": {
      "text/html": [
       "<div>\n",
       "<style>\n",
       "    .dataframe thead tr:only-child th {\n",
       "        text-align: right;\n",
       "    }\n",
       "\n",
       "    .dataframe thead th {\n",
       "        text-align: left;\n",
       "    }\n",
       "\n",
       "    .dataframe tbody tr th {\n",
       "        vertical-align: top;\n",
       "    }\n",
       "</style>\n",
       "<table border=\"1\" class=\"dataframe\">\n",
       "  <thead>\n",
       "    <tr style=\"text-align: right;\">\n",
       "      <th></th>\n",
       "      <th>id</th>\n",
       "      <th>chain</th>\n",
       "      <th>offer</th>\n",
       "      <th>market</th>\n",
       "      <th>repeattrips</th>\n",
       "      <th>repeater</th>\n",
       "      <th>offerdate</th>\n",
       "      <th>category</th>\n",
       "      <th>quantity</th>\n",
       "      <th>company</th>\n",
       "      <th>...</th>\n",
       "      <th>has_bought_brand_a_90</th>\n",
       "      <th>has_bought_brand_180</th>\n",
       "      <th>has_bought_brand_q_180</th>\n",
       "      <th>has_bought_brand_a_180</th>\n",
       "      <th>never_bought_company</th>\n",
       "      <th>never_bought_category</th>\n",
       "      <th>never_bought_brand</th>\n",
       "      <th>has_bought_brand_company_category</th>\n",
       "      <th>has_bought_brand_category</th>\n",
       "      <th>has_bought_brand_company</th>\n",
       "    </tr>\n",
       "  </thead>\n",
       "  <tbody>\n",
       "    <tr>\n",
       "      <th>0</th>\n",
       "      <td>13179265</td>\n",
       "      <td>14</td>\n",
       "      <td>1197502</td>\n",
       "      <td>8</td>\n",
       "      <td>0</td>\n",
       "      <td>f</td>\n",
       "      <td>2013-03-29</td>\n",
       "      <td>3203</td>\n",
       "      <td>1</td>\n",
       "      <td>106414464</td>\n",
       "      <td>...</td>\n",
       "      <td>0.0</td>\n",
       "      <td>0.0</td>\n",
       "      <td>0.0</td>\n",
       "      <td>0.0</td>\n",
       "      <td>1</td>\n",
       "      <td>1</td>\n",
       "      <td>1</td>\n",
       "      <td>0</td>\n",
       "      <td>0</td>\n",
       "      <td>0</td>\n",
       "    </tr>\n",
       "    <tr>\n",
       "      <th>1</th>\n",
       "      <td>13873775</td>\n",
       "      <td>4</td>\n",
       "      <td>1197502</td>\n",
       "      <td>1</td>\n",
       "      <td>0</td>\n",
       "      <td>f</td>\n",
       "      <td>2013-03-26</td>\n",
       "      <td>3203</td>\n",
       "      <td>1</td>\n",
       "      <td>106414464</td>\n",
       "      <td>...</td>\n",
       "      <td>0.0</td>\n",
       "      <td>0.0</td>\n",
       "      <td>0.0</td>\n",
       "      <td>0.0</td>\n",
       "      <td>0</td>\n",
       "      <td>1</td>\n",
       "      <td>1</td>\n",
       "      <td>0</td>\n",
       "      <td>0</td>\n",
       "      <td>0</td>\n",
       "    </tr>\n",
       "    <tr>\n",
       "      <th>2</th>\n",
       "      <td>13974451</td>\n",
       "      <td>4</td>\n",
       "      <td>1197502</td>\n",
       "      <td>1</td>\n",
       "      <td>0</td>\n",
       "      <td>f</td>\n",
       "      <td>2013-03-26</td>\n",
       "      <td>3203</td>\n",
       "      <td>1</td>\n",
       "      <td>106414464</td>\n",
       "      <td>...</td>\n",
       "      <td>0.0</td>\n",
       "      <td>0.0</td>\n",
       "      <td>0.0</td>\n",
       "      <td>0.0</td>\n",
       "      <td>1</td>\n",
       "      <td>1</td>\n",
       "      <td>1</td>\n",
       "      <td>0</td>\n",
       "      <td>0</td>\n",
       "      <td>0</td>\n",
       "    </tr>\n",
       "    <tr>\n",
       "      <th>3</th>\n",
       "      <td>14381137</td>\n",
       "      <td>4</td>\n",
       "      <td>1197502</td>\n",
       "      <td>1</td>\n",
       "      <td>0</td>\n",
       "      <td>f</td>\n",
       "      <td>2013-04-04</td>\n",
       "      <td>3203</td>\n",
       "      <td>1</td>\n",
       "      <td>106414464</td>\n",
       "      <td>...</td>\n",
       "      <td>0.0</td>\n",
       "      <td>0.0</td>\n",
       "      <td>0.0</td>\n",
       "      <td>0.0</td>\n",
       "      <td>1</td>\n",
       "      <td>1</td>\n",
       "      <td>1</td>\n",
       "      <td>0</td>\n",
       "      <td>0</td>\n",
       "      <td>0</td>\n",
       "    </tr>\n",
       "    <tr>\n",
       "      <th>4</th>\n",
       "      <td>15941277</td>\n",
       "      <td>14</td>\n",
       "      <td>1197502</td>\n",
       "      <td>8</td>\n",
       "      <td>1</td>\n",
       "      <td>t</td>\n",
       "      <td>2013-03-26</td>\n",
       "      <td>3203</td>\n",
       "      <td>1</td>\n",
       "      <td>106414464</td>\n",
       "      <td>...</td>\n",
       "      <td>0.0</td>\n",
       "      <td>0.0</td>\n",
       "      <td>0.0</td>\n",
       "      <td>0.0</td>\n",
       "      <td>0</td>\n",
       "      <td>1</td>\n",
       "      <td>1</td>\n",
       "      <td>0</td>\n",
       "      <td>0</td>\n",
       "      <td>0</td>\n",
       "    </tr>\n",
       "  </tbody>\n",
       "</table>\n",
       "<p>5 rows × 75 columns</p>\n",
       "</div>"
      ],
      "text/plain": [
       "         id  chain    offer  market  repeattrips repeater   offerdate  \\\n",
       "0  13179265     14  1197502       8            0        f  2013-03-29   \n",
       "1  13873775      4  1197502       1            0        f  2013-03-26   \n",
       "2  13974451      4  1197502       1            0        f  2013-03-26   \n",
       "3  14381137      4  1197502       1            0        f  2013-04-04   \n",
       "4  15941277     14  1197502       8            1        t  2013-03-26   \n",
       "\n",
       "   category  quantity    company            ...             \\\n",
       "0      3203         1  106414464            ...              \n",
       "1      3203         1  106414464            ...              \n",
       "2      3203         1  106414464            ...              \n",
       "3      3203         1  106414464            ...              \n",
       "4      3203         1  106414464            ...              \n",
       "\n",
       "   has_bought_brand_a_90  has_bought_brand_180  has_bought_brand_q_180  \\\n",
       "0                    0.0                   0.0                     0.0   \n",
       "1                    0.0                   0.0                     0.0   \n",
       "2                    0.0                   0.0                     0.0   \n",
       "3                    0.0                   0.0                     0.0   \n",
       "4                    0.0                   0.0                     0.0   \n",
       "\n",
       "   has_bought_brand_a_180  never_bought_company  never_bought_category  \\\n",
       "0                     0.0                     1                      1   \n",
       "1                     0.0                     0                      1   \n",
       "2                     0.0                     1                      1   \n",
       "3                     0.0                     1                      1   \n",
       "4                     0.0                     0                      1   \n",
       "\n",
       "   never_bought_brand  has_bought_brand_company_category  \\\n",
       "0                   1                                  0   \n",
       "1                   1                                  0   \n",
       "2                   1                                  0   \n",
       "3                   1                                  0   \n",
       "4                   1                                  0   \n",
       "\n",
       "   has_bought_brand_category  has_bought_brand_company  \n",
       "0                          0                         0  \n",
       "1                          0                         0  \n",
       "2                          0                         0  \n",
       "3                          0                         0  \n",
       "4                          0                         0  \n",
       "\n",
       "[5 rows x 75 columns]"
      ]
     },
     "execution_count": 25,
     "metadata": {},
     "output_type": "execute_result"
    }
   ],
   "source": [
    "X_features.head()"
   ]
  },
  {
   "cell_type": "code",
   "execution_count": 30,
   "metadata": {
    "collapsed": false
   },
   "outputs": [
    {
     "data": {
      "text/plain": [
       "0    75\n",
       "dtype: int64"
      ]
     },
     "execution_count": 30,
     "metadata": {},
     "output_type": "execute_result"
    }
   ],
   "source": [
    "# Check missing values\n",
    "check = X_features.isnull().sum()\n",
    "\n",
    "check.value_counts()"
   ]
  },
  {
   "cell_type": "markdown",
   "metadata": {},
   "source": [
    "#### Scale Numeric Features"
   ]
  },
  {
   "cell_type": "code",
   "execution_count": 129,
   "metadata": {
    "collapsed": false
   },
   "outputs": [
    {
     "name": "stderr",
     "output_type": "stream",
     "text": [
      "/Users/Frank/anaconda/lib/python2.7/site-packages/sklearn/utils/validation.py:429: DataConversionWarning: Data with input dtype int64 was converted to float64 by the scale function.\n",
      "  warnings.warn(msg, _DataConversionWarning)\n"
     ]
    }
   ],
   "source": [
    "from sklearn.preprocessing import scale\n",
    "\n",
    "for i in list(X_features)[6:64]:\n",
    "    X_features[i] = scale(X_features[i])"
   ]
  },
  {
   "cell_type": "markdown",
   "metadata": {},
   "source": [
    "### Dealing With Data Types <a name='Encoding' />\n",
    "\n",
    "Create dummies for category, company, and brand."
   ]
  },
  {
   "cell_type": "code",
   "execution_count": 121,
   "metadata": {
    "collapsed": false,
    "scrolled": false
   },
   "outputs": [
    {
     "name": "stdout",
     "output_type": "stream",
     "text": [
      "<class 'pandas.core.frame.DataFrame'>\n",
      "RangeIndex: 9760 entries, 0 to 9759\n",
      "Data columns (total 97 columns):\n",
      "id                                   9760 non-null int64\n",
      "offer                                9760 non-null int64\n",
      "repeattrips                          9760 non-null int64\n",
      "repeater                             9760 non-null int64\n",
      "offerdate                            9760 non-null object\n",
      "quantity                             9760 non-null int64\n",
      "offervalue                           9760 non-null float64\n",
      "total_spend                          9760 non-null float64\n",
      "total_quant                          9760 non-null int64\n",
      "total_trips                          9760 non-null int64\n",
      "ave_spend                            9760 non-null float64\n",
      "ave_quant                            9760 non-null float64\n",
      "unique_company_bought                9760 non-null int64\n",
      "unique_category_bought               9760 non-null int64\n",
      "unique_brand_bought                  9760 non-null int64\n",
      "ave_unique_company_bought            9760 non-null float64\n",
      "ave_unique_category_bought           9760 non-null float64\n",
      "ave_unique_brand_bought              9760 non-null float64\n",
      "days_last_offer                      9760 non-null int64\n",
      "has_bought_company                   9760 non-null float64\n",
      "has_bought_company_q                 9760 non-null float64\n",
      "has_bought_company_a                 9760 non-null float64\n",
      "has_bought_company_30                9760 non-null float64\n",
      "has_bought_company_q_30              9760 non-null float64\n",
      "has_bought_company_a_30              9760 non-null float64\n",
      "has_bought_company_60                9760 non-null float64\n",
      "has_bought_company_q_60              9760 non-null float64\n",
      "has_bought_company_a_60              9760 non-null float64\n",
      "has_bought_company_90                9760 non-null float64\n",
      "has_bought_company_q_90              9760 non-null float64\n",
      "has_bought_company_a_90              9760 non-null float64\n",
      "has_bought_company_180               9760 non-null float64\n",
      "has_bought_company_q_180             9760 non-null float64\n",
      "has_bought_company_a_180             9760 non-null float64\n",
      "has_bought_category                  9760 non-null float64\n",
      "has_bought_category_q                9760 non-null float64\n",
      "has_bought_category_a                9760 non-null float64\n",
      "has_bought_category_30               9760 non-null float64\n",
      "has_bought_category_q_30             9760 non-null float64\n",
      "has_bought_category_a_30             9760 non-null float64\n",
      "has_bought_category_60               9760 non-null float64\n",
      "has_bought_category_q_60             9760 non-null float64\n",
      "has_bought_category_a_60             9760 non-null float64\n",
      "has_bought_category_90               9760 non-null float64\n",
      "has_bought_category_q_90             9760 non-null float64\n",
      "has_bought_category_a_90             9760 non-null float64\n",
      "has_bought_category_180              9760 non-null float64\n",
      "has_bought_category_q_180            9760 non-null float64\n",
      "has_bought_category_a_180            9760 non-null float64\n",
      "has_bought_brand                     9760 non-null float64\n",
      "has_bought_brand_q                   9760 non-null float64\n",
      "has_bought_brand_a                   9760 non-null float64\n",
      "has_bought_brand_30                  9760 non-null float64\n",
      "has_bought_brand_q_30                9760 non-null float64\n",
      "has_bought_brand_a_30                9760 non-null float64\n",
      "has_bought_brand_60                  9760 non-null float64\n",
      "has_bought_brand_q_60                9760 non-null float64\n",
      "has_bought_brand_a_60                9760 non-null float64\n",
      "has_bought_brand_90                  9760 non-null float64\n",
      "has_bought_brand_q_90                9760 non-null float64\n",
      "has_bought_brand_a_90                9760 non-null float64\n",
      "has_bought_brand_180                 9760 non-null float64\n",
      "has_bought_brand_q_180               9760 non-null float64\n",
      "has_bought_brand_a_180               9760 non-null float64\n",
      "never_bought_company                 9760 non-null int64\n",
      "never_bought_category                9760 non-null int64\n",
      "never_bought_brand                   9760 non-null int64\n",
      "has_bought_brand_company_category    9760 non-null int64\n",
      "has_bought_brand_category            9760 non-null int64\n",
      "has_bought_brand_company             9760 non-null int64\n",
      "company_104460040                    9760 non-null int64\n",
      "company_104610040                    9760 non-null int64\n",
      "company_106414464                    9760 non-null int64\n",
      "company_108079383                    9760 non-null int64\n",
      "company_Other                        9760 non-null int64\n",
      "category_2119                        9760 non-null int64\n",
      "category_2202                        9760 non-null int64\n",
      "category_3203                        9760 non-null int64\n",
      "category_5616                        9760 non-null int64\n",
      "category_Other                       9760 non-null int64\n",
      "brand_3718                           9760 non-null int64\n",
      "brand_6926                           9760 non-null int64\n",
      "brand_13474                          9760 non-null int64\n",
      "brand_15889                          9760 non-null int64\n",
      "brand_Other                          9760 non-null int64\n",
      "chain_2                              9760 non-null int64\n",
      "chain_4                              9760 non-null int64\n",
      "chain_6                              9760 non-null int64\n",
      "chain_8                              9760 non-null int64\n",
      "chain_10                             9760 non-null int64\n",
      "chain_12                             9760 non-null int64\n",
      "chain_14                             9760 non-null int64\n",
      "market_1                             9760 non-null int64\n",
      "market_4                             9760 non-null int64\n",
      "market_5                             9760 non-null int64\n",
      "market_7                             9760 non-null int64\n",
      "market_8                             9760 non-null int64\n",
      "dtypes: float64(52), int64(44), object(1)\n",
      "memory usage: 7.2+ MB\n"
     ]
    }
   ],
   "source": [
    "# Check Data Types\n",
    "X_features.info()"
   ]
  },
  {
   "cell_type": "code",
   "execution_count": 38,
   "metadata": {
    "collapsed": false
   },
   "outputs": [
    {
     "name": "stdout",
     "output_type": "stream",
     "text": [
      "Feature 'company' has 8 unique values.\n",
      "Feature 'category' has 10 unique values.\n",
      "Feature 'brand' has 9 unique values.\n"
     ]
    }
   ],
   "source": [
    "# Check number of unique categories for 'company', 'category', and 'brand'\n",
    "X_list = ['company','category','brand']\n",
    "for col_name in X_list:\n",
    "    unique_cat = len(X_features[col_name].unique())\n",
    "    print \"Feature '{0}' has {1} unique values.\".format(col_name,unique_cat)\n"
   ]
  },
  {
   "cell_type": "code",
   "execution_count": 34,
   "metadata": {
    "collapsed": false
   },
   "outputs": [
    {
     "data": {
      "text/plain": [
       "106414464    4526\n",
       "104460040    1799\n",
       "108079383    1242\n",
       "104610040    1115\n",
       "107717272     374\n",
       "107120272     339\n",
       "105100050     243\n",
       "103320030     122\n",
       "Name: company, dtype: int64"
      ]
     },
     "execution_count": 34,
     "metadata": {},
     "output_type": "execute_result"
    }
   ],
   "source": [
    "# Although, 'company' has a lot of unique categories, some categories only have a few observations\n",
    "X_features.company.value_counts().sort_values(ascending=False)"
   ]
  },
  {
   "cell_type": "code",
   "execution_count": 44,
   "metadata": {
    "collapsed": false
   },
   "outputs": [
    {
     "data": {
      "text/plain": [
       "3203    4526\n",
       "2202    1267\n",
       "2119    1242\n",
       "5616    1115\n",
       "5619     374\n",
       "5558     339\n",
       "1726     331\n",
       "4401     243\n",
       "1703     201\n",
       "3509     122\n",
       "Name: category, dtype: int64"
      ]
     },
     "execution_count": 44,
     "metadata": {},
     "output_type": "execute_result"
    }
   ],
   "source": [
    "X_features.category.value_counts().sort_values(ascending=False)"
   ]
  },
  {
   "cell_type": "code",
   "execution_count": 45,
   "metadata": {
    "collapsed": false
   },
   "outputs": [
    {
     "data": {
      "text/plain": [
       "13474     4526\n",
       "3718      1267\n",
       "6926      1242\n",
       "15889     1115\n",
       "7668       532\n",
       "102504     374\n",
       "5072       339\n",
       "13791      243\n",
       "875        122\n",
       "Name: brand, dtype: int64"
      ]
     },
     "execution_count": 45,
     "metadata": {},
     "output_type": "execute_result"
    }
   ],
   "source": [
    "X_features.brand.value_counts().sort_values(ascending=False)"
   ]
  },
  {
   "cell_type": "code",
   "execution_count": 47,
   "metadata": {
    "collapsed": false
   },
   "outputs": [],
   "source": [
    "# Bucket low frequency categories\n",
    "X_features['company'].loc[(X_features['company'] == 107717272) |\n",
    "                          (X_features['company'] == 107120272) |\n",
    "                          (X_features['company'] == 105100050) |\n",
    "                          (X_features['company'] == 103320030) \n",
    "                          ] = 'Other'\n",
    "\n",
    "X_features['category'].loc[(X_features['category'] == 5619) |\n",
    "                          (X_features['category'] == 5558) |\n",
    "                          (X_features['category'] == 1726) |\n",
    "                          (X_features['category'] == 4401) |\n",
    "                          (X_features['category'] == 1703) |\n",
    "                          (X_features['category'] == 3509) \n",
    "                          ] = 'Other'\n",
    "\n",
    "X_features['brand'].loc[(X_features['brand'] == 7668) |\n",
    "                          (X_features['brand'] == 102504) |\n",
    "                          (X_features['brand'] == 5072) |\n",
    "                          (X_features['brand'] == 13791) |\n",
    "                          (X_features['brand'] == 875) \n",
    "                          ] = 'Other'\n"
   ]
  },
  {
   "cell_type": "code",
   "execution_count": 50,
   "metadata": {
    "collapsed": false
   },
   "outputs": [],
   "source": [
    "# Creat a list of features to dummy\n",
    "todummy_list = ['company','category','brand','chain']\n",
    "# Function to dummy all the specific variables used for modeling\n",
    "def dummy_df(df,todummy_list):\n",
    "    for x in todummy_list:\n",
    "        dummies = pd.get_dummies(df[x],prefix=x)\n",
    "        df = df.drop(x,1)\n",
    "        df = pd.concat([df,dummies],axis=1)\n",
    "    return df\n",
    "#\n",
    "X_features = dummy_df(X_features,todummy_list)\n"
   ]
  },
  {
   "cell_type": "code",
   "execution_count": 69,
   "metadata": {
    "collapsed": false
   },
   "outputs": [],
   "source": [
    "dummies = pd.get_dummies(X_features['market'],prefix='market')\n",
    "X_features.drop('market',1,inplace=True)\n",
    "X_features = pd.concat([X_features,dummies],axis=1)"
   ]
  },
  {
   "cell_type": "code",
   "execution_count": 70,
   "metadata": {
    "collapsed": false
   },
   "outputs": [
    {
     "data": {
      "text/html": [
       "<div>\n",
       "<style>\n",
       "    .dataframe thead tr:only-child th {\n",
       "        text-align: right;\n",
       "    }\n",
       "\n",
       "    .dataframe thead th {\n",
       "        text-align: left;\n",
       "    }\n",
       "\n",
       "    .dataframe tbody tr th {\n",
       "        vertical-align: top;\n",
       "    }\n",
       "</style>\n",
       "<table border=\"1\" class=\"dataframe\">\n",
       "  <thead>\n",
       "    <tr style=\"text-align: right;\">\n",
       "      <th></th>\n",
       "      <th>id</th>\n",
       "      <th>offer</th>\n",
       "      <th>repeattrips</th>\n",
       "      <th>repeater</th>\n",
       "      <th>offerdate</th>\n",
       "      <th>quantity</th>\n",
       "      <th>offervalue</th>\n",
       "      <th>total_spend</th>\n",
       "      <th>total_quant</th>\n",
       "      <th>total_trips</th>\n",
       "      <th>...</th>\n",
       "      <th>chain_6</th>\n",
       "      <th>chain_8</th>\n",
       "      <th>chain_10</th>\n",
       "      <th>chain_12</th>\n",
       "      <th>chain_14</th>\n",
       "      <th>market_1</th>\n",
       "      <th>market_4</th>\n",
       "      <th>market_5</th>\n",
       "      <th>market_7</th>\n",
       "      <th>market_8</th>\n",
       "    </tr>\n",
       "  </thead>\n",
       "  <tbody>\n",
       "    <tr>\n",
       "      <th>0</th>\n",
       "      <td>13179265</td>\n",
       "      <td>1197502</td>\n",
       "      <td>0</td>\n",
       "      <td>0</td>\n",
       "      <td>2013-03-29</td>\n",
       "      <td>1</td>\n",
       "      <td>0.75</td>\n",
       "      <td>2030.52</td>\n",
       "      <td>879</td>\n",
       "      <td>77</td>\n",
       "      <td>...</td>\n",
       "      <td>0</td>\n",
       "      <td>0</td>\n",
       "      <td>0</td>\n",
       "      <td>0</td>\n",
       "      <td>1</td>\n",
       "      <td>0</td>\n",
       "      <td>0</td>\n",
       "      <td>0</td>\n",
       "      <td>0</td>\n",
       "      <td>1</td>\n",
       "    </tr>\n",
       "    <tr>\n",
       "      <th>1</th>\n",
       "      <td>13873775</td>\n",
       "      <td>1197502</td>\n",
       "      <td>0</td>\n",
       "      <td>0</td>\n",
       "      <td>2013-03-26</td>\n",
       "      <td>1</td>\n",
       "      <td>0.75</td>\n",
       "      <td>5040.49</td>\n",
       "      <td>2361</td>\n",
       "      <td>92</td>\n",
       "      <td>...</td>\n",
       "      <td>0</td>\n",
       "      <td>0</td>\n",
       "      <td>0</td>\n",
       "      <td>0</td>\n",
       "      <td>0</td>\n",
       "      <td>1</td>\n",
       "      <td>0</td>\n",
       "      <td>0</td>\n",
       "      <td>0</td>\n",
       "      <td>0</td>\n",
       "    </tr>\n",
       "    <tr>\n",
       "      <th>2</th>\n",
       "      <td>13974451</td>\n",
       "      <td>1197502</td>\n",
       "      <td>0</td>\n",
       "      <td>0</td>\n",
       "      <td>2013-03-26</td>\n",
       "      <td>1</td>\n",
       "      <td>0.75</td>\n",
       "      <td>270.94</td>\n",
       "      <td>103</td>\n",
       "      <td>15</td>\n",
       "      <td>...</td>\n",
       "      <td>0</td>\n",
       "      <td>0</td>\n",
       "      <td>0</td>\n",
       "      <td>0</td>\n",
       "      <td>0</td>\n",
       "      <td>1</td>\n",
       "      <td>0</td>\n",
       "      <td>0</td>\n",
       "      <td>0</td>\n",
       "      <td>0</td>\n",
       "    </tr>\n",
       "    <tr>\n",
       "      <th>3</th>\n",
       "      <td>14381137</td>\n",
       "      <td>1197502</td>\n",
       "      <td>0</td>\n",
       "      <td>0</td>\n",
       "      <td>2013-04-04</td>\n",
       "      <td>1</td>\n",
       "      <td>0.75</td>\n",
       "      <td>2408.26</td>\n",
       "      <td>524</td>\n",
       "      <td>30</td>\n",
       "      <td>...</td>\n",
       "      <td>0</td>\n",
       "      <td>0</td>\n",
       "      <td>0</td>\n",
       "      <td>0</td>\n",
       "      <td>0</td>\n",
       "      <td>1</td>\n",
       "      <td>0</td>\n",
       "      <td>0</td>\n",
       "      <td>0</td>\n",
       "      <td>0</td>\n",
       "    </tr>\n",
       "    <tr>\n",
       "      <th>4</th>\n",
       "      <td>15941277</td>\n",
       "      <td>1197502</td>\n",
       "      <td>1</td>\n",
       "      <td>1</td>\n",
       "      <td>2013-03-26</td>\n",
       "      <td>1</td>\n",
       "      <td>0.75</td>\n",
       "      <td>2739.98</td>\n",
       "      <td>803</td>\n",
       "      <td>36</td>\n",
       "      <td>...</td>\n",
       "      <td>0</td>\n",
       "      <td>0</td>\n",
       "      <td>0</td>\n",
       "      <td>0</td>\n",
       "      <td>1</td>\n",
       "      <td>0</td>\n",
       "      <td>0</td>\n",
       "      <td>0</td>\n",
       "      <td>0</td>\n",
       "      <td>1</td>\n",
       "    </tr>\n",
       "  </tbody>\n",
       "</table>\n",
       "<p>5 rows × 97 columns</p>\n",
       "</div>"
      ],
      "text/plain": [
       "         id    offer  repeattrips  repeater   offerdate  quantity  offervalue  \\\n",
       "0  13179265  1197502            0         0  2013-03-29         1        0.75   \n",
       "1  13873775  1197502            0         0  2013-03-26         1        0.75   \n",
       "2  13974451  1197502            0         0  2013-03-26         1        0.75   \n",
       "3  14381137  1197502            0         0  2013-04-04         1        0.75   \n",
       "4  15941277  1197502            1         1  2013-03-26         1        0.75   \n",
       "\n",
       "   total_spend  total_quant  total_trips    ...     chain_6  chain_8  \\\n",
       "0      2030.52          879           77    ...           0        0   \n",
       "1      5040.49         2361           92    ...           0        0   \n",
       "2       270.94          103           15    ...           0        0   \n",
       "3      2408.26          524           30    ...           0        0   \n",
       "4      2739.98          803           36    ...           0        0   \n",
       "\n",
       "   chain_10  chain_12  chain_14  market_1  market_4  market_5  market_7  \\\n",
       "0         0         0         1         0         0         0         0   \n",
       "1         0         0         0         1         0         0         0   \n",
       "2         0         0         0         1         0         0         0   \n",
       "3         0         0         0         1         0         0         0   \n",
       "4         0         0         1         0         0         0         0   \n",
       "\n",
       "   market_8  \n",
       "0         1  \n",
       "1         0  \n",
       "2         0  \n",
       "3         0  \n",
       "4         1  \n",
       "\n",
       "[5 rows x 97 columns]"
      ]
     },
     "execution_count": 70,
     "metadata": {},
     "output_type": "execute_result"
    }
   ],
   "source": [
    "X_features.head()"
   ]
  },
  {
   "cell_type": "code",
   "execution_count": 71,
   "metadata": {
    "collapsed": false
   },
   "outputs": [
    {
     "data": {
      "text/plain": [
       "(9760, 97)"
      ]
     },
     "execution_count": 71,
     "metadata": {},
     "output_type": "execute_result"
    }
   ],
   "source": [
    "X_features.shape"
   ]
  },
  {
   "cell_type": "code",
   "execution_count": null,
   "metadata": {
    "collapsed": true
   },
   "outputs": [],
   "source": [
    "X_features['repeater'] = 1 * (X_features['repeater'] == 't')"
   ]
  },
  {
   "cell_type": "code",
   "execution_count": 134,
   "metadata": {
    "collapsed": true
   },
   "outputs": [],
   "source": [
    "X_features.to_csv('X_features.csv',index=False)"
   ]
  },
  {
   "cell_type": "markdown",
   "metadata": {},
   "source": [
    "### Exploratory Data Analysis <a name='Exploratory Data Analysis' />\n",
    "1. Outlier Detection\n",
    "2. Plot Pearson Correlation Heatmap \n",
    "3. Univariate Plots with respect to repeat purchased probability."
   ]
  },
  {
   "cell_type": "code",
   "execution_count": 73,
   "metadata": {
    "collapsed": false,
    "scrolled": true
   },
   "outputs": [
    {
     "name": "stdout",
     "output_type": "stream",
     "text": [
      "<class 'pandas.core.frame.DataFrame'>\n",
      "RangeIndex: 9760 entries, 0 to 9759\n",
      "Data columns (total 97 columns):\n",
      "id                                   9760 non-null int64\n",
      "offer                                9760 non-null int64\n",
      "repeattrips                          9760 non-null int64\n",
      "repeater                             9760 non-null int64\n",
      "offerdate                            9760 non-null object\n",
      "quantity                             9760 non-null int64\n",
      "offervalue                           9760 non-null float64\n",
      "total_spend                          9760 non-null float64\n",
      "total_quant                          9760 non-null int64\n",
      "total_trips                          9760 non-null int64\n",
      "ave_spend                            9760 non-null float64\n",
      "ave_quant                            9760 non-null float64\n",
      "unique_company_bought                9760 non-null int64\n",
      "unique_category_bought               9760 non-null int64\n",
      "unique_brand_bought                  9760 non-null int64\n",
      "ave_unique_company_bought            9760 non-null float64\n",
      "ave_unique_category_bought           9760 non-null float64\n",
      "ave_unique_brand_bought              9760 non-null float64\n",
      "days_last_offer                      9760 non-null int64\n",
      "has_bought_company                   9760 non-null float64\n",
      "has_bought_company_q                 9760 non-null float64\n",
      "has_bought_company_a                 9760 non-null float64\n",
      "has_bought_company_30                9760 non-null float64\n",
      "has_bought_company_q_30              9760 non-null float64\n",
      "has_bought_company_a_30              9760 non-null float64\n",
      "has_bought_company_60                9760 non-null float64\n",
      "has_bought_company_q_60              9760 non-null float64\n",
      "has_bought_company_a_60              9760 non-null float64\n",
      "has_bought_company_90                9760 non-null float64\n",
      "has_bought_company_q_90              9760 non-null float64\n",
      "has_bought_company_a_90              9760 non-null float64\n",
      "has_bought_company_180               9760 non-null float64\n",
      "has_bought_company_q_180             9760 non-null float64\n",
      "has_bought_company_a_180             9760 non-null float64\n",
      "has_bought_category                  9760 non-null float64\n",
      "has_bought_category_q                9760 non-null float64\n",
      "has_bought_category_a                9760 non-null float64\n",
      "has_bought_category_30               9760 non-null float64\n",
      "has_bought_category_q_30             9760 non-null float64\n",
      "has_bought_category_a_30             9760 non-null float64\n",
      "has_bought_category_60               9760 non-null float64\n",
      "has_bought_category_q_60             9760 non-null float64\n",
      "has_bought_category_a_60             9760 non-null float64\n",
      "has_bought_category_90               9760 non-null float64\n",
      "has_bought_category_q_90             9760 non-null float64\n",
      "has_bought_category_a_90             9760 non-null float64\n",
      "has_bought_category_180              9760 non-null float64\n",
      "has_bought_category_q_180            9760 non-null float64\n",
      "has_bought_category_a_180            9760 non-null float64\n",
      "has_bought_brand                     9760 non-null float64\n",
      "has_bought_brand_q                   9760 non-null float64\n",
      "has_bought_brand_a                   9760 non-null float64\n",
      "has_bought_brand_30                  9760 non-null float64\n",
      "has_bought_brand_q_30                9760 non-null float64\n",
      "has_bought_brand_a_30                9760 non-null float64\n",
      "has_bought_brand_60                  9760 non-null float64\n",
      "has_bought_brand_q_60                9760 non-null float64\n",
      "has_bought_brand_a_60                9760 non-null float64\n",
      "has_bought_brand_90                  9760 non-null float64\n",
      "has_bought_brand_q_90                9760 non-null float64\n",
      "has_bought_brand_a_90                9760 non-null float64\n",
      "has_bought_brand_180                 9760 non-null float64\n",
      "has_bought_brand_q_180               9760 non-null float64\n",
      "has_bought_brand_a_180               9760 non-null float64\n",
      "never_bought_company                 9760 non-null int64\n",
      "never_bought_category                9760 non-null int64\n",
      "never_bought_brand                   9760 non-null int64\n",
      "has_bought_brand_company_category    9760 non-null int64\n",
      "has_bought_brand_category            9760 non-null int64\n",
      "has_bought_brand_company             9760 non-null int64\n",
      "company_104460040                    9760 non-null int64\n",
      "company_104610040                    9760 non-null int64\n",
      "company_106414464                    9760 non-null int64\n",
      "company_108079383                    9760 non-null int64\n",
      "company_Other                        9760 non-null int64\n",
      "category_2119                        9760 non-null int64\n",
      "category_2202                        9760 non-null int64\n",
      "category_3203                        9760 non-null int64\n",
      "category_5616                        9760 non-null int64\n",
      "category_Other                       9760 non-null int64\n",
      "brand_3718                           9760 non-null int64\n",
      "brand_6926                           9760 non-null int64\n",
      "brand_13474                          9760 non-null int64\n",
      "brand_15889                          9760 non-null int64\n",
      "brand_Other                          9760 non-null int64\n",
      "chain_2                              9760 non-null int64\n",
      "chain_4                              9760 non-null int64\n",
      "chain_6                              9760 non-null int64\n",
      "chain_8                              9760 non-null int64\n",
      "chain_10                             9760 non-null int64\n",
      "chain_12                             9760 non-null int64\n",
      "chain_14                             9760 non-null int64\n",
      "market_1                             9760 non-null uint8\n",
      "market_4                             9760 non-null uint8\n",
      "market_5                             9760 non-null uint8\n",
      "market_7                             9760 non-null uint8\n",
      "market_8                             9760 non-null uint8\n",
      "dtypes: float64(52), int64(39), object(1), uint8(5)\n",
      "memory usage: 6.9+ MB\n"
     ]
    }
   ],
   "source": [
    "X_features.info()"
   ]
  },
  {
   "cell_type": "markdown",
   "metadata": {},
   "source": [
    "#### Outlier Detection - Tukey IQR"
   ]
  },
  {
   "cell_type": "code",
   "execution_count": 75,
   "metadata": {
    "collapsed": true
   },
   "outputs": [],
   "source": [
    "import numpy as np\n",
    "def find_outliers_tukey(x):\n",
    "    q1 = np.percentile(x,25)\n",
    "    q3 = np.percentile(x,75)\n",
    "    iqr = q3 - q1\n",
    "    floor = q1 - 1.5*iqr\n",
    "    ceiling = q3 + 1.5*iqr\n",
    "    outlier_indices = list(x.index[(x < floor) | (x > ceiling)])\n",
    "    outlier_values = list(x[outlier_indices])\n",
    "    \n",
    "    return outlier_indices, outlier_values\n"
   ]
  },
  {
   "cell_type": "code",
   "execution_count": 100,
   "metadata": {
    "collapsed": false
   },
   "outputs": [
    {
     "name": "stdout",
     "output_type": "stream",
     "text": [
      "The top 5 most biggest outliers for 'offervalue'：[ 3.]\n",
      "The top 5 most biggest outliers for 'total_trips'：[314 319 324 348 353]\n",
      "The top 5 most biggest outliers for 'ave_spend'：[ 283.81767442  289.2764      340.0770428   525.81142857  794.97758621]\n",
      "The top 5 most biggest outliers for 'ave_quant'：[  86.94285714  164.          184.7826087   203.27586207  329.48453608]\n",
      "The top 5 most biggest outliers for 'days_last_offer'：[ 86  87  91 105 123]\n",
      "The top 5 most biggest outliers for 'ave_unique_company_bought'：[ 12.53846154  13.          13.13043478  20.          27.6       ]\n",
      "The top 5 most biggest outliers for 'has_bought_company'：[  61.   64.   65.   67.  102.]\n",
      "The top 5 most biggest outliers for 'has_bought_company_q'：[ 122.  129.  140.  147.  197.]\n",
      "The top 5 most biggest outliers for 'has_bought_company_a'：[  293.05   303.69   328.22   374.96  1280.93]\n"
     ]
    }
   ],
   "source": [
    "outlier_var = ['offervalue','total_trips','ave_spend','ave_quant','days_last_offer',\n",
    "                'ave_unique_company_bought','has_bought_company','has_bought_company_q','has_bought_company_a']\n",
    "for x in outlier_var:\n",
    "    tukey_indices, tukey_values = find_outliers_tukey(loan[x])\n",
    "    a = np.sort(tukey_values)\n",
    "    print \"The top 5 most biggest outliers for '{0}'：{1}\".format(x,np.sort(np.unique(a))[-5:])"
   ]
  },
  {
   "cell_type": "markdown",
   "metadata": {},
   "source": [
    "**We consider above outliers as natural occurence, so we decide to keep these data.**\n",
    "\n",
    "\n"
   ]
  },
  {
   "cell_type": "markdown",
   "metadata": {},
   "source": [
    "<br><br>"
   ]
  },
  {
   "cell_type": "markdown",
   "metadata": {},
   "source": [
    "#### Pearson Correlation Heatmap\n",
    "Let us generate some correlation plots of the features to see how related one feature is to the next. To do so, we will utilise the Seaborn plotting package which allows us to plot heatmaps very conveniently as follow"
   ]
  },
  {
   "cell_type": "code",
   "execution_count": 111,
   "metadata": {
    "collapsed": false
   },
   "outputs": [],
   "source": [
    "X_features_cor = X_features[['offervalue','total_trips','total_quant','ave_spend','ave_quant','days_last_offer',\n",
    "                             'ave_unique_company_bought','has_bought_company','has_bought_company_q','has_bought_company_a'\n",
    "                            ]]\n",
    "cor = X_features_cor.corr()"
   ]
  },
  {
   "cell_type": "code",
   "execution_count": 112,
   "metadata": {
    "collapsed": false,
    "scrolled": false
   },
   "outputs": [
    {
     "data": {
      "text/plain": [
       "(array([ 0.5,  1.5,  2.5,  3.5,  4.5,  5.5,  6.5,  7.5,  8.5,  9.5]),\n",
       " <a list of 10 Text yticklabel objects>)"
      ]
     },
     "execution_count": 112,
     "metadata": {},
     "output_type": "execute_result"
    },
    {
     "data": {
      "image/png": "[encoded data removed]",
      "text/plain": [
       "<matplotlib.figure.Figure at 0x11533d0d0>"
      ]
     },
     "metadata": {},
     "output_type": "display_data"
    }
   ],
   "source": [
    "#Plot correlation heatmap\n",
    "import matplotlib.pyplot as plt\n",
    "import seaborn as sns\n",
    "%matplotlib inline\n",
    "plt.figure(figsize=(12,12))\n",
    "sns.heatmap(cor,square=True,linewidths=0.1,annot=True)\n",
    "plt.yticks(rotation=0)"
   ]
  },
  {
   "cell_type": "markdown",
   "metadata": {},
   "source": [
    " Plot shows that \"ave_spend\", \"ave_quant\", and \"ave_unique_company_bought\" have high positive correlation.     \n",
    "Also, \"has_bought_company\", \"has_bought_company_q\",\"has_bought_company_a\" have high positive correlation."
   ]
  },
  {
   "cell_type": "markdown",
   "metadata": {},
   "source": [
    "#### Univariate Plots "
   ]
  },
  {
   "cell_type": "code",
   "execution_count": 107,
   "metadata": {
    "collapsed": true
   },
   "outputs": [],
   "source": [
    "#Draw Univariate Plots \n",
    "import seaborn as sns\n",
    "import matplotlib.pyplot as plt\n",
    "%matplotlib inline\n",
    "\n",
    "def draw_plot(variable):\n",
    "\n",
    "    ax1 = sns.countplot(variable,data=X_features)\n",
    "    ax1.set_ylim(0,7000)\n",
    "    ax1.grid(False)\n",
    "\n",
    "    # Calculate Defualt Rate\n",
    "    prob = X_features.groupby(variable).mean()['repeater']\n",
    "\n",
    "    # Middle point for each bar\n",
    "    xaxis=[]\n",
    "    for p in ax1.patches:  #divide into single patch\n",
    "        x=p.get_bbox().get_points()[:,0]\n",
    "        y=p.get_bbox().get_points()[1,1]\n",
    "        xaxis.append(x.mean())\n",
    "\n",
    "    # Default Rate Line\n",
    "    ax2 = ax1.twinx()\n",
    "    ax2.plot(xaxis,prob,'r--', label='Repeat Probability')\n",
    "    ax2.set_ylim(0,1)\n",
    "    ax2.set_ylabel('Repeat Purchase Probability')\n",
    "    ax2.legend()\n",
    "    ax2.grid(None) \n",
    "\n",
    "    # Annotate Defualt Rate\n",
    "    for i in range(len(prob)):\n",
    "        ax2.annotate('{:.1f}%'.format(prob.iloc[i]*100), (xaxis[i], prob.iloc[i]+0.025), \n",
    "                ha='center',va='bottom') # set the alignment of the text"
   ]
  },
  {
   "cell_type": "code",
   "execution_count": 108,
   "metadata": {
    "collapsed": false,
    "scrolled": false
   },
   "outputs": [
    {
     "data": {
      "image/png": "[encoded data removed]",
      "text/plain": [
       "<matplotlib.figure.Figure at 0x1152d8e10>"
      ]
     },
     "metadata": {},
     "output_type": "display_data"
    }
   ],
   "source": [
    "plt.figure(figsize=(14, 10))\n",
    "\n",
    "plt.subplot(331)\n",
    "bins = [0,0.75,1,1.25,1.5,2,3]\n",
    "group_names =['(0,0.75]','(0.75,1]','(1,1.25]','(1.25,1.5]','(1.5,2]','(2,3]']\n",
    "X_features['offervalue_g'] = pd.cut(X_features['offervalue'],bins,labels=group_names)\n",
    "draw_plot('offervalue_g')\n",
    "\n",
    "plt.subplot(332)\n",
    "bins = [0,3333,6666,9999]\n",
    "group_names =['1-3333','3334-6666','6667-9999']\n",
    "X_features['total_spend_g'] = pd.cut(X_features['total_spend'],bins,labels=group_names)\n",
    "draw_plot('total_spend_g')\n",
    "\n",
    "plt.subplot(333)\n",
    "bins = [0,1000,2000,3000,4000,5000]\n",
    "group_names =['1-1000','1001-2000','2001-3000','3001-4000','4001-5000']\n",
    "X_features['total_quant_g'] = pd.cut(X_features['total_quant'],bins,labels=group_names)\n",
    "draw_plot('total_quant_g')\n",
    "\n",
    "plt.subplot(334)\n",
    "bins = [0,50,100,150,200]\n",
    "group_names =['1-50','51-100','101-150','151-200']\n",
    "X_features['total_trips_g'] = pd.cut(X_features['total_trips'],bins,labels=group_names)\n",
    "draw_plot('total_trips_g')\n",
    "\n",
    "plt.subplot(335)\n",
    "bins = [0,40,80,120,160,200]\n",
    "group_names =['1-40','41-80','81-120','121-160','161-200']\n",
    "X_features['ave_spend_g'] = pd.cut(X_features['ave_spend'],bins,labels=group_names)\n",
    "draw_plot('ave_spend_g')\n",
    "\n",
    "plt.subplot(336)\n",
    "bins = [0,10,20,30]\n",
    "group_names =['1-10','11-20','21-30']\n",
    "X_features['ave_quant_g'] = pd.cut(X_features['ave_quant'],bins,labels=group_names)\n",
    "draw_plot('ave_quant_g')\n",
    "\n",
    "plt.subplot(337)\n",
    "bins = [0,5,10,15,20]\n",
    "group_names =['1-5','6-10','11-15','16-20']\n",
    "X_features['days_last_offer_g'] = pd.cut(X_features['days_last_offer'],bins,labels=group_names)\n",
    "draw_plot('days_last_offer_g')\n",
    "\n",
    "plt.subplot(338)\n",
    "bins = [0,2,4,6,8,10]\n",
    "group_names =['1-2','3-4','5-6','7-8','9-10']\n",
    "X_features['ave_unique_company_bought _g'] = pd.cut(X_features['ave_unique_company_bought'],bins,labels=group_names)\n",
    "draw_plot('ave_unique_company_bought _g')\n",
    "\n",
    "plt.subplot(339)\n",
    "bins = [0,2,4,6,8,10]\n",
    "group_names =['1-2','3-4','5-6','7-8','9-10']\n",
    "X_features['ave_unique_category_bought_g'] = pd.cut(X_features['ave_unique_category_bought'],bins,labels=group_names)\n",
    "draw_plot('ave_unique_category_bought_g')\n",
    "\n",
    "plt.tight_layout()"
   ]
  },
  {
   "cell_type": "code",
   "execution_count": 109,
   "metadata": {
    "collapsed": false
   },
   "outputs": [
    {
     "data": {
      "image/png": "[encoded data removed]",
      "text/plain": [
       "<matplotlib.figure.Figure at 0x115143b10>"
      ]
     },
     "metadata": {},
     "output_type": "display_data"
    }
   ],
   "source": [
    "plt.figure(figsize=(14, 10))\n",
    "\n",
    "plt.subplot(331)\n",
    "bins = [0,2,4,6,8,10]\n",
    "group_names =['1-2','3-4','5-6','7-8','9-10']\n",
    "X_features['has_bought_company_g'] = pd.cut(X_features['has_bought_company'],bins,labels=group_names)\n",
    "draw_plot('has_bought_company_g')\n",
    "\n",
    "plt.subplot(332)\n",
    "bins = [0,20,40,60,80,100]\n",
    "group_names =['1-20','21-40','41-60','61-8','81-100']\n",
    "X_features['has_bought_company_a_g'] = pd.cut(X_features['has_bought_company_a'],bins,labels=group_names)\n",
    "draw_plot('has_bought_company_a_g')\n",
    "\n",
    "plt.subplot(333)\n",
    "bins = [0,2,4,6,8,10]\n",
    "group_names =['1-2','3-4','5-6','7-8','9-10']\n",
    "X_features['has_bought_company_q_g'] = pd.cut(X_features['has_bought_company_q'],bins,labels=group_names)\n",
    "draw_plot('has_bought_company_q_g')\n",
    "\n",
    "plt.subplot(334)\n",
    "bins = [-1,0,1]\n",
    "group_names =['0','1']\n",
    "X_features['never_bought_company_g'] = pd.cut(X_features['never_bought_company'],bins,labels=group_names)\n",
    "draw_plot('never_bought_company_g')\n",
    "\n",
    "plt.subplot(335)\n",
    "bins = [-1,0,1]\n",
    "group_names =['0','1']\n",
    "X_features['never_bought_brand_g'] = pd.cut(X_features['never_bought_brand'],bins,labels=group_names)\n",
    "draw_plot('never_bought_brand_g')\n",
    "\n",
    "plt.subplot(336)\n",
    "bins = [-1,0,1]\n",
    "group_names =['0','1']\n",
    "X_features['never_bought_category_g'] = pd.cut(X_features['never_bought_category'],bins,labels=group_names)\n",
    "draw_plot('never_bought_category_g')\n",
    "\n",
    "plt.tight_layout()"
   ]
  },
  {
   "cell_type": "markdown",
   "metadata": {},
   "source": [
    "### Model Execution Strategy<a name='Implementing Algorithms' />\n",
    "\n",
    "#### 1. Single Model\n",
    " - Drop unnecessary features in X_features     \n",
    "  - 'id','offer','repeater','repeattrips','offerdate',\n",
    "    'never_bought_company','never_bought_category','never_bought_brand'\n",
    " - Split the data into training and test sets with ratio of 7:3\n",
    " - Logistic Regresison\n",
    "  - Feature Selection\n",
    "  - Tune The regularization parameters using 10 folds cross-validation and check the highest AUC score\n",
    " - Naive Bayes   \n",
    " \n",
    "#### 2. Ensemble Model\n",
    " - Bagging\n",
    "  - K Nearest Neighbors\n",
    "  - Support Vecotr Machine\n",
    " - Random Forest\n",
    " - AdaBoost\n",
    " - Gradient Tree Boosting\n",
    " - Voting Classifier\n",
    " - XGBoost\n",
    "  - Tune the number of trees and max depth in XGBoost using 10 folds cross-validation and check the highest AUC score\n",
    "  \n",
    "#### 3. Stacking\n",
    "- Generate a 3-model ensemble (GBM + RF + NB)\n",
    "- Generate a random grid of models and stack them together\n"
   ]
  },
  {
   "cell_type": "code",
   "execution_count": 54,
   "metadata": {
    "collapsed": false
   },
   "outputs": [],
   "source": [
    "#Predction using Scikit learn\n",
    "from sklearn.linear_model import LogisticRegression\n",
    "from sklearn.naive_bayes import GaussianNB\n",
    "from xgboost import XGBClassifier\n",
    "from sklearn.cross_validation import train_test_split\n",
    "from sklearn.metrics import roc_auc_score\n",
    "from sklearn.metrics import accuracy_score\n",
    "from sklearn import metrics\n",
    "from sklearn.model_selection import GridSearchCV\n",
    "from sklearn.model_selection import StratifiedKFold\n",
    "from sklearn.feature_selection import f_classif, SelectKBest\n",
    "from sklearn.pipeline import Pipeline"
   ]
  },
  {
   "cell_type": "code",
   "execution_count": 55,
   "metadata": {
    "collapsed": false
   },
   "outputs": [],
   "source": [
    "X_features = pd.read_csv('X_features.csv')"
   ]
  },
  {
   "cell_type": "code",
   "execution_count": 56,
   "metadata": {
    "collapsed": false
   },
   "outputs": [
    {
     "data": {
      "text/plain": [
       "(9760, 88)"
      ]
     },
     "execution_count": 56,
     "metadata": {},
     "output_type": "execute_result"
    }
   ],
   "source": [
    "Y_features = X_features[['id','repeater']]\n",
    "X_features.drop(['id','offer','quantity','repeater','repeattrips','offerdate','never_bought_company','never_bought_category','never_bought_brand'],axis=1,inplace=True)\n",
    "X_features.shape"
   ]
  },
  {
   "cell_type": "code",
   "execution_count": 57,
   "metadata": {
    "collapsed": false
   },
   "outputs": [],
   "source": [
    "# Split the data into training and test sets\n",
    "X_train,X_test,Y_train,Y_test=train_test_split(X_features,Y_features.repeater,test_size=0.3,random_state=3)"
   ]
  },
  {
   "cell_type": "code",
   "execution_count": 161,
   "metadata": {
    "collapsed": true
   },
   "outputs": [],
   "source": [
    "Y_train = pd.DataFrame(Y_train)\n",
    "Y_test = pd.DataFrame(Y_test)\n"
   ]
  },
  {
   "cell_type": "code",
   "execution_count": 162,
   "metadata": {
    "collapsed": true
   },
   "outputs": [],
   "source": [
    "train = pd.concat([X_train,Y_train],1)\n",
    "test = pd.concat([X_test,Y_test],1)"
   ]
  },
  {
   "cell_type": "code",
   "execution_count": 163,
   "metadata": {
    "collapsed": false
   },
   "outputs": [],
   "source": [
    "train = train.reset_index(drop=True)\n",
    "test = test.reset_index(drop=True)"
   ]
  },
  {
   "cell_type": "code",
   "execution_count": 164,
   "metadata": {
    "collapsed": true
   },
   "outputs": [],
   "source": [
    "train.to_csv('train.csv',sep=',',index=False)\n",
    "test.to_csv('test.csv',sep=',',index=False)"
   ]
  },
  {
   "cell_type": "markdown",
   "metadata": {},
   "source": [
    "### Single Models"
   ]
  },
  {
   "cell_type": "markdown",
   "metadata": {},
   "source": [
    "#### Logistic Regression"
   ]
  },
  {
   "cell_type": "code",
   "execution_count": 63,
   "metadata": {
    "collapsed": false
   },
   "outputs": [
    {
     "name": "stdout",
     "output_type": "stream",
     "text": [
      "AUC score for k=20 is: 60.796%\n",
      "AUC score for k=25 is: 61.405%\n",
      "AUC score for k=30 is: 62.132%\n",
      "AUC score for k=35 is: 65.751%\n",
      "AUC score for k=40 is: 65.587%\n",
      "AUC score for k=45 is: 65.860%\n",
      "AUC score for k=50 is: 66.958%\n",
      "AUC score for k=60 is: 67.447%\n",
      "AUC score for k=70 is: 68.096%\n",
      "AUC score for k=80 is: 68.150%\n",
      "AUC score for k=88 is: 68.129%\n"
     ]
    }
   ],
   "source": [
    "# Feature Selection: compute ANOVA F-value and select features accoring to the k highest features\n",
    "from sklearn.feature_selection import f_classif, SelectKBest\n",
    "from sklearn.pipeline import Pipeline\n",
    "k = [20,25,30,35,40,45,50,60,70,80,88]\n",
    "for i in k:\n",
    "    clf = LogisticRegression()\n",
    "    filter1 = SelectKBest(f_classif, k=i)\n",
    "    pipe = Pipeline([('anova', filter1), ('logistic', clf)])\n",
    "    pipe.fit(X_train, Y_train)\n",
    "    Y_pred = pipe.predict(X_test)\n",
    "    prob = pipe.predict_proba(X_test)\n",
    "    preds =  pipe.predict(X_test)\n",
    "    score = roc_auc_score(Y_test, prob[:,1])\n",
    "    print ('AUC score for k={0:d} is: {1:.3%}'.format(i,score))"
   ]
  },
  {
   "cell_type": "code",
   "execution_count": 64,
   "metadata": {
    "collapsed": true
   },
   "outputs": [],
   "source": [
    "# Create new dataframe with only desired columns\n",
    "clf = LogisticRegression()\n",
    "filter1 = SelectKBest(f_classif, k=80)\n",
    "pipe = Pipeline([('anova', filter1), ('logistic', clf)])\n",
    "pipe.fit(X_train, Y_train)\n",
    "idxs_selected = filter1.get_support(indices=True)\n",
    "features_new = X_features.columns[idxs_selected]\n",
    "X_train_selected = X_train[features_new]\n",
    "X_test_selected = X_test[features_new]\n",
    "X_selected = pd.concat([X_train_selected,X_test_selected])\n"
   ]
  },
  {
   "cell_type": "code",
   "execution_count": 65,
   "metadata": {
    "collapsed": false,
    "scrolled": true
   },
   "outputs": [
    {
     "data": {
      "text/plain": [
       "Index([u'total_spend', u'total_quant', u'total_trips', u'ave_spend',\n",
       "       u'ave_quant', u'unique_company_bought', u'unique_category_bought',\n",
       "       u'unique_brand_bought', u'ave_unique_company_bought',\n",
       "       u'ave_unique_category_bought', u'days_last_offer',\n",
       "       u'has_bought_company', u'has_bought_company_q', u'has_bought_company_a',\n",
       "       u'has_bought_company_30', u'has_bought_company_q_30',\n",
       "       u'has_bought_company_a_30', u'has_bought_company_60',\n",
       "       u'has_bought_company_q_60', u'has_bought_company_a_60',\n",
       "       u'has_bought_company_90', u'has_bought_company_q_90',\n",
       "       u'has_bought_company_a_90', u'has_bought_company_180',\n",
       "       u'has_bought_company_q_180', u'has_bought_company_a_180',\n",
       "       u'has_bought_category', u'has_bought_category_q',\n",
       "       u'has_bought_category_a', u'has_bought_category_30',\n",
       "       u'has_bought_category_q_30', u'has_bought_category_a_30',\n",
       "       u'has_bought_category_60', u'has_bought_category_q_60',\n",
       "       u'has_bought_category_a_60', u'has_bought_category_90',\n",
       "       u'has_bought_category_q_90', u'has_bought_category_a_90',\n",
       "       u'has_bought_category_180', u'has_bought_category_q_180',\n",
       "       u'has_bought_category_a_180', u'has_bought_brand',\n",
       "       u'has_bought_brand_q', u'has_bought_brand_a', u'has_bought_brand_30',\n",
       "       u'has_bought_brand_q_30', u'has_bought_brand_a_30',\n",
       "       u'has_bought_brand_60', u'has_bought_brand_q_60',\n",
       "       u'has_bought_brand_a_60', u'has_bought_brand_90',\n",
       "       u'has_bought_brand_q_90', u'has_bought_brand_a_90',\n",
       "       u'has_bought_brand_180', u'has_bought_brand_q_180',\n",
       "       u'has_bought_brand_a_180', u'has_bought_brand_company_category',\n",
       "       u'has_bought_brand_category', u'has_bought_brand_company',\n",
       "       u'company_104460040', u'company_104610040', u'company_106414464',\n",
       "       u'company_108079383', u'company_Other', u'category_2119',\n",
       "       u'category_2202', u'category_3203', u'category_5616', u'category_Other',\n",
       "       u'brand_3718', u'brand_6926', u'brand_13474', u'brand_15889',\n",
       "       u'brand_Other', u'chain_6', u'chain_8', u'chain_12', u'market_1',\n",
       "       u'market_4', u'market_7'],\n",
       "      dtype='object')"
      ]
     },
     "execution_count": 65,
     "metadata": {},
     "output_type": "execute_result"
    }
   ],
   "source": [
    "features_new"
   ]
  },
  {
   "cell_type": "code",
   "execution_count": 62,
   "metadata": {
    "collapsed": false
   },
   "outputs": [
    {
     "name": "stdout",
     "output_type": "stream",
     "text": [
      "[0.03, 0.09, 0.27, 0.81, 1.0, 3.0, 9.0, 27.0, 81.0, 243.0]\n",
      "Fitting 10 folds for each of 10 candidates, totalling 100 fits\n"
     ]
    },
    {
     "name": "stderr",
     "output_type": "stream",
     "text": [
      "[Parallel(n_jobs=-1)]: Done  42 tasks      | elapsed:    6.4s\n",
      "[Parallel(n_jobs=-1)]: Done 100 out of 100 | elapsed:   19.7s finished\n"
     ]
    },
    {
     "name": "stdout",
     "output_type": "stream",
     "text": [
      "Best: 0.668012 using {'C': 0.03}\n",
      "0.668012 (0.026313) with: {'C': 0.03}\n",
      "0.666422 (0.025552) with: {'C': 0.09}\n",
      "0.665131 (0.025350) with: {'C': 0.27}\n",
      "0.664287 (0.025666) with: {'C': 0.81}\n",
      "0.664261 (0.025711) with: {'C': 1.0}\n",
      "0.663532 (0.025809) with: {'C': 3.0}\n",
      "0.663279 (0.025830) with: {'C': 9.0}\n",
      "0.663117 (0.025926) with: {'C': 27.0}\n",
      "0.663089 (0.025936) with: {'C': 81.0}\n",
      "0.663093 (0.025935) with: {'C': 243.0}\n"
     ]
    }
   ],
   "source": [
    "#Hyperparameter Tuning: tune regularization parameter in 10-fold cross-validation\n",
    "model = LogisticRegression()\n",
    "C = [0.03,0.09,0.27,0.81,1.0,3.0,9.0,27.0,81.0,243.0]\n",
    "print(C)\n",
    "param_grid = dict(C=C)\n",
    "kfold = StratifiedKFold(n_splits=10, shuffle=True, random_state=7)\n",
    "grid_search = GridSearchCV(model, param_grid, scoring=\"roc_auc\", n_jobs=-1, cv=kfold, verbose=1)\n",
    "grid_result = grid_search.fit(X_train, Y_train)\n",
    "# summarize results\n",
    "print(\"Best: %f using %s\" % (grid_result.best_score_, grid_result.best_params_))\n",
    "means = grid_result.cv_results_['mean_test_score']\n",
    "stds = grid_result.cv_results_['std_test_score']\n",
    "params = grid_result.cv_results_['params']\n",
    "for mean, stdev, param in zip(means, stds, params):\n",
    "    print(\"%f (%f) with: %r\" % (mean, stdev, param))"
   ]
  },
  {
   "cell_type": "code",
   "execution_count": 67,
   "metadata": {
    "collapsed": false
   },
   "outputs": [
    {
     "name": "stdout",
     "output_type": "stream",
     "text": [
      "AUC score is 67.88%\n"
     ]
    }
   ],
   "source": [
    "# Check performance is test dataset usin C=0.03 and k=80\n",
    "model = LogisticRegression(C=0.03)\n",
    "model.fit(X_train_selected,Y_train)\n",
    "prob = model.predict_proba(X_test_selected)\n",
    "score = roc_auc_score(Y_test,prob[:,1])\n",
    "print ('AUC score is {:.2%}'.format(score))"
   ]
  },
  {
   "cell_type": "markdown",
   "metadata": {},
   "source": [
    "#### Gaussian Naive Bayes"
   ]
  },
  {
   "cell_type": "code",
   "execution_count": 69,
   "metadata": {
    "collapsed": false
   },
   "outputs": [
    {
     "name": "stdout",
     "output_type": "stream",
     "text": [
      "AUC score is: 65.45%\n"
     ]
    }
   ],
   "source": [
    "# Fit the training model\n",
    "NB = GaussianNB()\n",
    "NB.fit(X_train,Y_train)\n",
    "\n",
    "# Prediction from X_test\n",
    "Y_pred = NB.predict(X_test)\n",
    "prob = NB.predict_proba(X_test)\n",
    "score = roc_auc_score(Y_test,prob[:,1])\n",
    "print ('AUC score is: {:.2%}'.format(score))"
   ]
  },
  {
   "cell_type": "markdown",
   "metadata": {},
   "source": [
    "### Ensemble Models"
   ]
  },
  {
   "cell_type": "markdown",
   "metadata": {},
   "source": [
    "#### Bagging\n",
    "- K Nearest Neighbors\n",
    " - Choose n_neighbors=5\n",
    "- Support Vector Machine\n",
    " - Tune Hyperparameter\n",
    " - Choose n_estimators=5, C=2"
   ]
  },
  {
   "cell_type": "code",
   "execution_count": null,
   "metadata": {
    "collapsed": true
   },
   "outputs": [],
   "source": [
    "######## Bagging Algorithm - K Nearest Neighbors ########"
   ]
  },
  {
   "cell_type": "code",
   "execution_count": 26,
   "metadata": {
    "collapsed": false
   },
   "outputs": [],
   "source": [
    "BaggingClassifier?"
   ]
  },
  {
   "cell_type": "code",
   "execution_count": 20,
   "metadata": {
    "collapsed": true
   },
   "outputs": [],
   "source": [
    "KNeighborsClassifier?"
   ]
  },
  {
   "cell_type": "code",
   "execution_count": 71,
   "metadata": {
    "collapsed": false
   },
   "outputs": [],
   "source": [
    "from sklearn.ensemble import BaggingClassifier\n",
    "from sklearn.svm import SVC\n",
    "from sklearn.neighbors import KNeighborsClassifier\n",
    "\n",
    "m = KNeighborsClassifier(n_neighbors=5)"
   ]
  },
  {
   "cell_type": "code",
   "execution_count": 22,
   "metadata": {
    "collapsed": true
   },
   "outputs": [],
   "source": [
    "bag = BaggingClassifier(\n",
    "    m, \n",
    "    max_samples=1.0, \n",
    "    n_jobs=2,\n",
    "    oob_score=True)"
   ]
  },
  {
   "cell_type": "code",
   "execution_count": 23,
   "metadata": {
    "collapsed": false
   },
   "outputs": [
    {
     "data": {
      "text/plain": [
       "BaggingClassifier(base_estimator=KNeighborsClassifier(algorithm='auto', leaf_size=30, metric='minkowski',\n",
       "           metric_params=None, n_jobs=1, n_neighbors=5, p=2,\n",
       "           weights='uniform'),\n",
       "         bootstrap=True, bootstrap_features=False, max_features=1.0,\n",
       "         max_samples=1.0, n_estimators=10, n_jobs=2, oob_score=True,\n",
       "         random_state=None, verbose=0, warm_start=False)"
      ]
     },
     "execution_count": 23,
     "metadata": {},
     "output_type": "execute_result"
    }
   ],
   "source": [
    "bag.fit(X_train, Y_train)"
   ]
  },
  {
   "cell_type": "code",
   "execution_count": 24,
   "metadata": {
    "collapsed": false
   },
   "outputs": [
    {
     "data": {
      "text/plain": [
       "0.73141100702576112"
      ]
     },
     "execution_count": 24,
     "metadata": {},
     "output_type": "execute_result"
    }
   ],
   "source": [
    "bag.oob_score_"
   ]
  },
  {
   "cell_type": "code",
   "execution_count": 25,
   "metadata": {
    "collapsed": false
   },
   "outputs": [
    {
     "name": "stdout",
     "output_type": "stream",
     "text": [
      "AUC score is: 60.81%\n"
     ]
    }
   ],
   "source": [
    "# Prediction from X_test\n",
    "Y_pred = bag.predict(X_test)\n",
    "prob = bag.predict_proba(X_test)\n",
    "score = roc_auc_score(Y_test,prob[:,1])\n",
    "print ('AUC score is: {:.2%}'.format(score))"
   ]
  },
  {
   "cell_type": "code",
   "execution_count": 29,
   "metadata": {
    "collapsed": true
   },
   "outputs": [],
   "source": [
    "######## Bagging Algorithm - Support Vector Machine ########"
   ]
  },
  {
   "cell_type": "code",
   "execution_count": 28,
   "metadata": {
    "collapsed": true
   },
   "outputs": [],
   "source": [
    "SVC?"
   ]
  },
  {
   "cell_type": "code",
   "execution_count": 72,
   "metadata": {
    "collapsed": false
   },
   "outputs": [
    {
     "name": "stdout",
     "output_type": "stream",
     "text": [
      "Best: 0.641167 using {'base_estimator__C': 4, 'n_estimators': 10}\n"
     ]
    }
   ],
   "source": [
    "# Take some time\n",
    "# Tune hyperparameters\n",
    "parameters = {'n_estimators': (5, 10),\n",
    "              'base_estimator__C': (1,2,4)}\n",
    " \n",
    "grid_search = GridSearchCV(BaggingClassifier(SVC()),parameters,scoring=\"roc_auc\")\n",
    "    \n",
    "grid_result = grid_search.fit(X_train, Y_train)\n",
    "# summarize results\n",
    "print(\"Best: %f using %s\" % (grid_result.best_score_, grid_result.best_params_))"
   ]
  },
  {
   "cell_type": "code",
   "execution_count": 76,
   "metadata": {
    "collapsed": false
   },
   "outputs": [],
   "source": [
    "# Check performance in test dataset\n",
    "bag = BaggingClassifier(\n",
    "    SVC(C=4), \n",
    "    n_estimators=10,\n",
    "    max_samples=1.0, \n",
    "    n_jobs=2,\n",
    "    oob_score=True)"
   ]
  },
  {
   "cell_type": "code",
   "execution_count": 77,
   "metadata": {
    "collapsed": false
   },
   "outputs": [
    {
     "data": {
      "text/plain": [
       "BaggingClassifier(base_estimator=SVC(C=4, cache_size=200, class_weight=None, coef0=0.0,\n",
       "  decision_function_shape=None, degree=3, gamma='auto', kernel='rbf',\n",
       "  max_iter=-1, probability=False, random_state=None, shrinking=True,\n",
       "  tol=0.001, verbose=False),\n",
       "         bootstrap=True, bootstrap_features=False, max_features=1.0,\n",
       "         max_samples=1.0, n_estimators=10, n_jobs=2, oob_score=True,\n",
       "         random_state=None, verbose=0, warm_start=False)"
      ]
     },
     "execution_count": 77,
     "metadata": {},
     "output_type": "execute_result"
    }
   ],
   "source": [
    "bag.fit(X_train, Y_train)"
   ]
  },
  {
   "cell_type": "code",
   "execution_count": 78,
   "metadata": {
    "collapsed": false
   },
   "outputs": [
    {
     "name": "stdout",
     "output_type": "stream",
     "text": [
      "AUC score is: 58.38%\n"
     ]
    }
   ],
   "source": [
    "# Prediction from X_test\n",
    "Y_pred = bag.predict(X_test)\n",
    "prob = bag.predict_proba(X_test)\n",
    "score = roc_auc_score(Y_test,prob[:,1])\n",
    "print ('AUC score is: {:.2%}'.format(score))"
   ]
  },
  {
   "cell_type": "markdown",
   "metadata": {},
   "source": [
    "#### Random Forest"
   ]
  },
  {
   "cell_type": "code",
   "execution_count": 47,
   "metadata": {
    "collapsed": true
   },
   "outputs": [],
   "source": [
    "RandomForestClassifier?"
   ]
  },
  {
   "cell_type": "code",
   "execution_count": 43,
   "metadata": {
    "collapsed": false
   },
   "outputs": [
    {
     "name": "stdout",
     "output_type": "stream",
     "text": [
      "AUC score is: 61.59%\n"
     ]
    }
   ],
   "source": [
    "from sklearn.ensemble import RandomForestClassifier\n",
    "\n",
    "m = RandomForestClassifier(n_estimators=15, oob_score=True)\n",
    "m.fit(X_train, Y_train)\n",
    "Y_pred = m.predict(X_test)\n",
    "prob = m.predict_proba(X_test)\n",
    "score = roc_auc_score(Y_test,prob[:,1])\n",
    "print 'AUC score is: {:.2%}'.format(score)"
   ]
  },
  {
   "cell_type": "markdown",
   "metadata": {},
   "source": [
    "#### AdaBoost"
   ]
  },
  {
   "cell_type": "code",
   "execution_count": 46,
   "metadata": {
    "collapsed": true
   },
   "outputs": [],
   "source": [
    "AdaBoostClassifier?"
   ]
  },
  {
   "cell_type": "code",
   "execution_count": 49,
   "metadata": {
    "collapsed": false
   },
   "outputs": [
    {
     "name": "stdout",
     "output_type": "stream",
     "text": [
      "AUC score is: 66.70%\n"
     ]
    }
   ],
   "source": [
    "from sklearn.ensemble import AdaBoostClassifier \n",
    "m = AdaBoostClassifier(n_estimators=30)\n",
    "m.fit(X_train, Y_train)\n",
    "Y_pred = m.predict(X_test)\n",
    "prob = m.predict_proba(X_test)\n",
    "score = roc_auc_score(Y_test,prob[:,1])\n",
    "print 'AUC score is: {:.2%}'.format(score)"
   ]
  },
  {
   "cell_type": "markdown",
   "metadata": {},
   "source": [
    "#### Gradient Tree Boosting"
   ]
  },
  {
   "cell_type": "code",
   "execution_count": 51,
   "metadata": {
    "collapsed": false
   },
   "outputs": [
    {
     "name": "stdout",
     "output_type": "stream",
     "text": [
      "AUC score is: 67.95%\n"
     ]
    }
   ],
   "source": [
    "from sklearn.ensemble import GradientBoostingClassifier\n",
    "m = GradientBoostingClassifier(n_estimators=10)\n",
    "m.fit(X_train, Y_train)\n",
    "Y_pred = m.predict(X_test)\n",
    "prob = m.predict_proba(X_test)\n",
    "score = roc_auc_score(Y_test,prob[:,1])\n",
    "print 'AUC score is: {:.2%}'.format(score)"
   ]
  },
  {
   "cell_type": "markdown",
   "metadata": {},
   "source": [
    "#### Voting Classifier"
   ]
  },
  {
   "cell_type": "code",
   "execution_count": 54,
   "metadata": {
    "collapsed": true
   },
   "outputs": [],
   "source": [
    "VotingClassifier?"
   ]
  },
  {
   "cell_type": "code",
   "execution_count": 52,
   "metadata": {
    "collapsed": true
   },
   "outputs": [],
   "source": [
    "from sklearn.ensemble import VotingClassifier\n",
    "from sklearn.linear_model import LogisticRegression\n",
    "from sklearn.naive_bayes import GaussianNB\n",
    "from sklearn.ensemble import RandomForestClassifier"
   ]
  },
  {
   "cell_type": "code",
   "execution_count": 55,
   "metadata": {
    "collapsed": false
   },
   "outputs": [
    {
     "name": "stdout",
     "output_type": "stream",
     "text": [
      "AUC score is: 64.61%\n"
     ]
    }
   ],
   "source": [
    "m = VotingClassifier(\n",
    "    estimators=[('lr', LogisticRegression()), \n",
    "                ('rf', RandomForestClassifier()), \n",
    "                ('gnb', GaussianNB())], \n",
    "                voting='soft')\n",
    "\n",
    "m.fit(X_train, Y_train)\n",
    "Y_pred = m.predict(X_test)\n",
    "prob = m.predict_proba(X_test)\n",
    "score = roc_auc_score(Y_test,prob[:,1])\n",
    "print 'AUC score is: {:.2%}'.format(score)"
   ]
  },
  {
   "cell_type": "markdown",
   "metadata": {},
   "source": [
    "#### XGBoost"
   ]
  },
  {
   "cell_type": "code",
   "execution_count": 84,
   "metadata": {
    "collapsed": true
   },
   "outputs": [],
   "source": [
    "import numpy\n",
    "from matplotlib import pyplot"
   ]
  },
  {
   "cell_type": "code",
   "execution_count": 85,
   "metadata": {
    "collapsed": false
   },
   "outputs": [
    {
     "name": "stdout",
     "output_type": "stream",
     "text": [
      "[2, 4, 6, 8]\n",
      "Fitting 10 folds for each of 16 candidates, totalling 160 fits\n"
     ]
    },
    {
     "name": "stderr",
     "output_type": "stream",
     "text": [
      "[Parallel(n_jobs=-1)]: Done  42 tasks      | elapsed:    4.2s\n",
      "[Parallel(n_jobs=-1)]: Done 160 out of 160 | elapsed:   27.0s finished\n"
     ]
    },
    {
     "name": "stdout",
     "output_type": "stream",
     "text": [
      "Best: 0.672357 using {'n_estimators': 15, 'max_depth': 4}\n",
      "0.633942 (0.023852) with: {'n_estimators': 5, 'max_depth': 2}\n",
      "0.648556 (0.020966) with: {'n_estimators': 10, 'max_depth': 2}\n",
      "0.659493 (0.018645) with: {'n_estimators': 15, 'max_depth': 2}\n",
      "0.663829 (0.021679) with: {'n_estimators': 20, 'max_depth': 2}\n",
      "0.668036 (0.022237) with: {'n_estimators': 5, 'max_depth': 4}\n",
      "0.671583 (0.024060) with: {'n_estimators': 10, 'max_depth': 4}\n",
      "0.672357 (0.021990) with: {'n_estimators': 15, 'max_depth': 4}\n",
      "0.670560 (0.021514) with: {'n_estimators': 20, 'max_depth': 4}\n",
      "0.661224 (0.017080) with: {'n_estimators': 5, 'max_depth': 6}\n",
      "0.665126 (0.017945) with: {'n_estimators': 10, 'max_depth': 6}\n",
      "0.666019 (0.017322) with: {'n_estimators': 15, 'max_depth': 6}\n",
      "0.665652 (0.017073) with: {'n_estimators': 20, 'max_depth': 6}\n",
      "0.651146 (0.015239) with: {'n_estimators': 5, 'max_depth': 8}\n",
      "0.659669 (0.018395) with: {'n_estimators': 10, 'max_depth': 8}\n",
      "0.657176 (0.018880) with: {'n_estimators': 15, 'max_depth': 8}\n",
      "0.657394 (0.019888) with: {'n_estimators': 20, 'max_depth': 8}\n"
     ]
    },
    {
     "data": {
      "text/plain": [
       "<matplotlib.text.Text at 0x11b2ee210>"
      ]
     },
     "execution_count": 85,
     "metadata": {},
     "output_type": "execute_result"
    },
    {
     "data": {
      "image/png": "[encoded data removed]",
      "text/plain": [
       "<matplotlib.figure.Figure at 0x11b2d2610>"
      ]
     },
     "metadata": {},
     "output_type": "display_data"
    }
   ],
   "source": [
    "#Hyperparameter Tuning: tune The Number of Trees and Max Depth in XGBoost (10 foldes cross-validation)\n",
    "# grid search\n",
    "model = XGBClassifier()\n",
    "n_estimators = [5, 10, 15, 20]\n",
    "max_depth = [2, 4, 6, 8]\n",
    "print(max_depth)\n",
    "param_grid = dict(max_depth=max_depth, n_estimators=n_estimators)\n",
    "kfold = StratifiedKFold(n_splits=10, shuffle=True, random_state=7)\n",
    "grid_search = GridSearchCV(model, param_grid, scoring=\"roc_auc\", n_jobs=-1, cv=kfold, verbose=1)\n",
    "grid_result = grid_search.fit(X_train, Y_train)\n",
    "# summarize results\n",
    "print(\"Best: %f using %s\" % (grid_result.best_score_, grid_result.best_params_))\n",
    "means = grid_result.cv_results_['mean_test_score']\n",
    "stds = grid_result.cv_results_['std_test_score']\n",
    "params = grid_result.cv_results_['params']\n",
    "for mean, stdev, param in zip(means, stds, params):\n",
    "    print(\"%f (%f) with: %r\" % (mean, stdev, param))\n",
    "# plot results\n",
    "scores = numpy.array(means).reshape(len(max_depth), len(n_estimators))\n",
    "for i, value in enumerate(max_depth):\n",
    "    pyplot.plot(n_estimators, scores[i], label='depth: ' + str(value))\n",
    "pyplot.legend()\n",
    "pyplot.xlabel('n_estimators')\n",
    "pyplot.ylabel('Log Loss')\n"
   ]
  },
  {
   "cell_type": "code",
   "execution_count": 87,
   "metadata": {
    "collapsed": false
   },
   "outputs": [
    {
     "name": "stdout",
     "output_type": "stream",
     "text": [
      "AUC score: 63.30%\n",
      "Predicted correctly: 2217/2928\n",
      "Error: 24.2828%\n"
     ]
    }
   ],
   "source": [
    "# Check performance\n",
    "params = {\n",
    "    'objective': 'binary:logistic',\n",
    "    'max_depth': 4,\n",
    "    'learning_rate': 1.0,\n",
    "    'silent': 1.0,\n",
    "    'n_estimators': 15\n",
    "}\n",
    "\n",
    "bst = XGBClassifier(**params).fit(X_train, Y_train)\n",
    "\n",
    "prob = bst.predict_proba(X_test)[:,1]\n",
    "score = roc_auc_score(Y_test,prob)\n",
    "\n",
    "preds = bst.predict(X_test)\n",
    "\n",
    "correct = 0\n",
    "for i in range(len(preds)):\n",
    "    if (Y_test.iloc[i] == preds[i]):\n",
    "        correct += 1\n",
    "        \n",
    "acc = accuracy_score(Y_test, preds)\n",
    "\n",
    "print ('AUC score: {0:.2%}'.format(score))\n",
    "print('Predicted correctly: {0}/{1}'.format(correct, len(preds)))\n",
    "print('Error: {0:.4%}'.format(1-acc))\n"
   ]
  },
  {
   "cell_type": "markdown",
   "metadata": {},
   "source": [
    "### Stacking"
   ]
  },
  {
   "cell_type": "code",
   "execution_count": 1,
   "metadata": {
    "collapsed": false
   },
   "outputs": [
    {
     "name": "stdout",
     "output_type": "stream",
     "text": [
      "Checking whether there is an H2O instance running at http://localhost:54321..... not found.\n",
      "Attempting to start a local H2O server...\n",
      "  Java Version: java version \"1.8.0_101\"; Java(TM) SE Runtime Environment (build 1.8.0_101-b13); Java HotSpot(TM) 64-Bit Server VM (build 25.101-b13, mixed mode)\n",
      "  Starting server from /Users/Frank/anaconda/lib/python2.7/site-packages/h2o/backend/bin/h2o.jar\n",
      "  Ice root: /var/folders/m5/352p7lrs3xsbghgj8hxc88h40000gn/T/tmpd5euQv\n",
      "  JVM stdout: /var/folders/m5/352p7lrs3xsbghgj8hxc88h40000gn/T/tmpd5euQv/h2o_Frank_started_from_python.out\n",
      "  JVM stderr: /var/folders/m5/352p7lrs3xsbghgj8hxc88h40000gn/T/tmpd5euQv/h2o_Frank_started_from_python.err\n",
      "  Server is running at http://127.0.0.1:54321\n",
      "Connecting to H2O server at http://127.0.0.1:54321... successful.\n"
     ]
    },
    {
     "data": {
      "text/html": [
       "<div style=\"overflow:auto\"><table style=\"width:50%\"><tr><td>H2O cluster uptime:</td>\n",
       "<td>02 secs</td></tr>\n",
       "<tr><td>H2O cluster version:</td>\n",
       "<td>3.10.5.3</td></tr>\n",
       "<tr><td>H2O cluster version age:</td>\n",
       "<td>19 days </td></tr>\n",
       "<tr><td>H2O cluster name:</td>\n",
       "<td>H2O_from_python_Frank_eook6l</td></tr>\n",
       "<tr><td>H2O cluster total nodes:</td>\n",
       "<td>1</td></tr>\n",
       "<tr><td>H2O cluster free memory:</td>\n",
       "<td>1.778 Gb</td></tr>\n",
       "<tr><td>H2O cluster total cores:</td>\n",
       "<td>4</td></tr>\n",
       "<tr><td>H2O cluster allowed cores:</td>\n",
       "<td>4</td></tr>\n",
       "<tr><td>H2O cluster status:</td>\n",
       "<td>accepting new members, healthy</td></tr>\n",
       "<tr><td>H2O connection url:</td>\n",
       "<td>http://127.0.0.1:54321</td></tr>\n",
       "<tr><td>H2O connection proxy:</td>\n",
       "<td>None</td></tr>\n",
       "<tr><td>H2O internal security:</td>\n",
       "<td>False</td></tr>\n",
       "<tr><td>Python version:</td>\n",
       "<td>2.7.13 final</td></tr></table></div>"
      ],
      "text/plain": [
       "--------------------------  ------------------------------\n",
       "H2O cluster uptime:         02 secs\n",
       "H2O cluster version:        3.10.5.3\n",
       "H2O cluster version age:    19 days\n",
       "H2O cluster name:           H2O_from_python_Frank_eook6l\n",
       "H2O cluster total nodes:    1\n",
       "H2O cluster free memory:    1.778 Gb\n",
       "H2O cluster total cores:    4\n",
       "H2O cluster allowed cores:  4\n",
       "H2O cluster status:         accepting new members, healthy\n",
       "H2O connection url:         http://127.0.0.1:54321\n",
       "H2O connection proxy:\n",
       "H2O internal security:      False\n",
       "Python version:             2.7.13 final\n",
       "--------------------------  ------------------------------"
      ]
     },
     "metadata": {},
     "output_type": "display_data"
    }
   ],
   "source": [
    "import h2o\n",
    "from h2o.estimators.random_forest import H2ORandomForestEstimator\n",
    "from h2o.estimators.gbm import H2OGradientBoostingEstimator\n",
    "from h2o.estimators.naive_bayes  import H2ONaiveBayesEstimator\n",
    "from h2o.estimators.stackedensemble import H2OStackedEnsembleEstimator\n",
    "from h2o.grid.grid_search import H2OGridSearch\n",
    "from __future__ import print_function\n",
    "h2o.init()"
   ]
  },
  {
   "cell_type": "code",
   "execution_count": 2,
   "metadata": {
    "collapsed": false
   },
   "outputs": [
    {
     "name": "stdout",
     "output_type": "stream",
     "text": [
      "Parse progress: |█████████████████████████████████████████████████████████| 100%\n",
      "Parse progress: |█████████████████████████████████████████████████████████| 100%\n"
     ]
    }
   ],
   "source": [
    "# Import a sample binary outcome train/test set into H2O\n",
    "train = h2o.import_file(\"train.csv\")\n",
    "test = h2o.import_file(\"test.csv\")"
   ]
  },
  {
   "cell_type": "code",
   "execution_count": 3,
   "metadata": {
    "collapsed": true
   },
   "outputs": [],
   "source": [
    "# Identify predictors and response\n",
    "x = train.columns\n",
    "y = \"repeater\"\n",
    "x.remove(y)"
   ]
  },
  {
   "cell_type": "code",
   "execution_count": 4,
   "metadata": {
    "collapsed": false
   },
   "outputs": [],
   "source": [
    "# For binary classification, response should be a factor\n",
    "train[y] = train[y].asfactor()\n",
    "test[y] = test[y].asfactor()\n"
   ]
  },
  {
   "cell_type": "code",
   "execution_count": 5,
   "metadata": {
    "collapsed": true
   },
   "outputs": [],
   "source": [
    "# Number of CV folds (to generate level-one data for stacking)\n",
    "nfolds = 5"
   ]
  },
  {
   "cell_type": "code",
   "execution_count": 127,
   "metadata": {
    "collapsed": true
   },
   "outputs": [],
   "source": [
    "# Note: All base models must have the same cross-validation folds and\n",
    "# the cross-validated predicted values must be kept."
   ]
  },
  {
   "cell_type": "code",
   "execution_count": 124,
   "metadata": {
    "collapsed": true
   },
   "outputs": [],
   "source": [
    "# 1. Generate a 3-model ensemble (GBM + RF + NB)"
   ]
  },
  {
   "cell_type": "code",
   "execution_count": 14,
   "metadata": {
    "collapsed": false
   },
   "outputs": [
    {
     "name": "stdout",
     "output_type": "stream",
     "text": [
      "gbm Model Build progress: |███████████████████████████████████████████████| 100%\n"
     ]
    }
   ],
   "source": [
    "# Train and cross-validate a GBM\n",
    "my_gbm = H2OGradientBoostingEstimator(distribution=\"bernoulli\",\n",
    "                                      ntrees=10,\n",
    "                                      max_depth=3,\n",
    "                                      min_rows=2,\n",
    "                                      learn_rate=0.2,\n",
    "                                      nfolds=nfolds,\n",
    "                                      fold_assignment=\"Modulo\",\n",
    "                                      keep_cross_validation_predictions=True,\n",
    "                                      seed=1)\n",
    "my_gbm.train(x=x, y=y, training_frame=train)"
   ]
  },
  {
   "cell_type": "code",
   "execution_count": 23,
   "metadata": {
    "collapsed": false
   },
   "outputs": [
    {
     "name": "stdout",
     "output_type": "stream",
     "text": [
      "naivebayes Model Build progress: |████████████████████████████████████████| 100%\n"
     ]
    }
   ],
   "source": [
    "# Train and cross- validate a Naive Bayes\n",
    "my_nb = H2ONaiveBayesEstimator(nfolds=nfolds,\n",
    "                               fold_assignment=\"Modulo\",\n",
    "                               keep_cross_validation_predictions=True,\n",
    "                               seed=1)\n",
    "\n",
    "my_nb.train(x=x, y=y, training_frame=train)"
   ]
  },
  {
   "cell_type": "code",
   "execution_count": 15,
   "metadata": {
    "collapsed": false
   },
   "outputs": [
    {
     "name": "stdout",
     "output_type": "stream",
     "text": [
      "drf Model Build progress: |███████████████████████████████████████████████| 100%\n"
     ]
    }
   ],
   "source": [
    "# Train and cross-validate a RF\n",
    "my_rf = H2ORandomForestEstimator(ntrees=50,\n",
    "                                 nfolds=nfolds,\n",
    "                                 fold_assignment=\"Modulo\",\n",
    "                                 keep_cross_validation_predictions=True,\n",
    "                                 seed=1)\n",
    "my_rf.train(x=x, y=y, training_frame=train)"
   ]
  },
  {
   "cell_type": "code",
   "execution_count": 24,
   "metadata": {
    "collapsed": false
   },
   "outputs": [
    {
     "name": "stdout",
     "output_type": "stream",
     "text": [
      "stackedensemble Model Build progress: |███████████████████████████████████| 100%\n"
     ]
    }
   ],
   "source": [
    "# Train a stacked ensemble using the GBM and RF above\n",
    "ensemble = H2OStackedEnsembleEstimator(model_id=\"my_ensemble_binomial\",\n",
    "                                       base_models=[my_gbm.model_id, my_rf.model_id,my_nb.model_id])\n",
    "ensemble.train(x=x, y=y, training_frame=train)"
   ]
  },
  {
   "cell_type": "code",
   "execution_count": 25,
   "metadata": {
    "collapsed": true
   },
   "outputs": [],
   "source": [
    "# Eval ensemble performance on the test data\n",
    "perf_stack_test = ensemble.model_performance(test)"
   ]
  },
  {
   "cell_type": "code",
   "execution_count": 26,
   "metadata": {
    "collapsed": false
   },
   "outputs": [
    {
     "name": "stdout",
     "output_type": "stream",
     "text": [
      "Best Base-learner Test AUC:  0.675056000913\n",
      "Ensemble Test AUC:  0.67188804519\n"
     ]
    }
   ],
   "source": [
    "# Compare to base learner performance on the test set\n",
    "perf_gbm_test = my_gbm.model_performance(test)\n",
    "perf_rf_test = my_rf.model_performance(test)\n",
    "baselearner_best_auc_test = max(perf_gbm_test.auc(), perf_rf_test.auc())\n",
    "stack_auc_test = perf_stack_test.auc()\n",
    "print(\"Best Base-learner Test AUC:  {0}\".format(baselearner_best_auc_test))\n",
    "print(\"Ensemble Test AUC:  {0}\".format(stack_auc_test))"
   ]
  },
  {
   "cell_type": "code",
   "execution_count": 19,
   "metadata": {
    "collapsed": false
   },
   "outputs": [
    {
     "name": "stdout",
     "output_type": "stream",
     "text": [
      "stackedensemble prediction progress: |████████████████████████████████████| 100%\n"
     ]
    }
   ],
   "source": [
    "# Generate predictions on a test set (if neccessary)\n",
    "pred = ensemble.predict(test)"
   ]
  },
  {
   "cell_type": "markdown",
   "metadata": {},
   "source": [
    "<br><br>"
   ]
  },
  {
   "cell_type": "code",
   "execution_count": 132,
   "metadata": {
    "collapsed": true
   },
   "outputs": [],
   "source": [
    "# 2. Generate a random grid of models and stack them together"
   ]
  },
  {
   "cell_type": "code",
   "execution_count": 6,
   "metadata": {
    "collapsed": true
   },
   "outputs": [],
   "source": [
    "# Specify GBM hyperparameters for the grid\n",
    "hyper_params = {\"learn_rate\": [0.01, 0.03],\n",
    "                \"max_depth\": [3, 4, 5, 6, 9],\n",
    "                \"sample_rate\": [0.7, 0.8, 0.9, 1.0],\n",
    "                \"col_sample_rate\": [0.2, 0.3, 0.4, 0.5, 0.6, 0.7, 0.8]}\n",
    "search_criteria = {\"strategy\": \"RandomDiscrete\", \"max_models\": 3, \"seed\": 1}"
   ]
  },
  {
   "cell_type": "code",
   "execution_count": 7,
   "metadata": {
    "collapsed": false
   },
   "outputs": [
    {
     "name": "stdout",
     "output_type": "stream",
     "text": [
      "gbm Grid Build progress: |████████████████████████████████████████████████| 100%\n"
     ]
    }
   ],
   "source": [
    "# Train the grid\n",
    "grid = H2OGridSearch(model=H2OGradientBoostingEstimator(ntrees=10,\n",
    "                                                        seed=1,\n",
    "                                                        nfolds=nfolds,\n",
    "                                                        fold_assignment=\"Modulo\",\n",
    "                                                        keep_cross_validation_predictions=True),\n",
    "                                                        hyper_params=hyper_params,\n",
    "                                                        search_criteria=search_criteria,\n",
    "                                                        grid_id=\"gbm_grid_binomial\")\n",
    "grid.train(x=x, y=y, training_frame=train)"
   ]
  },
  {
   "cell_type": "code",
   "execution_count": 8,
   "metadata": {
    "collapsed": false
   },
   "outputs": [
    {
     "name": "stdout",
     "output_type": "stream",
     "text": [
      "stackedensemble Model Build progress: |███████████████████████████████████| 100%\n"
     ]
    }
   ],
   "source": [
    "# Train a stacked ensemble using the GBM grid\n",
    "ensemble = H2OStackedEnsembleEstimator(model_id=\"my_ensemble_gbm_grid_binomial\",\n",
    "                                       base_models=grid.model_ids)\n",
    "ensemble.train(x=x, y=y, training_frame=train)"
   ]
  },
  {
   "cell_type": "code",
   "execution_count": 9,
   "metadata": {
    "collapsed": false
   },
   "outputs": [],
   "source": [
    "# Eval ensemble performance on the test data\n",
    "perf_stack_test = ensemble.model_performance(test)"
   ]
  },
  {
   "cell_type": "code",
   "execution_count": 10,
   "metadata": {
    "collapsed": false
   },
   "outputs": [
    {
     "name": "stdout",
     "output_type": "stream",
     "text": [
      "Best Base-learner Test AUC:  0.680531160688\n",
      "Ensemble Test AUC:  0.677166739991\n"
     ]
    }
   ],
   "source": [
    "# Compare to base learner performance on the test set\n",
    "baselearner_best_auc_test = max([h2o.get_model(model).model_performance(test_data=test).auc() for model in grid.model_ids])\n",
    "stack_auc_test = perf_stack_test.auc()\n",
    "print(\"Best Base-learner Test AUC:  {0}\".format(baselearner_best_auc_test))\n",
    "print(\"Ensemble Test AUC:  {0}\".format(stack_auc_test))"
   ]
  },
  {
   "cell_type": "code",
   "execution_count": 11,
   "metadata": {
    "collapsed": false
   },
   "outputs": [
    {
     "name": "stdout",
     "output_type": "stream",
     "text": [
      "stackedensemble prediction progress: |████████████████████████████████████| 100%\n"
     ]
    }
   ],
   "source": [
    "# Generate predictions on a test set (if neccessary)\n",
    "pred = ensemble.predict(test)"
   ]
  },
  {
   "cell_type": "code",
   "execution_count": null,
   "metadata": {
    "collapsed": true
   },
   "outputs": [],
   "source": []
  }
 ],
 "metadata": {
  "anaconda-cloud": {},
  "kernelspec": {
   "display_name": "Python [conda root]",
   "language": "python",
   "name": "conda-root-py"
  },
  "language_info": {
   "codemirror_mode": {
    "name": "ipython",
    "version": 2
   },
   "file_extension": ".py",
   "mimetype": "text/x-python",
   "name": "python",
   "nbconvert_exporter": "python",
   "pygments_lexer": "ipython2",
   "version": "2.7.13"
  }
 },
 "nbformat": 4,
 "nbformat_minor": 1
}
