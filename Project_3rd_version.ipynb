{
 "cells": [
  {
   "cell_type": "markdown",
   "metadata": {},
   "source": [
    "<img style=\"width:100%\" src=\"https://lh3.googleusercontent.com/1KtDnHo8vrJjso7gzfYRqOUOEh2Th5rFsXSQv-XfDc3G4EiFIx-E9IbEahvYAodH9xRVFtdEcOs-KxkPRhuWgniCxqKWTnAFOi6-RJAZ7uyELjwgunLma6RTzlwwC1PS5aoMWPSzvBt_S1DCPEwbKchV7XwIa9A91XS1xkBbcB0RgfFGp20GGxAcR7LcJk56FuaJcSzY_SxPjyqzx_InhrAN3Z1CdKM6A5EkVdnBfqD7ygObifR_zHZVFWUX76dY9uIjL65GvhcPvI-FZBrdbdKbLDvDMERjv6-H_tBTH0ekRW9WhZo3V-bl66cvcyGhkEkE8JKZ6danXsErSiIayrZ7WeJ-GZhjCQgb9IHPc4WLWMJut9UnZI7aoLpgsogN_DSf5yT7TnSN1s_taXbGs2mlNWZ6Rh5RFxWeku1sX9daEAvGWKMBtYp_RXJ75HHnvN-LTv34yJrjsHJsjm9LB4vwfNu0-GVf4ax8xEL5Jei6yOfUfr_xNfsGejJtLpacNWa82A5z4j5pdK0O5FSmgqHhxoAqW-x-LExGf3NYfgCLQ4AND331i7ZGx1cv1RCzioN6pQ6cq3G0wqjaSZ3CjaGFWaQxixE2Jg6jzUMAIL4cHQShMfl37EDC=w1898-h410-no\" />"
   ]
  },
  {
   "cell_type": "markdown",
   "metadata": {},
   "source": [
    "### Category:\n",
    "\n",
    "- <a href=\"#Description\">Description</a>\n",
    "- <a href=\"#Data Exploration\">Data Exploration</a>\n",
    "- <a href='#Data Reduction'>Data Reduction</a>\n",
    "- <a href='#Feature Engineering'>Feature Engineering</a>\n",
    "- <a href='#Exploratory Data Analysis'>Exploratory Data Analysis</a>\n",
    "- <a href='#Implementing Algorithms'>Algorithms Selection</a>"
   ]
  },
  {
   "cell_type": "markdown",
   "metadata": {},
   "source": [
    "### Description <a name='Description' />\n",
    "The competition is to predict repeat buyers (those who redeem a coupon and purchase that product afterwards). For this we have the labelled data (did become repeat buyer, did not become repeat buyer) for about 160,000 shoppers (the trainHistory set).\n",
    "\n",
    "Our task is to predict the labels for about 150,000 other shoppers (the testHisotory set). For this we can use a file called transactions.csv. It’s a huge file (unzipped about 22GB) containing nearly 350 million rows. The total amount spend in the transaction data is nearing 1.5 billion."
   ]
  },
  {
   "cell_type": "markdown",
   "metadata": {},
   "source": [
    "### Data Exploration <a name='Data Exploration' />\n",
    "\n",
    "We use a sample dataset with only a few shoppers to explore the transaction data."
   ]
  },
  {
   "cell_type": "code",
   "execution_count": 356,
   "metadata": {
    "collapsed": false
   },
   "outputs": [],
   "source": [
    "import numpy as np \n",
    "import pandas as pd\n",
    "from datetime import datetime"
   ]
  },
  {
   "cell_type": "code",
   "execution_count": 359,
   "metadata": {
    "collapsed": true
   },
   "outputs": [],
   "source": [
    "sample = pd.read_csv('sample.csv')"
   ]
  },
  {
   "cell_type": "code",
   "execution_count": 360,
   "metadata": {
    "collapsed": false
   },
   "outputs": [
    {
     "data": {
      "text/html": [
       "<div>\n",
       "<style>\n",
       "    .dataframe thead tr:only-child th {\n",
       "        text-align: right;\n",
       "    }\n",
       "\n",
       "    .dataframe thead th {\n",
       "        text-align: left;\n",
       "    }\n",
       "\n",
       "    .dataframe tbody tr th {\n",
       "        vertical-align: top;\n",
       "    }\n",
       "</style>\n",
       "<table border=\"1\" class=\"dataframe\">\n",
       "  <thead>\n",
       "    <tr style=\"text-align: right;\">\n",
       "      <th></th>\n",
       "      <th>id</th>\n",
       "      <th>chain</th>\n",
       "      <th>dept</th>\n",
       "      <th>category</th>\n",
       "      <th>company</th>\n",
       "      <th>brand</th>\n",
       "      <th>date</th>\n",
       "      <th>productsize</th>\n",
       "      <th>productmeasure</th>\n",
       "      <th>purchasequantity</th>\n",
       "      <th>purchaseamount</th>\n",
       "    </tr>\n",
       "  </thead>\n",
       "  <tbody>\n",
       "    <tr>\n",
       "      <th>0</th>\n",
       "      <td>86246</td>\n",
       "      <td>205</td>\n",
       "      <td>7</td>\n",
       "      <td>707</td>\n",
       "      <td>1078778070</td>\n",
       "      <td>12564</td>\n",
       "      <td>2012-03-02</td>\n",
       "      <td>12.0</td>\n",
       "      <td>OZ</td>\n",
       "      <td>1</td>\n",
       "      <td>7.59</td>\n",
       "    </tr>\n",
       "    <tr>\n",
       "      <th>1</th>\n",
       "      <td>86246</td>\n",
       "      <td>205</td>\n",
       "      <td>63</td>\n",
       "      <td>6319</td>\n",
       "      <td>107654575</td>\n",
       "      <td>17876</td>\n",
       "      <td>2012-03-02</td>\n",
       "      <td>64.0</td>\n",
       "      <td>OZ</td>\n",
       "      <td>1</td>\n",
       "      <td>1.59</td>\n",
       "    </tr>\n",
       "    <tr>\n",
       "      <th>2</th>\n",
       "      <td>86246</td>\n",
       "      <td>205</td>\n",
       "      <td>97</td>\n",
       "      <td>9753</td>\n",
       "      <td>1022027929</td>\n",
       "      <td>0</td>\n",
       "      <td>2012-03-02</td>\n",
       "      <td>1.0</td>\n",
       "      <td>CT</td>\n",
       "      <td>1</td>\n",
       "      <td>5.99</td>\n",
       "    </tr>\n",
       "    <tr>\n",
       "      <th>3</th>\n",
       "      <td>86246</td>\n",
       "      <td>205</td>\n",
       "      <td>25</td>\n",
       "      <td>2509</td>\n",
       "      <td>107996777</td>\n",
       "      <td>31373</td>\n",
       "      <td>2012-03-02</td>\n",
       "      <td>16.0</td>\n",
       "      <td>OZ</td>\n",
       "      <td>1</td>\n",
       "      <td>1.99</td>\n",
       "    </tr>\n",
       "    <tr>\n",
       "      <th>4</th>\n",
       "      <td>86246</td>\n",
       "      <td>205</td>\n",
       "      <td>55</td>\n",
       "      <td>5555</td>\n",
       "      <td>107684070</td>\n",
       "      <td>32094</td>\n",
       "      <td>2012-03-02</td>\n",
       "      <td>16.0</td>\n",
       "      <td>OZ</td>\n",
       "      <td>2</td>\n",
       "      <td>10.38</td>\n",
       "    </tr>\n",
       "  </tbody>\n",
       "</table>\n",
       "</div>"
      ],
      "text/plain": [
       "      id  chain  dept  category     company  brand        date  productsize  \\\n",
       "0  86246    205     7       707  1078778070  12564  2012-03-02         12.0   \n",
       "1  86246    205    63      6319   107654575  17876  2012-03-02         64.0   \n",
       "2  86246    205    97      9753  1022027929      0  2012-03-02          1.0   \n",
       "3  86246    205    25      2509   107996777  31373  2012-03-02         16.0   \n",
       "4  86246    205    55      5555   107684070  32094  2012-03-02         16.0   \n",
       "\n",
       "  productmeasure  purchasequantity  purchaseamount  \n",
       "0             OZ                 1            7.59  \n",
       "1             OZ                 1            1.59  \n",
       "2             CT                 1            5.99  \n",
       "3             OZ                 1            1.99  \n",
       "4             OZ                 2           10.38  "
      ]
     },
     "execution_count": 360,
     "metadata": {},
     "output_type": "execute_result"
    }
   ],
   "source": [
    "sample.head()"
   ]
  },
  {
   "cell_type": "markdown",
   "metadata": {},
   "source": [
    "### Data Reduction <a name='Data Reduction' />\n",
    "\n",
    "- Chosing transactions from only **chain=4**. Output into a new file \"reduced2.csv\"\n",
    "- Keeping data only from 1 year from \"reduced2.csv\". Output into a new file \"data_s.csv\"\n",
    "- Using only customers in trainHistory which have at least one transaction in the reduced transaction dataset\n",
    "- Inner join train_reduced & \"offers.csv\" on offer. Output into a new file \"combine.csv\""
   ]
  },
  {
   "cell_type": "code",
   "execution_count": 41,
   "metadata": {
    "collapsed": false
   },
   "outputs": [],
   "source": [
    "loc_transactions = \"transactions.csv\"\n",
    "loc_reduced = \"reduced2.csv\"  #Output file \n",
    "def reduce_data(loc_transactions, loc_reduced):\n",
    "    with open(loc_reduced, \"wb\") as outfile:\n",
    "        for e, line in enumerate( open(loc_transactions) ):\n",
    "            if line.split(\",\")[1] in ['4']:  # If you want larger data, use ['2,'4','8'] instead of ['4'].\n",
    "                outfile.write( line )\n",
    "\n",
    "reduce_data(loc_transactions, loc_reduced)\n",
    "#reduced2.csv contains transactions from chain_id = 4 (Only one chain).\n",
    "#redcued2.csv is your new transactions data. Use customers in this transaction data to build a model."
   ]
  },
  {
   "cell_type": "code",
   "execution_count": 96,
   "metadata": {
    "collapsed": false,
    "scrolled": true
   },
   "outputs": [],
   "source": [
    "import pandas as pd\n",
    "data=pd.read_csv(\"reduced2.csv\",header=None,names=[\"id\",\"chain\",\"dept\",'category','company','brand','date','productsize','productmeasure','productquantity','productamount'])"
   ]
  },
  {
   "cell_type": "code",
   "execution_count": 364,
   "metadata": {
    "collapsed": false
   },
   "outputs": [
    {
     "name": "stdout",
     "output_type": "stream",
     "text": [
      "[4]\n"
     ]
    }
   ],
   "source": [
    "print data.chain.unique()"
   ]
  },
  {
   "cell_type": "code",
   "execution_count": 376,
   "metadata": {
    "collapsed": true
   },
   "outputs": [],
   "source": [
    "##########################################"
   ]
  },
  {
   "cell_type": "code",
   "execution_count": 362,
   "metadata": {
    "collapsed": false
   },
   "outputs": [],
   "source": [
    "#Keeping data only from 1 year from \"reduced2.csv\"\n",
    "drops=[]\n",
    "for i in range(len(data.id)):\n",
    "    dates=data.date[i].strip().split('-')\n",
    "    if (dates[0]=='2012' and int(dates[1])>=5) or (dates[0]=='2013' and int(dates[1])<5):\n",
    "        a=1\n",
    "    else:\n",
    "        drops.append(data.index[i])\n",
    "        \n",
    "data_s=data.drop(drops)\n",
    "data_s.reset_index(inplace=True,drop=True)"
   ]
  },
  {
   "cell_type": "code",
   "execution_count": 99,
   "metadata": {
    "collapsed": true
   },
   "outputs": [],
   "source": [
    "data_s.to_csv('data_s.csv',index=False)"
   ]
  },
  {
   "cell_type": "code",
   "execution_count": 365,
   "metadata": {
    "collapsed": false
   },
   "outputs": [
    {
     "data": {
      "text/html": [
       "<div>\n",
       "<style>\n",
       "    .dataframe thead tr:only-child th {\n",
       "        text-align: right;\n",
       "    }\n",
       "\n",
       "    .dataframe thead th {\n",
       "        text-align: left;\n",
       "    }\n",
       "\n",
       "    .dataframe tbody tr th {\n",
       "        vertical-align: top;\n",
       "    }\n",
       "</style>\n",
       "<table border=\"1\" class=\"dataframe\">\n",
       "  <thead>\n",
       "    <tr style=\"text-align: right;\">\n",
       "      <th></th>\n",
       "      <th>id</th>\n",
       "      <th>chain</th>\n",
       "      <th>dept</th>\n",
       "      <th>category</th>\n",
       "      <th>company</th>\n",
       "      <th>brand</th>\n",
       "      <th>date</th>\n",
       "      <th>productsize</th>\n",
       "      <th>productmeasure</th>\n",
       "      <th>productquantity</th>\n",
       "      <th>productamount</th>\n",
       "    </tr>\n",
       "  </thead>\n",
       "  <tbody>\n",
       "    <tr>\n",
       "      <th>0</th>\n",
       "      <td>12524696</td>\n",
       "      <td>4</td>\n",
       "      <td>58</td>\n",
       "      <td>5825</td>\n",
       "      <td>102113020</td>\n",
       "      <td>15704</td>\n",
       "      <td>2012-05-03</td>\n",
       "      <td>14.00</td>\n",
       "      <td>OZ</td>\n",
       "      <td>2</td>\n",
       "      <td>5.70</td>\n",
       "    </tr>\n",
       "    <tr>\n",
       "      <th>1</th>\n",
       "      <td>12524696</td>\n",
       "      <td>4</td>\n",
       "      <td>9</td>\n",
       "      <td>907</td>\n",
       "      <td>102113020</td>\n",
       "      <td>15704</td>\n",
       "      <td>2012-05-03</td>\n",
       "      <td>16.00</td>\n",
       "      <td>OZ</td>\n",
       "      <td>1</td>\n",
       "      <td>1.69</td>\n",
       "    </tr>\n",
       "    <tr>\n",
       "      <th>2</th>\n",
       "      <td>12524696</td>\n",
       "      <td>4</td>\n",
       "      <td>4</td>\n",
       "      <td>419</td>\n",
       "      <td>1074759979</td>\n",
       "      <td>7168</td>\n",
       "      <td>2012-05-03</td>\n",
       "      <td>3.17</td>\n",
       "      <td>OZ</td>\n",
       "      <td>1</td>\n",
       "      <td>1.70</td>\n",
       "    </tr>\n",
       "    <tr>\n",
       "      <th>3</th>\n",
       "      <td>12524696</td>\n",
       "      <td>4</td>\n",
       "      <td>55</td>\n",
       "      <td>5567</td>\n",
       "      <td>107064070</td>\n",
       "      <td>19704</td>\n",
       "      <td>2012-05-07</td>\n",
       "      <td>21.00</td>\n",
       "      <td>OZ</td>\n",
       "      <td>2</td>\n",
       "      <td>7.00</td>\n",
       "    </tr>\n",
       "    <tr>\n",
       "      <th>4</th>\n",
       "      <td>12524696</td>\n",
       "      <td>4</td>\n",
       "      <td>55</td>\n",
       "      <td>5567</td>\n",
       "      <td>107064070</td>\n",
       "      <td>19704</td>\n",
       "      <td>2012-05-07</td>\n",
       "      <td>24.00</td>\n",
       "      <td>OZ</td>\n",
       "      <td>1</td>\n",
       "      <td>3.50</td>\n",
       "    </tr>\n",
       "  </tbody>\n",
       "</table>\n",
       "</div>"
      ],
      "text/plain": [
       "         id  chain  dept  category     company  brand        date  \\\n",
       "0  12524696      4    58      5825   102113020  15704  2012-05-03   \n",
       "1  12524696      4     9       907   102113020  15704  2012-05-03   \n",
       "2  12524696      4     4       419  1074759979   7168  2012-05-03   \n",
       "3  12524696      4    55      5567   107064070  19704  2012-05-07   \n",
       "4  12524696      4    55      5567   107064070  19704  2012-05-07   \n",
       "\n",
       "   productsize productmeasure  productquantity  productamount  \n",
       "0        14.00             OZ                2           5.70  \n",
       "1        16.00             OZ                1           1.69  \n",
       "2         3.17             OZ                1           1.70  \n",
       "3        21.00             OZ                2           7.00  \n",
       "4        24.00             OZ                1           3.50  "
      ]
     },
     "execution_count": 365,
     "metadata": {},
     "output_type": "execute_result"
    }
   ],
   "source": [
    "data_s.head()"
   ]
  },
  {
   "cell_type": "code",
   "execution_count": 378,
   "metadata": {
    "collapsed": true
   },
   "outputs": [],
   "source": [
    "##########################################"
   ]
  },
  {
   "cell_type": "code",
   "execution_count": 516,
   "metadata": {
    "collapsed": true
   },
   "outputs": [],
   "source": [
    "#Inner join data_s and \"trainHistory.csv\" on id\n",
    "train = pd.read_csv('trainHistory.csv')\n",
    "test = pd.read_csv('testHistory.csv')\n",
    "offer = pd.read_csv('offers.csv')\n",
    "data_s = pd.read_csv('data_s.csv')"
   ]
  },
  {
   "cell_type": "code",
   "execution_count": 373,
   "metadata": {
    "collapsed": false
   },
   "outputs": [
    {
     "data": {
      "text/plain": [
       "(1352131, 17)"
      ]
     },
     "execution_count": 373,
     "metadata": {},
     "output_type": "execute_result"
    }
   ],
   "source": [
    "cust_s_train = pd.merge(data_s,train,on=['id'])\n",
    "cust_s_train.shape"
   ]
  },
  {
   "cell_type": "code",
   "execution_count": 374,
   "metadata": {
    "collapsed": false
   },
   "outputs": [
    {
     "data": {
      "text/plain": [
       "1753"
      ]
     },
     "execution_count": 374,
     "metadata": {},
     "output_type": "execute_result"
    }
   ],
   "source": [
    "unique = cust_s_train.id.unique()\n",
    "len(unique)"
   ]
  },
  {
   "cell_type": "code",
   "execution_count": 375,
   "metadata": {
    "collapsed": false
   },
   "outputs": [
    {
     "data": {
      "text/plain": [
       "(1753, 7)"
      ]
     },
     "execution_count": 375,
     "metadata": {},
     "output_type": "execute_result"
    }
   ],
   "source": [
    "#Use only customers which have at least one transaction in the reduced transaction dataset\n",
    "train_reduced = train[train['id'].isin(unique)]\n",
    "train_reduced.shape"
   ]
  },
  {
   "cell_type": "code",
   "execution_count": 10,
   "metadata": {
    "collapsed": true
   },
   "outputs": [],
   "source": [
    "##########################################"
   ]
  },
  {
   "cell_type": "code",
   "execution_count": 16,
   "metadata": {
    "collapsed": false
   },
   "outputs": [
    {
     "data": {
      "text/html": [
       "<div>\n",
       "<style>\n",
       "    .dataframe thead tr:only-child th {\n",
       "        text-align: right;\n",
       "    }\n",
       "\n",
       "    .dataframe thead th {\n",
       "        text-align: left;\n",
       "    }\n",
       "\n",
       "    .dataframe tbody tr th {\n",
       "        vertical-align: top;\n",
       "    }\n",
       "</style>\n",
       "<table border=\"1\" class=\"dataframe\">\n",
       "  <thead>\n",
       "    <tr style=\"text-align: right;\">\n",
       "      <th></th>\n",
       "      <th>id</th>\n",
       "      <th>chain</th>\n",
       "      <th>offer</th>\n",
       "      <th>market</th>\n",
       "      <th>repeattrips</th>\n",
       "      <th>repeater</th>\n",
       "      <th>offerdate</th>\n",
       "      <th>category</th>\n",
       "      <th>quantity</th>\n",
       "      <th>company</th>\n",
       "      <th>offervalue</th>\n",
       "      <th>brand</th>\n",
       "    </tr>\n",
       "  </thead>\n",
       "  <tbody>\n",
       "    <tr>\n",
       "      <th>0</th>\n",
       "      <td>13807224</td>\n",
       "      <td>4</td>\n",
       "      <td>1204576</td>\n",
       "      <td>1</td>\n",
       "      <td>0</td>\n",
       "      <td>f</td>\n",
       "      <td>2013-04-05</td>\n",
       "      <td>5616</td>\n",
       "      <td>1</td>\n",
       "      <td>104610040</td>\n",
       "      <td>1.0</td>\n",
       "      <td>15889</td>\n",
       "    </tr>\n",
       "    <tr>\n",
       "      <th>1</th>\n",
       "      <td>16138642</td>\n",
       "      <td>4</td>\n",
       "      <td>1204576</td>\n",
       "      <td>1</td>\n",
       "      <td>0</td>\n",
       "      <td>f</td>\n",
       "      <td>2013-04-05</td>\n",
       "      <td>5616</td>\n",
       "      <td>1</td>\n",
       "      <td>104610040</td>\n",
       "      <td>1.0</td>\n",
       "      <td>15889</td>\n",
       "    </tr>\n",
       "    <tr>\n",
       "      <th>2</th>\n",
       "      <td>17888308</td>\n",
       "      <td>4</td>\n",
       "      <td>1204576</td>\n",
       "      <td>1</td>\n",
       "      <td>0</td>\n",
       "      <td>f</td>\n",
       "      <td>2013-04-05</td>\n",
       "      <td>5616</td>\n",
       "      <td>1</td>\n",
       "      <td>104610040</td>\n",
       "      <td>1.0</td>\n",
       "      <td>15889</td>\n",
       "    </tr>\n",
       "    <tr>\n",
       "      <th>3</th>\n",
       "      <td>18277411</td>\n",
       "      <td>4</td>\n",
       "      <td>1204576</td>\n",
       "      <td>1</td>\n",
       "      <td>0</td>\n",
       "      <td>f</td>\n",
       "      <td>2013-04-04</td>\n",
       "      <td>5616</td>\n",
       "      <td>1</td>\n",
       "      <td>104610040</td>\n",
       "      <td>1.0</td>\n",
       "      <td>15889</td>\n",
       "    </tr>\n",
       "    <tr>\n",
       "      <th>4</th>\n",
       "      <td>68451850</td>\n",
       "      <td>4</td>\n",
       "      <td>1204576</td>\n",
       "      <td>1</td>\n",
       "      <td>0</td>\n",
       "      <td>f</td>\n",
       "      <td>2013-04-07</td>\n",
       "      <td>5616</td>\n",
       "      <td>1</td>\n",
       "      <td>104610040</td>\n",
       "      <td>1.0</td>\n",
       "      <td>15889</td>\n",
       "    </tr>\n",
       "  </tbody>\n",
       "</table>\n",
       "</div>"
      ],
      "text/plain": [
       "         id  chain    offer  market  repeattrips repeater   offerdate  \\\n",
       "0  13807224      4  1204576       1            0        f  2013-04-05   \n",
       "1  16138642      4  1204576       1            0        f  2013-04-05   \n",
       "2  17888308      4  1204576       1            0        f  2013-04-05   \n",
       "3  18277411      4  1204576       1            0        f  2013-04-04   \n",
       "4  68451850      4  1204576       1            0        f  2013-04-07   \n",
       "\n",
       "   category  quantity    company  offervalue  brand  \n",
       "0      5616         1  104610040         1.0  15889  \n",
       "1      5616         1  104610040         1.0  15889  \n",
       "2      5616         1  104610040         1.0  15889  \n",
       "3      5616         1  104610040         1.0  15889  \n",
       "4      5616         1  104610040         1.0  15889  "
      ]
     },
     "execution_count": 16,
     "metadata": {},
     "output_type": "execute_result"
    }
   ],
   "source": [
    "#Combine train_reduced & \"offers.csv\" on offer\n",
    "combine = pd.merge(train_reduced,offer,on=['offer'])\n",
    "combine.head()"
   ]
  },
  {
   "cell_type": "code",
   "execution_count": 95,
   "metadata": {
    "collapsed": true
   },
   "outputs": [],
   "source": [
    "combine.to_csv('combine.csv',index=False)"
   ]
  },
  {
   "cell_type": "markdown",
   "metadata": {},
   "source": [
    "### Feature Engineering <a name=\"Feature Engineering\" />\n",
    "\n",
    "**A large part of this competition is feature engineering: Creating good indicative features from the purchase history.**\n",
    "\n",
    "We will generate the following features:\n",
    "\n",
    "**total_spend**: the total amount spend by the shopper in the reduced dataset  \n",
    "**total_quant**: the total quantity (number of units) spend by the shopper in the reduced dataset  \n",
    "**total_trips**: number of unique dates the customer visited the chain  \n",
    "**ave_spend**: average amount spend per trip  \n",
    "**ave_quant**: average quantity spend per trip  \n",
    "\n",
    "**unique_company_bought**: total number of unique companies from bought products  \n",
    "**unique_category_bought**: total number of unique categories from bought products  \n",
    "**unique_brand_bought**: total number of unique brands from bought products  \n",
    "\n",
    "**ave_unique_company_bought**: average number of unique companies from bought products per trip   \n",
    "**ave_unique_category_bought**: average number of unique categories from bought products per trip   \n",
    "**ave_unique_brand_bought**: average number of unique brands from bought products per trip   \n",
    "\n",
    "**days_last_offer**: number of days between last trip and offerdate\n",
    "\n",
    "**has_bought_company**: the number of times a shopper has bought from the company on offer    \n",
    "**has_bought_company_a**: the total amount the shopper has bought from the company on offer  \n",
    "**has_bought_company_q**: the quantity of items bought from the company on offer   \n",
    "**has_bought_company_30**: the number of times a shopper has bought from the company on offer in the 30 days before the date the coupon was offered  \n",
    "**has_bought_company_60**: the number of times a shopper has bought from the company on offer in the 60 days before the date the coupon was offered  \n",
    "......   \n",
    "**has_bought_company_180**: 180 days before  \n",
    "\n",
    "\n",
    "These same features for:\n",
    "\n",
    "**has_bought_category**: the number of times a shopper has bought from the category on offer      \n",
    "**has_bought_brand**: the number of times a shopper has bought from the brand on offer    \n",
    "\n",
    "And:\n",
    "\n",
    "**never_bought_company**: a negative feature for when the shopper has never bought from the company on offer before   \n",
    "**never_bought_category**: a negative feature for when the shopper has never bought from the category on offer before  \n",
    "**never_bought_brand**: a negative feature for when the shopper has never bought from the brand on offer before  \n",
    "**has_bought_company_brand_category**: if this feature is present the shopper has bought from the company, brand, and category on offer      \n",
    "**has_bought_brand_category**: if this feature is present the shopper has bought from the brand and category on offer      \n",
    "**has_bought_brand_company**: if this feature is present the shopper has bought from the brand and company on offer  \n"
   ]
  },
  {
   "cell_type": "code",
   "execution_count": 517,
   "metadata": {
    "collapsed": true
   },
   "outputs": [],
   "source": [
    "combine = pd.read_csv('combine.csv')"
   ]
  },
  {
   "cell_type": "code",
   "execution_count": 518,
   "metadata": {
    "collapsed": false
   },
   "outputs": [
    {
     "data": {
      "text/html": [
       "<div>\n",
       "<style>\n",
       "    .dataframe thead tr:only-child th {\n",
       "        text-align: right;\n",
       "    }\n",
       "\n",
       "    .dataframe thead th {\n",
       "        text-align: left;\n",
       "    }\n",
       "\n",
       "    .dataframe tbody tr th {\n",
       "        vertical-align: top;\n",
       "    }\n",
       "</style>\n",
       "<table border=\"1\" class=\"dataframe\">\n",
       "  <thead>\n",
       "    <tr style=\"text-align: right;\">\n",
       "      <th></th>\n",
       "      <th>id</th>\n",
       "      <th>chain</th>\n",
       "      <th>offer</th>\n",
       "      <th>market</th>\n",
       "      <th>repeattrips</th>\n",
       "      <th>repeater</th>\n",
       "      <th>offerdate</th>\n",
       "      <th>category</th>\n",
       "      <th>quantity</th>\n",
       "      <th>company</th>\n",
       "      <th>offervalue</th>\n",
       "      <th>brand</th>\n",
       "    </tr>\n",
       "  </thead>\n",
       "  <tbody>\n",
       "    <tr>\n",
       "      <th>0</th>\n",
       "      <td>13807224</td>\n",
       "      <td>4</td>\n",
       "      <td>1204576</td>\n",
       "      <td>1</td>\n",
       "      <td>0</td>\n",
       "      <td>f</td>\n",
       "      <td>2013-04-05</td>\n",
       "      <td>5616</td>\n",
       "      <td>1</td>\n",
       "      <td>104610040</td>\n",
       "      <td>1.0</td>\n",
       "      <td>15889</td>\n",
       "    </tr>\n",
       "    <tr>\n",
       "      <th>1</th>\n",
       "      <td>16138642</td>\n",
       "      <td>4</td>\n",
       "      <td>1204576</td>\n",
       "      <td>1</td>\n",
       "      <td>0</td>\n",
       "      <td>f</td>\n",
       "      <td>2013-04-05</td>\n",
       "      <td>5616</td>\n",
       "      <td>1</td>\n",
       "      <td>104610040</td>\n",
       "      <td>1.0</td>\n",
       "      <td>15889</td>\n",
       "    </tr>\n",
       "    <tr>\n",
       "      <th>2</th>\n",
       "      <td>17888308</td>\n",
       "      <td>4</td>\n",
       "      <td>1204576</td>\n",
       "      <td>1</td>\n",
       "      <td>0</td>\n",
       "      <td>f</td>\n",
       "      <td>2013-04-05</td>\n",
       "      <td>5616</td>\n",
       "      <td>1</td>\n",
       "      <td>104610040</td>\n",
       "      <td>1.0</td>\n",
       "      <td>15889</td>\n",
       "    </tr>\n",
       "    <tr>\n",
       "      <th>3</th>\n",
       "      <td>18277411</td>\n",
       "      <td>4</td>\n",
       "      <td>1204576</td>\n",
       "      <td>1</td>\n",
       "      <td>0</td>\n",
       "      <td>f</td>\n",
       "      <td>2013-04-04</td>\n",
       "      <td>5616</td>\n",
       "      <td>1</td>\n",
       "      <td>104610040</td>\n",
       "      <td>1.0</td>\n",
       "      <td>15889</td>\n",
       "    </tr>\n",
       "    <tr>\n",
       "      <th>4</th>\n",
       "      <td>68451850</td>\n",
       "      <td>4</td>\n",
       "      <td>1204576</td>\n",
       "      <td>1</td>\n",
       "      <td>0</td>\n",
       "      <td>f</td>\n",
       "      <td>2013-04-07</td>\n",
       "      <td>5616</td>\n",
       "      <td>1</td>\n",
       "      <td>104610040</td>\n",
       "      <td>1.0</td>\n",
       "      <td>15889</td>\n",
       "    </tr>\n",
       "  </tbody>\n",
       "</table>\n",
       "</div>"
      ],
      "text/plain": [
       "         id  chain    offer  market  repeattrips repeater   offerdate  \\\n",
       "0  13807224      4  1204576       1            0        f  2013-04-05   \n",
       "1  16138642      4  1204576       1            0        f  2013-04-05   \n",
       "2  17888308      4  1204576       1            0        f  2013-04-05   \n",
       "3  18277411      4  1204576       1            0        f  2013-04-04   \n",
       "4  68451850      4  1204576       1            0        f  2013-04-07   \n",
       "\n",
       "   category  quantity    company  offervalue  brand  \n",
       "0      5616         1  104610040         1.0  15889  \n",
       "1      5616         1  104610040         1.0  15889  \n",
       "2      5616         1  104610040         1.0  15889  \n",
       "3      5616         1  104610040         1.0  15889  \n",
       "4      5616         1  104610040         1.0  15889  "
      ]
     },
     "execution_count": 518,
     "metadata": {},
     "output_type": "execute_result"
    }
   ],
   "source": [
    "combine.head()"
   ]
  },
  {
   "cell_type": "code",
   "execution_count": 525,
   "metadata": {
    "collapsed": true
   },
   "outputs": [],
   "source": [
    "#Feature Extraction\n",
    "def diff_days(s1,s2):\n",
    "    date_format = \"%Y-%m-%d\"\n",
    "    a = datetime.strptime(s1, date_format)\n",
    "    b = datetime.strptime(s2, date_format)\n",
    "    delta = b - a\n",
    "    return delta.days\n",
    "\n",
    "\n",
    "def extract_features(cust_id):\n",
    "    df = combine.loc[combine.id == cust_id,:]\n",
    "    df = df.reset_index(drop=True)\n",
    "    \n",
    "    offer_category = df.category.values[0]\n",
    "    offer_company = df.company.values[0]\n",
    "    offer_brand = df.brand.values[0]\n",
    "    \n",
    "    data_id = data_s.loc[data_s.id == cust_id,:]\n",
    "    data_id = data_id.reset_index(drop=True)\n",
    "    \n",
    "    \n",
    "    #generate features from transaction record\n",
    "    df['total_spend'] = data_id.productamount.sum()\n",
    "    df['total_quant'] = data_id.productquantity.sum()\n",
    "    df['total_trips'] = len(data_id.date.unique())\n",
    "    \n",
    "    df['ave_spend'] = df['total_spend'] / df['total_trips']\n",
    "    df['ave_quant'] = df['total_quant'] / df['total_trips']\n",
    "    \n",
    "    df['unique_company_bought'] = len(data_id.company.unique())\n",
    "    df['unique_category_bought'] = len(data_id.category.unique())\n",
    "    df['unique_brand_bought'] = len(data_id.brand.unique())\n",
    "    \n",
    "    df['unique_company_bought'] = len(data_id.company.unique())\n",
    "    df['unique_category_bought'] = len(data_id.category.unique())\n",
    "    df['unique_brand_bought'] = len(data_id.brand.unique())\n",
    "    \n",
    "    df['ave_unique_company_bought'] = len(data_id.company.unique()) / df['total_trips']\n",
    "    df['ave_unique_category_bought'] = len(data_id.category.unique()) / df['total_trips']\n",
    "    df['ave_unique_brand_bought'] = len(data_id.brand.unique()) / df['total_trips']\n",
    "    \n",
    "    df['days_last_offer'] = diff_days(max(data_id.date),df.loc[0].offerdate)\n",
    "    \n",
    "    df['has_bought_company'] = 0\n",
    "    df['has_bought_company_q'] = 0\n",
    "    df['has_bought_company_a'] = 0\n",
    "    df['has_bought_company_30'] = 0\n",
    "    df['has_bought_company_q_30'] = 0\n",
    "    df['has_bought_company_a_30'] = 0\n",
    "    df['has_bought_company_60'] = 0\n",
    "    df['has_bought_company_q_60'] = 0\n",
    "    df['has_bought_company_a_60'] = 0\n",
    "    df['has_bought_company_90'] = 0\n",
    "    df['has_bought_company_q_90'] = 0\n",
    "    df['has_bought_company_a_90'] = 0\n",
    "    df['has_bought_company_180'] = 0\n",
    "    df['has_bought_company_q_180'] = 0\n",
    "    df['has_bought_company_a_180'] = 0\n",
    "    \n",
    "    df['has_bought_category'] = 0\n",
    "    df['has_bought_category_q'] = 0\n",
    "    df['has_bought_category_a'] = 0\n",
    "    df['has_bought_category_30'] = 0\n",
    "    df['has_bought_category_q_30'] = 0\n",
    "    df['has_bought_category_a_30'] = 0\n",
    "    df['has_bought_category_60'] = 0\n",
    "    df['has_bought_category_q_60'] = 0\n",
    "    df['has_bought_category_a_60'] = 0\n",
    "    df['has_bought_category_90'] = 0\n",
    "    df['has_bought_category_q_90'] = 0\n",
    "    df['has_bought_category_a_90'] = 0\n",
    "    df['has_bought_category_180'] = 0\n",
    "    df['has_bought_category_q_180'] = 0\n",
    "    df['has_bought_category_a_180'] = 0\n",
    "    \n",
    "    df['has_bought_brand'] = 0\n",
    "    df['has_bought_brand_q'] = 0\n",
    "    df['has_bought_brand_a'] = 0\n",
    "    df['has_bought_brand_30'] = 0\n",
    "    df['has_bought_brand_q_30'] = 0\n",
    "    df['has_bought_brand_a_30'] = 0\n",
    "    df['has_bought_brand_60'] = 0\n",
    "    df['has_bought_brand_q_60'] = 0\n",
    "    df['has_bought_brand_a_60'] = 0\n",
    "    df['has_bought_brand_90'] = 0\n",
    "    df['has_bought_brand_q_90'] = 0\n",
    "    df['has_bought_brand_a_90'] = 0\n",
    "    df['has_bought_brand_180'] = 0\n",
    "    df['has_bought_brand_q_180'] = 0\n",
    "    df['has_bought_brand_a_180'] = 0\n",
    "    \n",
    "    for i in range(len(data_id)):\n",
    "        if data_id.loc[i].company == offer_company:\n",
    "            df['has_bought_company'] += 1.0\n",
    "            df['has_bought_company_q'] += float( data_id.loc[i].productquantity )\n",
    "            df['has_bought_company_a'] += float( data_id.loc[i].productamount )\n",
    "\n",
    "            date_diff_days = diff_days(data_id.loc[i].date,df.loc[0].offerdate)\n",
    "            if date_diff_days < 30:\n",
    "                df['has_bought_company_30'] += 1.0\n",
    "                df['has_bought_company_q_30'] += float( data_id.loc[i].productquantity )\n",
    "                df['has_bought_company_a_30'] += float( data_id.loc[i].productamount )\n",
    "                        \n",
    "            if date_diff_days < 60:\n",
    "                df['has_bought_company_60'] += 1.0\n",
    "                df['has_bought_company_q_60'] += float( data_id.loc[i].productquantity )\n",
    "                df['has_bought_company_a_60'] += float( data_id.loc[i].productamount )\n",
    "                        \n",
    "            if date_diff_days < 90:\n",
    "                df['has_bought_company_90'] += 1.0\n",
    "                df['has_bought_company_q_90'] += float( data_id.loc[i].productquantity )\n",
    "                df['has_bought_company_a_90'] += float( data_id.loc[i].productamount )\n",
    "                        \n",
    "            if date_diff_days < 180:\n",
    "                df['has_bought_company_180'] += 1.0\n",
    "                df['has_bought_company_q_180'] += float( data_id.loc[i].productquantity )\n",
    "                df['has_bought_company_a_180'] += float( data_id.loc[i].productamount )\n",
    "\n",
    "                    \n",
    "        if data_id.loc[i].category == offer_category:\n",
    "            df['has_bought_category'] += 1.0\n",
    "            df['has_bought_category_q'] += float( data_id.loc[i].productquantity )\n",
    "            df['has_bought_category_a'] += float( data_id.loc[i].productamount )\n",
    "\n",
    "            date_diff_days = diff_days(data_id.loc[i].date,df.loc[0].offerdate)\n",
    "            if date_diff_days < 30:\n",
    "                df['has_bought_category_30'] += 1.0\n",
    "                df['has_bought_category_q_30'] += float( data_id.loc[i].productquantity )\n",
    "                df['has_bought_category_a_30'] += float( data_id.loc[i].productamount )\n",
    "                        \n",
    "            if date_diff_days < 60:\n",
    "                df['has_bought_category_60'] += 1.0\n",
    "                df['has_bought_category_q_60'] += float( data_id.loc[i].productquantity )\n",
    "                df['has_bought_category_a_60'] += float( data_id.loc[i].productamount )\n",
    "                        \n",
    "            if date_diff_days < 90:\n",
    "                df['has_bought_category_90'] += 1.0\n",
    "                df['has_bought_category_q_90'] += float( data_id.loc[i].productquantity )\n",
    "                df['has_bought_category_a_90'] += float( data_id.loc[i].productamount )\n",
    "                        \n",
    "            if date_diff_days < 180:\n",
    "                df['has_bought_category_180'] += 1.0\n",
    "                df['has_bought_category_q_180'] += float( data_id.loc[i].productquantity )\n",
    "                df['has_bought_category_a_180'] += float( data_id.loc[i].productamount )\n",
    "                   \n",
    "        if data_id.loc[i].brand == offer_brand:\n",
    "            df['has_bought_brand'] += 1.0\n",
    "            df['has_bought_brand_q'] += float( data_id.loc[i].productquantity )\n",
    "            df['has_bought_brand_a'] += float( data_id.loc[i].productamount )\n",
    "\n",
    "            date_diff_days = diff_days(data_id.loc[i].date,df.loc[0].offerdate)\n",
    "            if date_diff_days < 30:\n",
    "                df['has_bought_brand_30'] += 1.0\n",
    "                df['has_bought_brand_q_30'] += float( data_id.loc[i].productquantity )\n",
    "                df['has_bought_brand_a_30'] += float( data_id.loc[i].productamount )\n",
    "                        \n",
    "            if date_diff_days < 60:\n",
    "                df['has_bought_brand_60'] += 1.0\n",
    "                df['has_bought_brand_q_60'] += float( data_id.loc[i].productquantity )\n",
    "                df['has_bought_brand_a_60'] += float( data_id.loc[i].productamount )\n",
    "                        \n",
    "            if date_diff_days < 90:\n",
    "                df['has_bought_brand_90'] += 1.0\n",
    "                df['has_bought_brand_q_90'] += float( data_id.loc[i].productquantity )\n",
    "                df['has_bought_brand_a_90'] += float( data_id.loc[i].productamount )\n",
    "                        \n",
    "            if date_diff_days < 180:\n",
    "                df['has_bought_brand_180'] += 1.0\n",
    "                df['has_bought_brand_q_180'] += float( data_id.loc[i].productquantity )\n",
    "                df['has_bought_brand_a_180'] += float( data_id.loc[i].productamount )\n",
    "                \n",
    "                #last_id = row[0]\n",
    "                #if e % 100000 == 0:\n",
    "                    #print e\n",
    "    \n",
    "    return df"
   ]
  },
  {
   "cell_type": "code",
   "execution_count": 526,
   "metadata": {
    "collapsed": false
   },
   "outputs": [
    {
     "name": "stdout",
     "output_type": "stream",
     "text": [
      "0 0:00:00.865631\n",
      "500 0:04:03.121622\n",
      "1000 0:08:08.978868\n",
      "1500 0:12:29.250544\n"
     ]
    }
   ],
   "source": [
    "#Take 15 minutes to run this code\n",
    "#Create X_features\n",
    "X_features = pd.DataFrame()\n",
    "start_time = datetime.now()\n",
    "for e,cust_id in enumerate(combine.id.values):\n",
    "    X_features = pd.concat([X_features,extract_features(cust_id)])\n",
    "    if e%500 == 0:\n",
    "        print e,datetime.now()-start_time"
   ]
  },
  {
   "cell_type": "code",
   "execution_count": 527,
   "metadata": {
    "collapsed": true
   },
   "outputs": [],
   "source": [
    "X_features['never_bought_company'] = 0\n",
    "X_features['never_bought_category'] = 0\n",
    "X_features['never_bought_brand'] = 0\n",
    "X_features['has_bought_brand_company_category'] = 0\n",
    "X_features['has_bought_brand_category'] = 0\n",
    "X_features['has_bought_brand_company'] = 0\n",
    "\n",
    "X_features = X_features.reset_index(drop=True)"
   ]
  },
  {
   "cell_type": "code",
   "execution_count": 528,
   "metadata": {
    "collapsed": true
   },
   "outputs": [],
   "source": [
    "for i in range(len(X_features)):\n",
    "    #generate negative features\n",
    "    if X_features.loc[i].has_bought_company == 0:\n",
    "        X_features.set_value(i,'never_bought_company',1)\n",
    "\n",
    "    if X_features.loc[i].has_bought_category == 0:\n",
    "        X_features.set_value(i,'never_bought_category',1)\n",
    "        \n",
    "    if X_features.loc[i].has_bought_brand == 0:\n",
    "        X_features.set_value(i,'never_bought_brand',1)\n",
    "\n",
    "    if X_features.loc[i].has_bought_company != 0 and X_features.loc[i].has_bought_category != 0 and X_features.loc[i].has_bought_brand != 0:\n",
    "        X_features.set_value(i,'has_bought_brand_company_category',1) \n",
    "\n",
    "    if X_features.loc[i].has_bought_category != 0 and X_features.loc[i].has_bought_brand != 0:\n",
    "        X_features.set_value(i,'has_bought_brand_category',1)\n",
    "\n",
    "    if X_features.loc[i].has_bought_company != 0 and X_features.loc[i].has_bought_brand != 0:\n",
    "         X_features.set_value(i,'has_bought_brand_company',1)\n"
   ]
  },
  {
   "cell_type": "code",
   "execution_count": 530,
   "metadata": {
    "collapsed": false
   },
   "outputs": [
    {
     "data": {
      "text/plain": [
       "(1753, 75)"
      ]
     },
     "execution_count": 530,
     "metadata": {},
     "output_type": "execute_result"
    }
   ],
   "source": [
    "X_features.shape"
   ]
  },
  {
   "cell_type": "code",
   "execution_count": 531,
   "metadata": {
    "collapsed": false
   },
   "outputs": [
    {
     "data": {
      "text/html": [
       "<div>\n",
       "<style>\n",
       "    .dataframe thead tr:only-child th {\n",
       "        text-align: right;\n",
       "    }\n",
       "\n",
       "    .dataframe thead th {\n",
       "        text-align: left;\n",
       "    }\n",
       "\n",
       "    .dataframe tbody tr th {\n",
       "        vertical-align: top;\n",
       "    }\n",
       "</style>\n",
       "<table border=\"1\" class=\"dataframe\">\n",
       "  <thead>\n",
       "    <tr style=\"text-align: right;\">\n",
       "      <th></th>\n",
       "      <th>id</th>\n",
       "      <th>chain</th>\n",
       "      <th>offer</th>\n",
       "      <th>market</th>\n",
       "      <th>repeattrips</th>\n",
       "      <th>repeater</th>\n",
       "      <th>offerdate</th>\n",
       "      <th>category</th>\n",
       "      <th>quantity</th>\n",
       "      <th>company</th>\n",
       "      <th>...</th>\n",
       "      <th>has_bought_brand_a_90</th>\n",
       "      <th>has_bought_brand_180</th>\n",
       "      <th>has_bought_brand_q_180</th>\n",
       "      <th>has_bought_brand_a_180</th>\n",
       "      <th>never_bought_company</th>\n",
       "      <th>never_bought_category</th>\n",
       "      <th>never_bought_brand</th>\n",
       "      <th>has_bought_brand_company_category</th>\n",
       "      <th>has_bought_brand_category</th>\n",
       "      <th>has_bought_brand_company</th>\n",
       "    </tr>\n",
       "  </thead>\n",
       "  <tbody>\n",
       "    <tr>\n",
       "      <th>0</th>\n",
       "      <td>13807224</td>\n",
       "      <td>4</td>\n",
       "      <td>1204576</td>\n",
       "      <td>1</td>\n",
       "      <td>0</td>\n",
       "      <td>f</td>\n",
       "      <td>2013-04-05</td>\n",
       "      <td>5616</td>\n",
       "      <td>1</td>\n",
       "      <td>104610040</td>\n",
       "      <td>...</td>\n",
       "      <td>0.00</td>\n",
       "      <td>1.0</td>\n",
       "      <td>1.0</td>\n",
       "      <td>4.49</td>\n",
       "      <td>0</td>\n",
       "      <td>0</td>\n",
       "      <td>0</td>\n",
       "      <td>1</td>\n",
       "      <td>1</td>\n",
       "      <td>1</td>\n",
       "    </tr>\n",
       "    <tr>\n",
       "      <th>1</th>\n",
       "      <td>16138642</td>\n",
       "      <td>4</td>\n",
       "      <td>1204576</td>\n",
       "      <td>1</td>\n",
       "      <td>0</td>\n",
       "      <td>f</td>\n",
       "      <td>2013-04-05</td>\n",
       "      <td>5616</td>\n",
       "      <td>1</td>\n",
       "      <td>104610040</td>\n",
       "      <td>...</td>\n",
       "      <td>3.99</td>\n",
       "      <td>2.0</td>\n",
       "      <td>2.0</td>\n",
       "      <td>8.98</td>\n",
       "      <td>0</td>\n",
       "      <td>1</td>\n",
       "      <td>0</td>\n",
       "      <td>0</td>\n",
       "      <td>0</td>\n",
       "      <td>1</td>\n",
       "    </tr>\n",
       "    <tr>\n",
       "      <th>2</th>\n",
       "      <td>17888308</td>\n",
       "      <td>4</td>\n",
       "      <td>1204576</td>\n",
       "      <td>1</td>\n",
       "      <td>0</td>\n",
       "      <td>f</td>\n",
       "      <td>2013-04-05</td>\n",
       "      <td>5616</td>\n",
       "      <td>1</td>\n",
       "      <td>104610040</td>\n",
       "      <td>...</td>\n",
       "      <td>0.00</td>\n",
       "      <td>0.0</td>\n",
       "      <td>0.0</td>\n",
       "      <td>0.00</td>\n",
       "      <td>1</td>\n",
       "      <td>0</td>\n",
       "      <td>1</td>\n",
       "      <td>0</td>\n",
       "      <td>0</td>\n",
       "      <td>0</td>\n",
       "    </tr>\n",
       "    <tr>\n",
       "      <th>3</th>\n",
       "      <td>18277411</td>\n",
       "      <td>4</td>\n",
       "      <td>1204576</td>\n",
       "      <td>1</td>\n",
       "      <td>0</td>\n",
       "      <td>f</td>\n",
       "      <td>2013-04-04</td>\n",
       "      <td>5616</td>\n",
       "      <td>1</td>\n",
       "      <td>104610040</td>\n",
       "      <td>...</td>\n",
       "      <td>0.00</td>\n",
       "      <td>4.0</td>\n",
       "      <td>5.0</td>\n",
       "      <td>21.45</td>\n",
       "      <td>0</td>\n",
       "      <td>0</td>\n",
       "      <td>0</td>\n",
       "      <td>1</td>\n",
       "      <td>1</td>\n",
       "      <td>1</td>\n",
       "    </tr>\n",
       "    <tr>\n",
       "      <th>4</th>\n",
       "      <td>68451850</td>\n",
       "      <td>4</td>\n",
       "      <td>1204576</td>\n",
       "      <td>1</td>\n",
       "      <td>0</td>\n",
       "      <td>f</td>\n",
       "      <td>2013-04-07</td>\n",
       "      <td>5616</td>\n",
       "      <td>1</td>\n",
       "      <td>104610040</td>\n",
       "      <td>...</td>\n",
       "      <td>0.00</td>\n",
       "      <td>1.0</td>\n",
       "      <td>1.0</td>\n",
       "      <td>3.99</td>\n",
       "      <td>0</td>\n",
       "      <td>1</td>\n",
       "      <td>0</td>\n",
       "      <td>0</td>\n",
       "      <td>0</td>\n",
       "      <td>1</td>\n",
       "    </tr>\n",
       "  </tbody>\n",
       "</table>\n",
       "<p>5 rows × 75 columns</p>\n",
       "</div>"
      ],
      "text/plain": [
       "         id  chain    offer  market  repeattrips repeater   offerdate  \\\n",
       "0  13807224      4  1204576       1            0        f  2013-04-05   \n",
       "1  16138642      4  1204576       1            0        f  2013-04-05   \n",
       "2  17888308      4  1204576       1            0        f  2013-04-05   \n",
       "3  18277411      4  1204576       1            0        f  2013-04-04   \n",
       "4  68451850      4  1204576       1            0        f  2013-04-07   \n",
       "\n",
       "   category  quantity    company            ...             \\\n",
       "0      5616         1  104610040            ...              \n",
       "1      5616         1  104610040            ...              \n",
       "2      5616         1  104610040            ...              \n",
       "3      5616         1  104610040            ...              \n",
       "4      5616         1  104610040            ...              \n",
       "\n",
       "   has_bought_brand_a_90  has_bought_brand_180  has_bought_brand_q_180  \\\n",
       "0                   0.00                   1.0                     1.0   \n",
       "1                   3.99                   2.0                     2.0   \n",
       "2                   0.00                   0.0                     0.0   \n",
       "3                   0.00                   4.0                     5.0   \n",
       "4                   0.00                   1.0                     1.0   \n",
       "\n",
       "   has_bought_brand_a_180  never_bought_company  never_bought_category  \\\n",
       "0                    4.49                     0                      0   \n",
       "1                    8.98                     0                      1   \n",
       "2                    0.00                     1                      0   \n",
       "3                   21.45                     0                      0   \n",
       "4                    3.99                     0                      1   \n",
       "\n",
       "   never_bought_brand  has_bought_brand_company_category  \\\n",
       "0                   0                                  1   \n",
       "1                   0                                  0   \n",
       "2                   1                                  0   \n",
       "3                   0                                  1   \n",
       "4                   0                                  0   \n",
       "\n",
       "   has_bought_brand_category  has_bought_brand_company  \n",
       "0                          1                         1  \n",
       "1                          0                         1  \n",
       "2                          0                         0  \n",
       "3                          1                         1  \n",
       "4                          0                         1  \n",
       "\n",
       "[5 rows x 75 columns]"
      ]
     },
     "execution_count": 531,
     "metadata": {},
     "output_type": "execute_result"
    }
   ],
   "source": [
    "X_features.head()"
   ]
  },
  {
   "cell_type": "code",
   "execution_count": 532,
   "metadata": {
    "collapsed": false
   },
   "outputs": [
    {
     "data": {
      "text/plain": [
       "0    75\n",
       "dtype: int64"
      ]
     },
     "execution_count": 532,
     "metadata": {},
     "output_type": "execute_result"
    }
   ],
   "source": [
    "#Check missing values\n",
    "check = X_features.apply(lambda x: sum(x.isnull()),axis=0)\n",
    "\n",
    "check.value_counts()"
   ]
  },
  {
   "cell_type": "markdown",
   "metadata": {},
   "source": [
    "#### Encoding <a name='Encoding' />\n",
    "\n",
    "Encoding the values to category, company, and brand."
   ]
  },
  {
   "cell_type": "code",
   "execution_count": 818,
   "metadata": {
    "collapsed": false
   },
   "outputs": [],
   "source": [
    "#Encoding the values\n",
    "category_uni = X_features.category.unique()\n",
    "for category_val in category_uni:\n",
    "    X_features['category_'+str(category_val)] = 1*(X_features['category'] == category_val)\n",
    "\n",
    "company_uni = X_features.company.unique()\n",
    "for company_val in company_uni:\n",
    "    X_features['company_'+str(company_val)] = 1*(X_features['company'] == company_val)\n",
    "\n",
    "brand_uni = X_features.brand.unique()\n",
    "for brand_val in brand_uni:\n",
    "    X_features['brand_'+str(brand_val)] = 1*(X_features['brand'] == brand_val)\n"
   ]
  },
  {
   "cell_type": "code",
   "execution_count": 819,
   "metadata": {
    "collapsed": false
   },
   "outputs": [
    {
     "data": {
      "text/html": [
       "<div>\n",
       "<style>\n",
       "    .dataframe thead tr:only-child th {\n",
       "        text-align: right;\n",
       "    }\n",
       "\n",
       "    .dataframe thead th {\n",
       "        text-align: left;\n",
       "    }\n",
       "\n",
       "    .dataframe tbody tr th {\n",
       "        vertical-align: top;\n",
       "    }\n",
       "</style>\n",
       "<table border=\"1\" class=\"dataframe\">\n",
       "  <thead>\n",
       "    <tr style=\"text-align: right;\">\n",
       "      <th></th>\n",
       "      <th>id</th>\n",
       "      <th>chain</th>\n",
       "      <th>offer</th>\n",
       "      <th>market</th>\n",
       "      <th>repeattrips</th>\n",
       "      <th>repeater</th>\n",
       "      <th>offerdate</th>\n",
       "      <th>category</th>\n",
       "      <th>quantity</th>\n",
       "      <th>company</th>\n",
       "      <th>...</th>\n",
       "      <th>company_106414464</th>\n",
       "      <th>company_104460040</th>\n",
       "      <th>company_103320030</th>\n",
       "      <th>company_107717272</th>\n",
       "      <th>brand_15889</th>\n",
       "      <th>brand_13474</th>\n",
       "      <th>brand_3718</th>\n",
       "      <th>brand_875</th>\n",
       "      <th>brand_102504</th>\n",
       "      <th>brand_7668</th>\n",
       "    </tr>\n",
       "  </thead>\n",
       "  <tbody>\n",
       "    <tr>\n",
       "      <th>0</th>\n",
       "      <td>13807224</td>\n",
       "      <td>4</td>\n",
       "      <td>1204576</td>\n",
       "      <td>1</td>\n",
       "      <td>0</td>\n",
       "      <td>f</td>\n",
       "      <td>2013-04-05</td>\n",
       "      <td>5616</td>\n",
       "      <td>1</td>\n",
       "      <td>104610040</td>\n",
       "      <td>...</td>\n",
       "      <td>0</td>\n",
       "      <td>0</td>\n",
       "      <td>0</td>\n",
       "      <td>0</td>\n",
       "      <td>1</td>\n",
       "      <td>0</td>\n",
       "      <td>0</td>\n",
       "      <td>0</td>\n",
       "      <td>0</td>\n",
       "      <td>0</td>\n",
       "    </tr>\n",
       "    <tr>\n",
       "      <th>1</th>\n",
       "      <td>16138642</td>\n",
       "      <td>4</td>\n",
       "      <td>1204576</td>\n",
       "      <td>1</td>\n",
       "      <td>0</td>\n",
       "      <td>f</td>\n",
       "      <td>2013-04-05</td>\n",
       "      <td>5616</td>\n",
       "      <td>1</td>\n",
       "      <td>104610040</td>\n",
       "      <td>...</td>\n",
       "      <td>0</td>\n",
       "      <td>0</td>\n",
       "      <td>0</td>\n",
       "      <td>0</td>\n",
       "      <td>1</td>\n",
       "      <td>0</td>\n",
       "      <td>0</td>\n",
       "      <td>0</td>\n",
       "      <td>0</td>\n",
       "      <td>0</td>\n",
       "    </tr>\n",
       "    <tr>\n",
       "      <th>2</th>\n",
       "      <td>17888308</td>\n",
       "      <td>4</td>\n",
       "      <td>1204576</td>\n",
       "      <td>1</td>\n",
       "      <td>0</td>\n",
       "      <td>f</td>\n",
       "      <td>2013-04-05</td>\n",
       "      <td>5616</td>\n",
       "      <td>1</td>\n",
       "      <td>104610040</td>\n",
       "      <td>...</td>\n",
       "      <td>0</td>\n",
       "      <td>0</td>\n",
       "      <td>0</td>\n",
       "      <td>0</td>\n",
       "      <td>1</td>\n",
       "      <td>0</td>\n",
       "      <td>0</td>\n",
       "      <td>0</td>\n",
       "      <td>0</td>\n",
       "      <td>0</td>\n",
       "    </tr>\n",
       "    <tr>\n",
       "      <th>3</th>\n",
       "      <td>18277411</td>\n",
       "      <td>4</td>\n",
       "      <td>1204576</td>\n",
       "      <td>1</td>\n",
       "      <td>0</td>\n",
       "      <td>f</td>\n",
       "      <td>2013-04-04</td>\n",
       "      <td>5616</td>\n",
       "      <td>1</td>\n",
       "      <td>104610040</td>\n",
       "      <td>...</td>\n",
       "      <td>0</td>\n",
       "      <td>0</td>\n",
       "      <td>0</td>\n",
       "      <td>0</td>\n",
       "      <td>1</td>\n",
       "      <td>0</td>\n",
       "      <td>0</td>\n",
       "      <td>0</td>\n",
       "      <td>0</td>\n",
       "      <td>0</td>\n",
       "    </tr>\n",
       "    <tr>\n",
       "      <th>4</th>\n",
       "      <td>68451850</td>\n",
       "      <td>4</td>\n",
       "      <td>1204576</td>\n",
       "      <td>1</td>\n",
       "      <td>0</td>\n",
       "      <td>f</td>\n",
       "      <td>2013-04-07</td>\n",
       "      <td>5616</td>\n",
       "      <td>1</td>\n",
       "      <td>104610040</td>\n",
       "      <td>...</td>\n",
       "      <td>0</td>\n",
       "      <td>0</td>\n",
       "      <td>0</td>\n",
       "      <td>0</td>\n",
       "      <td>1</td>\n",
       "      <td>0</td>\n",
       "      <td>0</td>\n",
       "      <td>0</td>\n",
       "      <td>0</td>\n",
       "      <td>0</td>\n",
       "    </tr>\n",
       "  </tbody>\n",
       "</table>\n",
       "<p>5 rows × 92 columns</p>\n",
       "</div>"
      ],
      "text/plain": [
       "         id  chain    offer  market  repeattrips repeater   offerdate  \\\n",
       "0  13807224      4  1204576       1            0        f  2013-04-05   \n",
       "1  16138642      4  1204576       1            0        f  2013-04-05   \n",
       "2  17888308      4  1204576       1            0        f  2013-04-05   \n",
       "3  18277411      4  1204576       1            0        f  2013-04-04   \n",
       "4  68451850      4  1204576       1            0        f  2013-04-07   \n",
       "\n",
       "   category  quantity    company     ...      company_106414464  \\\n",
       "0      5616         1  104610040     ...                      0   \n",
       "1      5616         1  104610040     ...                      0   \n",
       "2      5616         1  104610040     ...                      0   \n",
       "3      5616         1  104610040     ...                      0   \n",
       "4      5616         1  104610040     ...                      0   \n",
       "\n",
       "   company_104460040  company_103320030  company_107717272  brand_15889  \\\n",
       "0                  0                  0                  0            1   \n",
       "1                  0                  0                  0            1   \n",
       "2                  0                  0                  0            1   \n",
       "3                  0                  0                  0            1   \n",
       "4                  0                  0                  0            1   \n",
       "\n",
       "   brand_13474  brand_3718  brand_875  brand_102504  brand_7668  \n",
       "0            0           0          0             0           0  \n",
       "1            0           0          0             0           0  \n",
       "2            0           0          0             0           0  \n",
       "3            0           0          0             0           0  \n",
       "4            0           0          0             0           0  \n",
       "\n",
       "[5 rows x 92 columns]"
      ]
     },
     "execution_count": 819,
     "metadata": {},
     "output_type": "execute_result"
    }
   ],
   "source": [
    "X_features.head()"
   ]
  },
  {
   "cell_type": "code",
   "execution_count": 822,
   "metadata": {
    "collapsed": false
   },
   "outputs": [
    {
     "data": {
      "text/plain": [
       "(1753, 92)"
      ]
     },
     "execution_count": 822,
     "metadata": {},
     "output_type": "execute_result"
    }
   ],
   "source": [
    "X_features.shape"
   ]
  },
  {
   "cell_type": "code",
   "execution_count": 821,
   "metadata": {
    "collapsed": true
   },
   "outputs": [],
   "source": [
    "X_features.to_csv('X_features.csv',index=False)"
   ]
  },
  {
   "cell_type": "markdown",
   "metadata": {},
   "source": [
    "### Exploratory Data Analysis <a name='Exploratory Data Analysis' />\n",
    "\n",
    "Plot Pearson Correlation Heatmap and Univariate Plots with respect to repeat purchased probability."
   ]
  },
  {
   "cell_type": "code",
   "execution_count": 810,
   "metadata": {
    "collapsed": false
   },
   "outputs": [],
   "source": [
    "X_features['repeater'] = 1 * (X_features['repeater'] == 't')"
   ]
  },
  {
   "cell_type": "code",
   "execution_count": 811,
   "metadata": {
    "collapsed": false,
    "scrolled": false
   },
   "outputs": [
    {
     "name": "stdout",
     "output_type": "stream",
     "text": [
      "<class 'pandas.core.frame.DataFrame'>\n",
      "RangeIndex: 1753 entries, 0 to 1752\n",
      "Data columns (total 92 columns):\n",
      "id                                   1753 non-null int64\n",
      "chain                                1753 non-null int64\n",
      "offer                                1753 non-null int64\n",
      "market                               1753 non-null int64\n",
      "repeattrips                          1753 non-null int64\n",
      "repeater                             1753 non-null int64\n",
      "offerdate                            1753 non-null object\n",
      "category                             1753 non-null int64\n",
      "quantity                             1753 non-null int64\n",
      "company                              1753 non-null int64\n",
      "offervalue                           1753 non-null float64\n",
      "brand                                1753 non-null int64\n",
      "total_spend                          1753 non-null float64\n",
      "total_quant                          1753 non-null int64\n",
      "total_trips                          1753 non-null int64\n",
      "ave_spend                            1753 non-null float64\n",
      "ave_quant                            1753 non-null float64\n",
      "unique_company_bought                1753 non-null int64\n",
      "unique_category_bought               1753 non-null int64\n",
      "unique_brand_bought                  1753 non-null int64\n",
      "ave_unique_company_bought            1753 non-null float64\n",
      "ave_unique_category_bought           1753 non-null float64\n",
      "ave_unique_brand_bought              1753 non-null float64\n",
      "days_last_offer                      1753 non-null int64\n",
      "has_bought_company                   1753 non-null float64\n",
      "has_bought_company_q                 1753 non-null float64\n",
      "has_bought_company_a                 1753 non-null float64\n",
      "has_bought_company_30                1753 non-null float64\n",
      "has_bought_company_q_30              1753 non-null float64\n",
      "has_bought_company_a_30              1753 non-null float64\n",
      "has_bought_company_60                1753 non-null float64\n",
      "has_bought_company_q_60              1753 non-null float64\n",
      "has_bought_company_a_60              1753 non-null float64\n",
      "has_bought_company_90                1753 non-null float64\n",
      "has_bought_company_q_90              1753 non-null float64\n",
      "has_bought_company_a_90              1753 non-null float64\n",
      "has_bought_company_180               1753 non-null float64\n",
      "has_bought_company_q_180             1753 non-null float64\n",
      "has_bought_company_a_180             1753 non-null float64\n",
      "has_bought_category                  1753 non-null float64\n",
      "has_bought_category_q                1753 non-null float64\n",
      "has_bought_category_a                1753 non-null float64\n",
      "has_bought_category_30               1753 non-null float64\n",
      "has_bought_category_q_30             1753 non-null float64\n",
      "has_bought_category_a_30             1753 non-null float64\n",
      "has_bought_category_60               1753 non-null float64\n",
      "has_bought_category_q_60             1753 non-null float64\n",
      "has_bought_category_a_60             1753 non-null float64\n",
      "has_bought_category_90               1753 non-null float64\n",
      "has_bought_category_q_90             1753 non-null float64\n",
      "has_bought_category_a_90             1753 non-null float64\n",
      "has_bought_category_180              1753 non-null float64\n",
      "has_bought_category_q_180            1753 non-null float64\n",
      "has_bought_category_a_180            1753 non-null float64\n",
      "has_bought_brand                     1753 non-null float64\n",
      "has_bought_brand_q                   1753 non-null float64\n",
      "has_bought_brand_a                   1753 non-null float64\n",
      "has_bought_brand_30                  1753 non-null float64\n",
      "has_bought_brand_q_30                1753 non-null float64\n",
      "has_bought_brand_a_30                1753 non-null float64\n",
      "has_bought_brand_60                  1753 non-null float64\n",
      "has_bought_brand_q_60                1753 non-null float64\n",
      "has_bought_brand_a_60                1753 non-null float64\n",
      "has_bought_brand_90                  1753 non-null float64\n",
      "has_bought_brand_q_90                1753 non-null float64\n",
      "has_bought_brand_a_90                1753 non-null float64\n",
      "has_bought_brand_180                 1753 non-null float64\n",
      "has_bought_brand_q_180               1753 non-null float64\n",
      "has_bought_brand_a_180               1753 non-null float64\n",
      "never_bought_company                 1753 non-null int64\n",
      "never_bought_category                1753 non-null int64\n",
      "never_bought_brand                   1753 non-null int64\n",
      "has_bought_brand_company_category    1753 non-null int64\n",
      "has_bought_brand_category            1753 non-null int64\n",
      "has_bought_brand_company             1753 non-null int64\n",
      "category_5616                        1753 non-null int64\n",
      "category_3203                        1753 non-null int64\n",
      "category_2202                        1753 non-null int64\n",
      "category_3509                        1753 non-null int64\n",
      "category_5619                        1753 non-null int64\n",
      "category_1726                        1753 non-null int64\n",
      "company_104610040                    1753 non-null int64\n",
      "company_106414464                    1753 non-null int64\n",
      "company_104460040                    1753 non-null int64\n",
      "company_103320030                    1753 non-null int64\n",
      "company_107717272                    1753 non-null int64\n",
      "brand_15889                          1753 non-null int64\n",
      "brand_13474                          1753 non-null int64\n",
      "brand_3718                           1753 non-null int64\n",
      "brand_875                            1753 non-null int64\n",
      "brand_102504                         1753 non-null int64\n",
      "brand_7668                           1753 non-null int64\n",
      "dtypes: float64(52), int64(39), object(1)\n",
      "memory usage: 1.2+ MB\n"
     ]
    }
   ],
   "source": [
    "X_features.info()"
   ]
  },
  {
   "cell_type": "markdown",
   "metadata": {},
   "source": [
    "#### Pearson Correlation Heatmap\n",
    "Let us generate some correlation plots of the features to see how related one feature is to the next. To do so, we will utilise the Seaborn plotting package which allows us to plot heatmaps very conveniently as follow"
   ]
  },
  {
   "cell_type": "code",
   "execution_count": 812,
   "metadata": {
    "collapsed": false
   },
   "outputs": [],
   "source": [
    "X_features_cor = X_features[['repeater','offervalue','total_trips','ave_spend','ave_quant','days_last_offer',\n",
    "                             'ave_unique_company_bought','has_bought_company','has_bought_company_q','has_bought_company_a'\n",
    "                            ]]\n",
    "cor = X_features_cor.corr()"
   ]
  },
  {
   "cell_type": "code",
   "execution_count": 813,
   "metadata": {
    "collapsed": false
   },
   "outputs": [
    {
     "data": {
      "text/plain": [
       "(array([ 0.5,  1.5,  2.5,  3.5,  4.5,  5.5,  6.5,  7.5,  8.5,  9.5]),\n",
       " <a list of 10 Text yticklabel objects>)"
      ]
     },
     "execution_count": 813,
     "metadata": {},
     "output_type": "execute_result"
    },
    {
     "data": {
      "image/png": "[encoded data removed]",
      "text/plain": [
       "<matplotlib.figure.Figure at 0x13af34750>"
      ]
     },
     "metadata": {},
     "output_type": "display_data"
    }
   ],
   "source": [
    "#Plot correlation heatmap\n",
    "plt.figure(figsize=(12,12))\n",
    "sns.heatmap(cor,square=True,linewidths=0.1,annot=True)\n",
    "plt.yticks(rotation=0)"
   ]
  },
  {
   "cell_type": "markdown",
   "metadata": {},
   "source": [
    "#### Relationship: \n",
    "Plot shows that \"ave_spend\", \"ave_quant\", and \"ave_unique_company_bought\" have high positive correlation.     \n",
    "Also, \"has_bought_company\", \"has_bought_company_q\",\"has_bought_company_a\" have high positive correlation."
   ]
  },
  {
   "cell_type": "code",
   "execution_count": 814,
   "metadata": {
    "collapsed": true
   },
   "outputs": [],
   "source": [
    "#Draw Univariate Plots \n",
    "import seaborn as sns\n",
    "import matplotlib.pyplot as plt\n",
    "%matplotlib inline\n",
    "\n",
    "def draw_plot(variable):\n",
    "\n",
    "    ax1 = sns.countplot(variable,data=X_features)\n",
    "    ax1.set_ylim(0,1200)\n",
    "    ax1.grid(False)\n",
    "\n",
    "    # Calculate Defualt Rate\n",
    "    prob = X_features.groupby(variable).mean()['repeater']\n",
    "\n",
    "    # Middle point for each bar\n",
    "    xaxis=[]\n",
    "    for p in ax1.patches:  #divide into single patch\n",
    "        x=p.get_bbox().get_points()[:,0]\n",
    "        y=p.get_bbox().get_points()[1,1]\n",
    "        xaxis.append(x.mean())\n",
    "\n",
    "    # Default Rate Line\n",
    "    ax2 = ax1.twinx()\n",
    "    ax2.plot(xaxis,prob,'r--', label='Repeat Probability')\n",
    "    ax2.set_ylim(0,1)\n",
    "    ax2.set_ylabel('Repeat Purchase Probability')\n",
    "    ax2.legend()\n",
    "    ax2.grid(None) \n",
    "\n",
    "    # Annotate Defualt Rate\n",
    "    for i in range(len(prob)):\n",
    "        ax2.annotate('{:.1f}%'.format(prob.iloc[i]*100), (xaxis[i], prob.iloc[i]+0.025), \n",
    "                ha='center',va='bottom') # set the alignment of the text"
   ]
  },
  {
   "cell_type": "code",
   "execution_count": 815,
   "metadata": {
    "collapsed": false,
    "scrolled": false
   },
   "outputs": [
    {
     "data": {
      "image/png": "[encoded data removed]",
      "text/plain": [
       "<matplotlib.figure.Figure at 0x13014ced0>"
      ]
     },
     "metadata": {},
     "output_type": "display_data"
    }
   ],
   "source": [
    "plt.figure(figsize=(14, 10))\n",
    "\n",
    "plt.subplot(331)\n",
    "bins = [0,0.75,1,1.25,1.5,2,3]\n",
    "group_names =['(0,0.75]','(0.75,1]','(1,1.25]','(1.25,1.5]','(1.5,2]','(2,3]']\n",
    "X_features['offervalue_g'] = pd.cut(X_features['offervalue'],bins,labels=group_names)\n",
    "draw_plot('offervalue_g')\n",
    "\n",
    "plt.subplot(332)\n",
    "bins = [0,3333,6666,9999]\n",
    "group_names =['1-3333','3334-6666','6667-9999']\n",
    "X_features['total_spend_g'] = pd.cut(X_features['total_spend'],bins,labels=group_names)\n",
    "draw_plot('total_spend_g')\n",
    "\n",
    "plt.subplot(333)\n",
    "bins = [0,1000,2000,3000,4000,5000]\n",
    "group_names =['1-1000','1001-2000','2001-3000','3001-4000','4001-5000']\n",
    "X_features['total_quant_g'] = pd.cut(X_features['total_quant'],bins,labels=group_names)\n",
    "draw_plot('total_quant_g')\n",
    "\n",
    "plt.subplot(334)\n",
    "bins = [0,50,100,150,200]\n",
    "group_names =['1-50','51-100','101-150','151-200']\n",
    "X_features['total_trips_g'] = pd.cut(X_features['total_trips'],bins,labels=group_names)\n",
    "draw_plot('total_trips_g')\n",
    "\n",
    "plt.subplot(335)\n",
    "bins = [0,40,80,120,160,200]\n",
    "group_names =['1-40','41-80','81-120','121-160','161-200']\n",
    "X_features['ave_spend_g'] = pd.cut(X_features['ave_spend'],bins,labels=group_names)\n",
    "draw_plot('ave_spend_g')\n",
    "\n",
    "plt.subplot(336)\n",
    "bins = [0,10,20,30]\n",
    "group_names =['1-10','11-20','21-30']\n",
    "X_features['ave_quant_g'] = pd.cut(X_features['ave_quant'],bins,labels=group_names)\n",
    "draw_plot('ave_quant_g')\n",
    "\n",
    "plt.subplot(337)\n",
    "bins = [0,5,10,15,20]\n",
    "group_names =['1-5','6-10','11-15','16-20']\n",
    "X_features['days_last_offer_g'] = pd.cut(X_features['days_last_offer'],bins,labels=group_names)\n",
    "draw_plot('days_last_offer_g')\n",
    "\n",
    "plt.subplot(338)\n",
    "bins = [0,2,4,6,8,10]\n",
    "group_names =['1-2','3-4','5-6','7-8','9-10']\n",
    "X_features['ave_unique_company_bought _g'] = pd.cut(X_features['ave_unique_company_bought'],bins,labels=group_names)\n",
    "draw_plot('ave_unique_company_bought _g')\n",
    "\n",
    "plt.subplot(339)\n",
    "bins = [0,2,4,6,8,10]\n",
    "group_names =['1-2','3-4','5-6','7-8','9-10']\n",
    "X_features['ave_unique_category_bought_g'] = pd.cut(X_features['ave_unique_category_bought'],bins,labels=group_names)\n",
    "draw_plot('ave_unique_category_bought_g')\n",
    "\n",
    "plt.tight_layout()"
   ]
  },
  {
   "cell_type": "code",
   "execution_count": 816,
   "metadata": {
    "collapsed": false
   },
   "outputs": [
    {
     "data": {
      "image/png": "[encoded data removed]",
      "text/plain": [
       "<matplotlib.figure.Figure at 0x13014cdd0>"
      ]
     },
     "metadata": {},
     "output_type": "display_data"
    }
   ],
   "source": [
    "plt.figure(figsize=(14, 10))\n",
    "\n",
    "plt.subplot(331)\n",
    "bins = [0,2,4,6,8,10]\n",
    "group_names =['1-2','3-4','5-6','7-8','9-10']\n",
    "X_features['has_bought_company_g'] = pd.cut(X_features['has_bought_company'],bins,labels=group_names)\n",
    "draw_plot('has_bought_company_g')\n",
    "\n",
    "plt.subplot(332)\n",
    "bins = [0,20,40,60,80,100]\n",
    "group_names =['1-20','21-40','41-60','61-8','81-100']\n",
    "X_features['has_bought_company_a_g'] = pd.cut(X_features['has_bought_company_a'],bins,labels=group_names)\n",
    "draw_plot('has_bought_company_a_g')\n",
    "\n",
    "plt.subplot(333)\n",
    "bins = [0,2,4,6,8,10]\n",
    "group_names =['1-2','3-4','5-6','7-8','9-10']\n",
    "X_features['has_bought_company_q_g'] = pd.cut(X_features['has_bought_company_q'],bins,labels=group_names)\n",
    "draw_plot('has_bought_company_q_g')\n",
    "\n",
    "plt.subplot(334)\n",
    "bins = [-1,0,1]\n",
    "group_names =['0','1']\n",
    "X_features['never_bought_company_g'] = pd.cut(X_features['never_bought_company'],bins,labels=group_names)\n",
    "draw_plot('never_bought_company_g')\n",
    "\n",
    "plt.subplot(335)\n",
    "bins = [-1,0,1]\n",
    "group_names =['0','1']\n",
    "X_features['never_bought_brand_g'] = pd.cut(X_features['never_bought_brand'],bins,labels=group_names)\n",
    "draw_plot('never_bought_brand_g')\n",
    "\n",
    "plt.subplot(336)\n",
    "bins = [-1,0,1]\n",
    "group_names =['0','1']\n",
    "X_features['never_bought_category_g'] = pd.cut(X_features['never_bought_category'],bins,labels=group_names)\n",
    "draw_plot('never_bought_category_g')\n",
    "\n",
    "plt.tight_layout()"
   ]
  },
  {
   "cell_type": "markdown",
   "metadata": {},
   "source": [
    "### Algorithms  Selection<a name='Implementing Algorithms' />\n",
    "\n",
    "- Let Y_features equals 'repater'\n",
    "- Drop unnecessary features in X_features ('id','chain','offer','category','company','brand','repeater','repeattrips','offerdate')\n",
    "- Split the data into training and test sets\n",
    "- Tune The regularization parameters in Logistic Regression using 10 folds cross-validation and check the highest AUC score\n",
    "- Implement Naive Bayes and check AUC score\n",
    "- Tune the number of trees and max depth in XGBoost using 10 folds cross-validation and check the highest AUC score\n",
    "\n",
    "**Conclusion**: Highest AUC score is for XGBoost algorithm with max_depth=4 and n_estimators=20, which is 59.03%."
   ]
  },
  {
   "cell_type": "code",
   "execution_count": 711,
   "metadata": {
    "collapsed": false
   },
   "outputs": [],
   "source": [
    "#Predction using Scikit learn\n",
    "from sklearn.linear_model import LogisticRegression\n",
    "from sklearn.naive_bayes import GaussianNB\n",
    "from xgboost import XGBClassifier\n",
    "from sklearn.cross_validation import train_test_split\n",
    "from sklearn.metrics import roc_auc_score\n",
    "from sklearn import metrics\n",
    "from sklearn.model_selection import GridSearchCV\n",
    "from sklearn.model_selection import StratifiedKFold\n",
    "import matplotlib\n",
    "%matplotlib inline\n",
    "from matplotlib import pyplot\n",
    "import numpy\n",
    "#from sklearn.feature_selection import f_classif, SelectKBest\n",
    "#from sklearn.pipeline import Pipeline"
   ]
  },
  {
   "cell_type": "code",
   "execution_count": 825,
   "metadata": {
    "collapsed": false
   },
   "outputs": [
    {
     "data": {
      "text/plain": [
       "(1753, 92)"
      ]
     },
     "execution_count": 825,
     "metadata": {},
     "output_type": "execute_result"
    }
   ],
   "source": [
    "X_features = pd.read_csv('X_features.csv')\n",
    "X_features.shape"
   ]
  },
  {
   "cell_type": "code",
   "execution_count": 826,
   "metadata": {
    "collapsed": false
   },
   "outputs": [
    {
     "name": "stderr",
     "output_type": "stream",
     "text": [
      "/Users/Frank/anaconda/lib/python2.7/site-packages/ipykernel/__main__.py:2: SettingWithCopyWarning: \n",
      "A value is trying to be set on a copy of a slice from a DataFrame.\n",
      "Try using .loc[row_indexer,col_indexer] = value instead\n",
      "\n",
      "See the caveats in the documentation: http://pandas.pydata.org/pandas-docs/stable/indexing.html#indexing-view-versus-copy\n",
      "  from ipykernel import kernelapp as app\n"
     ]
    }
   ],
   "source": [
    "Y_features = X_features[['id','repeater']]\n",
    "Y_features['repeater'] = 1 * (Y_features['repeater'] == 't')\n",
    "X_features.drop(['id','chain','offer','market','quantity','category','company','brand','repeater','repeattrips','offerdate','never_bought_company','never_bought_category','never_bought_brand'],axis=1,inplace=True)"
   ]
  },
  {
   "cell_type": "code",
   "execution_count": 827,
   "metadata": {
    "collapsed": false
   },
   "outputs": [],
   "source": [
    "# Split the data into training and test sets\n",
    "X_train,X_test,Y_train,Y_test=train_test_split(X_features,Y_features.repeater,test_size=0.5,random_state=3)"
   ]
  },
  {
   "cell_type": "markdown",
   "metadata": {},
   "source": [
    "#### Logistic Regression"
   ]
  },
  {
   "cell_type": "code",
   "execution_count": 828,
   "metadata": {
    "collapsed": false
   },
   "outputs": [
    {
     "name": "stdout",
     "output_type": "stream",
     "text": [
      "[0.03, 0.09, 0.27, 0.81, 1.0, 3.0, 9.0, 27.0, 81.0, 243.0]\n",
      "Fitting 10 folds for each of 10 candidates, totalling 100 fits\n"
     ]
    },
    {
     "name": "stderr",
     "output_type": "stream",
     "text": [
      "[Parallel(n_jobs=-1)]: Done  42 tasks      | elapsed:    2.1s\n"
     ]
    },
    {
     "name": "stdout",
     "output_type": "stream",
     "text": [
      "Best: 0.571551 using {'C': 3.0}\n",
      "0.560689 (0.060381) with: {'C': 0.03}\n",
      "0.565400 (0.057915) with: {'C': 0.09}\n",
      "0.568173 (0.053910) with: {'C': 0.27}\n",
      "0.570983 (0.056093) with: {'C': 0.81}\n",
      "0.570413 (0.055196) with: {'C': 1.0}\n",
      "0.571551 (0.057110) with: {'C': 3.0}\n",
      "0.570150 (0.056206) with: {'C': 9.0}\n",
      "0.570114 (0.054384) with: {'C': 27.0}\n",
      "0.569834 (0.055312) with: {'C': 81.0}\n",
      "0.570644 (0.055516) with: {'C': 243.0}\n"
     ]
    },
    {
     "name": "stderr",
     "output_type": "stream",
     "text": [
      "[Parallel(n_jobs=-1)]: Done 100 out of 100 | elapsed:    4.4s finished\n"
     ]
    }
   ],
   "source": [
    "#Hyperparameter Tuning: tune regularization parameter in 10-fold cross-validation\n",
    "model = LogisticRegression()\n",
    "C = [0.03,0.09,0.27,0.81,1.0,3.0,9.0,27.0,81.0,243.0]\n",
    "print(C)\n",
    "param_grid = dict(C=C)\n",
    "kfold = StratifiedKFold(n_splits=10, shuffle=True, random_state=7)\n",
    "grid_search = GridSearchCV(model, param_grid, scoring=\"roc_auc\", n_jobs=-1, cv=kfold, verbose=1)\n",
    "grid_result = grid_search.fit(X_features, Y_features.repeater)\n",
    "# summarize results\n",
    "print(\"Best: %f using %s\" % (grid_result.best_score_, grid_result.best_params_))\n",
    "means = grid_result.cv_results_['mean_test_score']\n",
    "stds = grid_result.cv_results_['std_test_score']\n",
    "params = grid_result.cv_results_['params']\n",
    "for mean, stdev, param in zip(means, stds, params):\n",
    "    print(\"%f (%f) with: %r\" % (mean, stdev, param))"
   ]
  },
  {
   "cell_type": "markdown",
   "metadata": {},
   "source": [
    "#### Gaussian Naive Bayes"
   ]
  },
  {
   "cell_type": "code",
   "execution_count": 829,
   "metadata": {
    "collapsed": false
   },
   "outputs": [
    {
     "name": "stdout",
     "output_type": "stream",
     "text": [
      "AUC score is: 57.45%\n"
     ]
    }
   ],
   "source": [
    "# Fit the training model\n",
    "NB = GaussianNB()\n",
    "NB.fit(X_train,Y_train)\n",
    "\n",
    "# Prediction from X_test\n",
    "Y_pred = NB.predict(X_test)\n",
    "prob = NB.predict_proba(X_test)\n",
    "score = roc_auc_score(Y_test,prob[:,1])\n",
    "print 'AUC score is: {:.2%}'.format(score)"
   ]
  },
  {
   "cell_type": "markdown",
   "metadata": {},
   "source": [
    "#### XGBoost"
   ]
  },
  {
   "cell_type": "code",
   "execution_count": 830,
   "metadata": {
    "collapsed": false
   },
   "outputs": [
    {
     "name": "stdout",
     "output_type": "stream",
     "text": [
      "[2, 4, 6, 8]\n",
      "Fitting 10 folds for each of 16 candidates, totalling 160 fits\n"
     ]
    },
    {
     "name": "stderr",
     "output_type": "stream",
     "text": [
      "[Parallel(n_jobs=-1)]: Done 128 tasks      | elapsed:    3.8s\n",
      "[Parallel(n_jobs=-1)]: Done 160 out of 160 | elapsed:    5.6s finished\n"
     ]
    },
    {
     "name": "stdout",
     "output_type": "stream",
     "text": [
      "Best: 0.590369 using {'n_estimators': 20, 'max_depth': 4}\n",
      "0.586123 (0.031880) with: {'n_estimators': 5, 'max_depth': 2}\n",
      "0.589812 (0.029528) with: {'n_estimators': 10, 'max_depth': 2}\n",
      "0.587175 (0.029530) with: {'n_estimators': 15, 'max_depth': 2}\n",
      "0.576876 (0.026797) with: {'n_estimators': 20, 'max_depth': 2}\n",
      "0.571823 (0.039829) with: {'n_estimators': 5, 'max_depth': 4}\n",
      "0.570506 (0.037144) with: {'n_estimators': 10, 'max_depth': 4}\n",
      "0.577829 (0.035116) with: {'n_estimators': 15, 'max_depth': 4}\n",
      "0.590369 (0.041388) with: {'n_estimators': 20, 'max_depth': 4}\n",
      "0.557676 (0.038467) with: {'n_estimators': 5, 'max_depth': 6}\n",
      "0.561769 (0.042354) with: {'n_estimators': 10, 'max_depth': 6}\n",
      "0.559618 (0.052611) with: {'n_estimators': 15, 'max_depth': 6}\n",
      "0.568080 (0.059684) with: {'n_estimators': 20, 'max_depth': 6}\n",
      "0.569927 (0.045418) with: {'n_estimators': 5, 'max_depth': 8}\n",
      "0.558079 (0.047101) with: {'n_estimators': 10, 'max_depth': 8}\n",
      "0.563709 (0.061355) with: {'n_estimators': 15, 'max_depth': 8}\n",
      "0.563360 (0.063098) with: {'n_estimators': 20, 'max_depth': 8}\n"
     ]
    },
    {
     "data": {
      "text/plain": [
       "<matplotlib.text.Text at 0x15bc17990>"
      ]
     },
     "execution_count": 830,
     "metadata": {},
     "output_type": "execute_result"
    },
    {
     "data": {
      "image/png": "[encoded data removed]",
      "text/plain": [
       "<matplotlib.figure.Figure at 0x15bbc8290>"
      ]
     },
     "metadata": {},
     "output_type": "display_data"
    }
   ],
   "source": [
    "#Hyperparameter Tuning: tune The Number of Trees and Max Depth in XGBoost (10 foldes cross-validation)\n",
    "# grid search\n",
    "model = XGBClassifier()\n",
    "n_estimators = [5, 10, 15, 20]\n",
    "max_depth = [2, 4, 6, 8]\n",
    "print(max_depth)\n",
    "param_grid = dict(max_depth=max_depth, n_estimators=n_estimators)\n",
    "kfold = StratifiedKFold(n_splits=10, shuffle=True, random_state=7)\n",
    "grid_search = GridSearchCV(model, param_grid, scoring=\"roc_auc\", n_jobs=-1, cv=kfold, verbose=1)\n",
    "grid_result = grid_search.fit(X_features, Y_features.repeater)\n",
    "# summarize results\n",
    "print(\"Best: %f using %s\" % (grid_result.best_score_, grid_result.best_params_))\n",
    "means = grid_result.cv_results_['mean_test_score']\n",
    "stds = grid_result.cv_results_['std_test_score']\n",
    "params = grid_result.cv_results_['params']\n",
    "for mean, stdev, param in zip(means, stds, params):\n",
    "    print(\"%f (%f) with: %r\" % (mean, stdev, param))\n",
    "# plot results\n",
    "scores = numpy.array(means).reshape(len(max_depth), len(n_estimators))\n",
    "for i, value in enumerate(max_depth):\n",
    "    pyplot.plot(n_estimators, scores[i], label='depth: ' + str(value))\n",
    "pyplot.legend()\n",
    "pyplot.xlabel('n_estimators')\n",
    "pyplot.ylabel('Log Loss')\n"
   ]
  },
  {
   "cell_type": "code",
   "execution_count": null,
   "metadata": {
    "collapsed": true
   },
   "outputs": [],
   "source": []
  }
 ],
 "metadata": {
  "anaconda-cloud": {},
  "kernelspec": {
   "display_name": "Python [conda root]",
   "language": "python",
   "name": "conda-root-py"
  },
  "language_info": {
   "codemirror_mode": {
    "name": "ipython",
    "version": 2
   },
   "file_extension": ".py",
   "mimetype": "text/x-python",
   "name": "python",
   "nbconvert_exporter": "python",
   "pygments_lexer": "ipython2",
   "version": "2.7.13"
  }
 },
 "nbformat": 4,
 "nbformat_minor": 1
}
