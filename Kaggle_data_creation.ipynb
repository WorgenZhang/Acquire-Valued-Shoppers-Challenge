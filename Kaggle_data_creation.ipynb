{
 "cells": [
  {
   "cell_type": "code",
   "execution_count": null,
   "metadata": {
    "collapsed": false
   },
   "outputs": [],
   "source": [
    "import numpy as np \n",
    "\n",
    "#Make sure this file is in the same folder as transactions.csv file\n",
    "ids=np.loadtxt('transactions.csv',dtype=str,delimiter=',',usecols=(1,))"
   ]
  },
  {
   "cell_type": "code",
   "execution_count": 23,
   "metadata": {
    "collapsed": false
   },
   "outputs": [],
   "source": [
    "#Chosing transactions from only one chain. Chain_id = 4\n",
    "loc_transactions = \"transactions.csv\"\n",
    "loc_reduced = \"reduced2.csv\"  #Output file \n",
    "def reduce_data(loc_transactions, loc_reduced):\n",
    "    with open(loc_reduced, \"wb\") as outfile:\n",
    "        for e, line in enumerate( open(loc_transactions) ):\n",
    "            if line.split(\",\")[1] in ['4']:  # If you want larger data, use ['2,'4','8'] instead of ['4'].\n",
    "                outfile.write( line )\n",
    "\n",
    "reduce_data(loc_transactions, loc_reduced)\n",
    "#reduced2.csv contains transactions from chain_id = 4 (Only one chain).\n",
    "#redcued2.csv is your new transactions data. Use customers in this transaction data to build a model."
   ]
  },
  {
   "cell_type": "code",
   "execution_count": null,
   "metadata": {
    "collapsed": true
   },
   "outputs": [],
   "source": [
    "import pandas as pd\n",
    "data=pd.read_csv(\"reduced2.csv\",header=None,names=[\"id\",\"chain\",\"dept\",'category','company','brand','date','productsize','productmeasure','productquantity','productamount'])\n",
    "data.head()"
   ]
  },
  {
   "cell_type": "code",
   "execution_count": null,
   "metadata": {
    "collapsed": false
   },
   "outputs": [],
   "source": [
    "#Following code is to keep data only from 1 year from reduced2.csv. Not required to run this.\n",
    "#Import the data reduced2.csv again\n",
    "\n",
    "#Filter out row from only year\n",
    "data_s=data.drop(data.index[0])\n",
    "#data.head()\n",
    "drops=[]\n",
    "for i in range(len(data.id)):\n",
    "    dates=data.date[i].strip().split('-')\n",
    "    if (dates[0]=='2012' and int(dates[1])>=5) or (dates[0]=='2013' and int(dates[1])<5):\n",
    "        a=1\n",
    "    else:\n",
    "        drops.append(data.index[i])\n",
    "        \n",
    "data_s=data.drop(drops)\n",
    "data_s.reset_index(inplace=True,drop=True)"
   ]
  }
 ],
 "metadata": {
  "anaconda-cloud": {},
  "kernelspec": {
   "display_name": "Python 3",
   "language": "python",
   "name": "python3"
  },
  "language_info": {
   "codemirror_mode": {
    "name": "ipython",
    "version": 3
   },
   "file_extension": ".py",
   "mimetype": "text/x-python",
   "name": "python",
   "nbconvert_exporter": "python",
   "pygments_lexer": "ipython3",
   "version": "3.6.0"
  }
 },
 "nbformat": 4,
 "nbformat_minor": 1
}
